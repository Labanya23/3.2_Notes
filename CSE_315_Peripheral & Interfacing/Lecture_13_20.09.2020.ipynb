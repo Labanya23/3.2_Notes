{
 "cells": [
  {
   "cell_type": "markdown",
   "metadata": {},
   "source": [
    "<div class=\"alert alert-success\">\n",
    "    <b>Author</b>:\n",
    "\n",
    "      Rashik Rahman\n",
    "      17201012@uap-bd.edu\n",
    "\n",
    "</div>\n",
    "\n",
    "# [Click here to see class lecture](https://drive.google.com/file/d/1-mdhmH8UsNgYIhYpkvA84TKBccTFVevS/view)"
   ]
  },
  {
   "cell_type": "markdown",
   "metadata": {},
   "source": [
    "Half subtractor find difference between A & B. In row 1 difference between 0 - 0 is 0 so difference(D) = 0 and borrow(B) = 0. In row 2 to subtract 1 from 0 we need to borrow 1 so it becomes like difference between 1-1. So here difference(D) = 0 and borrow(B) = 1. In row 3 the difference between 1 - 0 is D = 1 and B = 0. And for the last row difference of 1 - 1 is D = 0 and B = 0.\n",
    "\n",
    "![image.png](figures/fig212.PNG)\n",
    "\n",
    "D = A^B(symbol in code) means A XOR B.\n",
    "B = !A & B (symbol in code) means Anot and B.\n",
    "\n",
    "![image.png](figures/fig213.PNG)\n",
    "\n",
    "![image.png](figures/fig214.PNG)\n",
    "\n",
    "![image.png](figures/fig215.PNG)\n",
    "\n",
    "![image.png](figures/fig216.PNG)\n",
    "\n",
    "![image.png](figures/fig217.PNG)"
   ]
  },
  {
   "cell_type": "markdown",
   "metadata": {},
   "source": [
    "# That's all for this lecture!"
   ]
  }
 ],
 "metadata": {
  "kernelspec": {
   "display_name": "Python 3",
   "language": "python",
   "name": "python3"
  },
  "language_info": {
   "codemirror_mode": {
    "name": "ipython",
    "version": 3
   },
   "file_extension": ".py",
   "mimetype": "text/x-python",
   "name": "python",
   "nbconvert_exporter": "python",
   "pygments_lexer": "ipython3",
   "version": "3.7.6"
  }
 },
 "nbformat": 4,
 "nbformat_minor": 4
}
