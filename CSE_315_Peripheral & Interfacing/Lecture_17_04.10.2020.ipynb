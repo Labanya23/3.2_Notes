{
 "cells": [
  {
   "cell_type": "markdown",
   "metadata": {},
   "source": [
    "<div class=\"alert alert-success\">\n",
    "    <b>Author</b>:\n",
    "\n",
    "      Rashik Rahman\n",
    "      17201012@uap-bd.edu\n",
    "\n",
    "</div>\n",
    "\n",
    "# [Click here to see class lecture](https://drive.google.com/file/d/1wfxN1TzbHDl7RTt9XW7-f5clQUr1usx8/view)"
   ]
  },
  {
   "cell_type": "markdown",
   "metadata": {},
   "source": [
    "\n",
    "![image.png](figures/fig272.PNG)\n",
    "\n",
    "![image.png](figures/fig273.PNG)\n",
    "\n",
    "![image.png](figures/fig274.PNG)\n",
    "\n",
    "![image.png](figures/fig275.PNG)\n",
    "\n",
    "![image.png](figures/fig276.PNG)\n",
    "\n",
    "## [To see how it works click here](https://www.youtube.com/watch?v=ditS0a28Sko&ab_channel=RealPars)\n",
    "\n",
    "![image.png](figures/fig233.PNG)\n",
    "\n",
    "![image.png](figures/fig231.PNG)\n",
    "\n",
    "![image.png](figures/fig232.PNG)\n",
    "\n",
    "![image.png](figures/fig234.PNG)\n",
    "\n",
    "\n",
    "\n",
    "Encoder pass the info about the position of the shaft to amplifier. Amplifier then sends the data to control circuit. Control circuit then decides the next position of the shaft and in what speed should the shaft move. Then control circuit passes the decision to amplifier. Amplifier then sends the data to servo motor and then motor moves the shaft. This steps happens again and again. Thus it is called a closed loop system. Amplifier just amplifies the signal.\n",
    "\n",
    "![image.png](figures/fig235.PNG)"
   ]
  },
  {
   "cell_type": "markdown",
   "metadata": {},
   "source": [
    "Classification of AC and DC motor.\n",
    "\n",
    "![image.png](figures/fig236.PNG)\n",
    "\n",
    "![image.png](figures/fig237.PNG)\n",
    "\n",
    "![image.png](figures/fig238.PNG)\n",
    "\n",
    "Don't consider the performance data of asynchronous.\n",
    "\n",
    "![image.png](figures/fig239.PNG)"
   ]
  },
  {
   "cell_type": "markdown",
   "metadata": {},
   "source": [
    "\n",
    "\n",
    "![image.png](figures/fig240.PNG)\n",
    "\n",
    "Gear assembly position is also determined by control circuit. Through the blue line voltage is passed to amplifier, amplifier amplifies the signal/ voltage so that motor can get the accurate voltage after line loss. The green line is for to control the position and speed this is done by position sensing device.\n",
    "\n",
    "![image.png](figures/fig241.PNG)\n",
    "\n",
    "synchronous\n",
    "\n",
    "![image.png](figures/fig242.PNG)\n",
    "\n",
    "asynchronous\n",
    "\n",
    "![image.png](figures/fig243.PNG)\n",
    "\n",
    "![image.png](figures/fig244.PNG)\n",
    "\n",
    "synchronous would be of two parts a stator and a rotor\n",
    "\n",
    "![image.png](figures/fig245.PNG)\n",
    "\n",
    "In the stator there aer frame, core, coil and lead wire. current is passed through this lead wire.\n",
    "\n",
    "![image.png](figures/fig246.PNG)\n",
    "\n",
    "Rotor is a permanent magnet. \n",
    "\n",
    "![image.png](figures/fig247.PNG)\n",
    "\n",
    "Here rotor and stator rotates at the same speed due to when we pass current a electro magnetic field is created.\n",
    "\n",
    "![image.png](figures/fig248.PNG)"
   ]
  },
  {
   "cell_type": "markdown",
   "metadata": {},
   "source": [
    "Now lets see asynchronous motor, due to electro magnetic flux the shaft and the core moves at different speed. Thats why its called asynchronous motor. The shaft will rotate slower.\n",
    "\n",
    "![image.png](figures/fig249.PNG)\n",
    "\n",
    "Servo motor driver.\n",
    "\n",
    "![image.png](figures/fig250.PNG)\n",
    "\n",
    "![image.png](figures/fig251.PNG)\n",
    "\n",
    "L293D is a Shield like other shield we have seen before.\n",
    "\n",
    "![image.png](figures/fig253.PNG)\n",
    "\n",
    "![image.png](figures/fig252.PNG)\n",
    "\n",
    "![image.png](figures/fig255.PNG)\n",
    "\n",
    "![image.png](figures/fig256.PNG)\n",
    "\n",
    "![image.png](figures/fig257.PNG)\n",
    "\n",
    "![image.png](figures/fig259.PNG)\n",
    "\n",
    "![image.png](figures/fig260.PNG)\n",
    "\n",
    "![image.png](figures/fig258.PNG)"
   ]
  },
  {
   "cell_type": "markdown",
   "metadata": {},
   "source": [
    "# That's all for this lecture!"
   ]
  }
 ],
 "metadata": {
  "kernelspec": {
   "display_name": "Python 3",
   "language": "python",
   "name": "python3"
  },
  "language_info": {
   "codemirror_mode": {
    "name": "ipython",
    "version": 3
   },
   "file_extension": ".py",
   "mimetype": "text/x-python",
   "name": "python",
   "nbconvert_exporter": "python",
   "pygments_lexer": "ipython3",
   "version": "3.7.6"
  }
 },
 "nbformat": 4,
 "nbformat_minor": 4
}
