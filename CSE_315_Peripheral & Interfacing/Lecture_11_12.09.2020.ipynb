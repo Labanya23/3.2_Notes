{
 "cells": [
  {
   "cell_type": "markdown",
   "metadata": {},
   "source": [
    "<div class=\"alert alert-success\">\n",
    "    <b>Author</b>:\n",
    "\n",
    "      Rashik Rahman\n",
    "      17201012@uap-bd.edu\n",
    "\n",
    "</div>\n",
    "\n",
    "# [Click here to see class lecture](https://drive.google.com/file/d/1BvuZ1EXbcSiImMEonV6gf39kwE63O3NY/view)"
   ]
  },
  {
   "cell_type": "markdown",
   "metadata": {},
   "source": [
    "![image.png](figures/fig190.PNG)\n",
    "![image.png](figures/fig191.PNG)\n",
    "![image.png](figures/fig192.PNG)\n",
    "![image.png](figures/fig193.PNG)\n",
    "![image.png](figures/fig194.PNG)\n",
    "![image.png](figures/fig195.PNG)\n",
    "![image.png](figures/fig196.PNG)\n",
    "![image.png](figures/fig197.PNG)"
   ]
  },
  {
   "cell_type": "markdown",
   "metadata": {},
   "source": [
    "Given a function of Y we need to first simplify it. Now here are 5 variables so in code we'll take 5 variables for input.\n",
    "\n",
    "![image.png](figures/fig198.PNG)\n",
    "\n",
    "We can initiate the variables in byte cause byte takes less memory.\n",
    "\n",
    "![image.png](figures/fig199.PNG)\n",
    "\n",
    "We are doing arduino code for the simplified equation. As the equation is boolean algebra. So in the equation multiply means and operation and add means or operation.\n",
    "\n",
    "![image.png](figures/fig200.PNG)\n",
    "\n",
    "![image.png](figures/fig201.PNG)\n",
    "\n",
    "![image.png](figures/fig202.PNG)\n",
    "\n",
    "![image.png](figures/fig203.PNG)"
   ]
  },
  {
   "cell_type": "markdown",
   "metadata": {},
   "source": [
    "# That's all for today's lecture!"
   ]
  }
 ],
 "metadata": {
  "kernelspec": {
   "display_name": "Python 3",
   "language": "python",
   "name": "python3"
  },
  "language_info": {
   "codemirror_mode": {
    "name": "ipython",
    "version": 3
   },
   "file_extension": ".py",
   "mimetype": "text/x-python",
   "name": "python",
   "nbconvert_exporter": "python",
   "pygments_lexer": "ipython3",
   "version": "3.7.6"
  }
 },
 "nbformat": 4,
 "nbformat_minor": 4
}
