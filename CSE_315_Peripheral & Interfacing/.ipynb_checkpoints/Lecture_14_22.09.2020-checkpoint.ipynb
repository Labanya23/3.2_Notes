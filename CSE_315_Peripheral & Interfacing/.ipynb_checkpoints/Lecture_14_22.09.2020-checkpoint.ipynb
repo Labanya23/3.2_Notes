{
 "cells": [
  {
   "cell_type": "markdown",
   "metadata": {},
   "source": [
    "<div class=\"alert alert-success\">\n",
    "    <b>Author</b>:\n",
    "\n",
    "      Rashik Rahman\n",
    "      17201012@uap-bd.edu\n",
    "\n",
    "</div>\n",
    "\n",
    "# [Click here to see class lecture](https://drive.google.com/file/d/1n218R4AufrcFzMy7ZW1utP7efSL4_WCc/view)"
   ]
  },
  {
   "cell_type": "markdown",
   "metadata": {},
   "source": [
    "![image.png](figures/fig218.PNG)\n",
    "\n",
    "Works with soundwaves. And we can measure distance using it.\n",
    "\n",
    "![image.png](figures/fig219.PNG)\n",
    "\n",
    "Here we can see two section in the sensor one is sound generator, and another one is sound receiver. Receiver receives the reflected soundwaves. \n",
    "\n",
    "![image.png](figures/fig220.PNG)\n",
    "\n",
    "![image.png](figures/fig221.PNG)\n",
    "\n",
    "![image.png](figures/fig222.PNG)\n",
    "\n",
    "![image.png](figures/fig223.PNG)\n",
    "\n",
    "![image.png](figures/fig224.PNG)"
   ]
  },
  {
   "cell_type": "markdown",
   "metadata": {},
   "source": [
    "![image.png](figures/fig225.PNG)\n",
    "\n",
    "![image.png](figures/fig226.PNG)\n",
    "\n",
    "![image.png](figures/fig227.PNG)\n",
    "\n",
    "Here the trigPin is 1st set to LOW cause to avoid any other noise then its HIGH. When high waves emit through it. Then it low. Now echoPin will receive the reflected waves. pulsIn is a library widely used for sonar sensor. Duration is divided by 2. Cause here duration is the time the wave goes and reflected back so the duration distance is doubled when the wave is received. Thus dividing the duration gives us only the duration from the sensor to the point of reflection and with it we can get distance. Here we multiply the duration with `0.0343` the reason is explained below. If an obstacle is with in 10cm then LED high otherwise low.\n",
    "\n",
    "![image.png](figures/fig228.PNG)\n",
    "\n",
    "We know that velocity in air is 343 meters per second. If we convert it to cm/us then it becomes 0.0343cm/us. And if we multiply duration/time with it we get distance.\n",
    "\n",
    "![image.png](figures/fig229.PNG)\n",
    "\n",
    "![image.png](figures/fig230.PNG)"
   ]
  },
  {
   "cell_type": "markdown",
   "metadata": {},
   "source": [
    "# That's all for this lecture!"
   ]
  }
 ],
 "metadata": {
  "kernelspec": {
   "display_name": "Python 3",
   "language": "python",
   "name": "python3"
  },
  "language_info": {
   "codemirror_mode": {
    "name": "ipython",
    "version": 3
   },
   "file_extension": ".py",
   "mimetype": "text/x-python",
   "name": "python",
   "nbconvert_exporter": "python",
   "pygments_lexer": "ipython3",
   "version": "3.7.6"
  }
 },
 "nbformat": 4,
 "nbformat_minor": 4
}
