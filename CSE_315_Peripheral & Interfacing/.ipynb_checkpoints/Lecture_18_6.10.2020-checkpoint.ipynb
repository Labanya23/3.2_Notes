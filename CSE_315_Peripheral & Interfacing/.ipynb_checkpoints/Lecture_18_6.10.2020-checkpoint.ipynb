{
 "cells": [
  {
   "cell_type": "markdown",
   "metadata": {},
   "source": [
    "<div class=\"alert alert-success\">\n",
    "    <b>Author</b>:\n",
    "\n",
    "      Rashik Rahman\n",
    "      17201012@uap-bd.edu\n",
    "\n",
    "</div>\n",
    "\n",
    "# [Click here to see class lecture](https://drive.google.com/file/d/1nFbn1PRRTMXDRdy_5QYZwYXLfygV1Emu/view)"
   ]
  },
  {
   "cell_type": "markdown",
   "metadata": {},
   "source": [
    "![image.png](figures/fig261.PNG)\n",
    "\n",
    "![image.png](figures/fig262.PNG)\n",
    "\n",
    "![image.png](figures/fig263.PNG)\n",
    "\n",
    "![image.png](figures/fig264.PNG)\n",
    "\n",
    "![image.png](figures/fig265.PNG)\n",
    "\n",
    "![image.png](figures/fig266.PNG)"
   ]
  },
  {
   "cell_type": "markdown",
   "metadata": {},
   "source": [
    "\n",
    "\n",
    "![image.png](figures/fig267.PNG)\n",
    "\n",
    "![image.png](figures/fig268.PNG)\n",
    "\n",
    "![image.png](figures/fig269.PNG)\n",
    "\n",
    "![image.png](figures/fig270.PNG)\n",
    "\n",
    "![image.png](figures/fig271.PNG)"
   ]
  },
  {
   "cell_type": "markdown",
   "metadata": {},
   "source": [
    "**see the video for edge computing**\n",
    "\n",
    "From the paper,\n",
    "\n",
    "# 1 What is edge computing.\n",
    "\n",
    "Data is increasingly produced at the edge of the network,therefore, it would be more efficient to also process the data at the edge of the network  In this section, we list some reasons why edge computing is more efficient than cloud computing for some computing services, then we give our definition and understanding of edge computing.\n",
    "\n",
    "## 1.1 Why Do We Need Edge Computing?\n",
    "\n",
    "- Push From Cloud Services: Putting all the computing tasks on the cloud has been proved to be an efficient way for data processing since the computing power on the cloud outclasses the capability of the things at the edge. However, compared to the fast developing data processing speed, the bandwidth of the network has come to a standstill. With the growing quantity of data generated at the edge, speed of data transportation is becoming the bottleneck for the cloud-based computing paradigm.Not to mention that current network bandwidth and reliability would be challenged to supporting large number of data generated everyday. In this case, the data needs to be processed at the edge for shorter response time, more efficient processing and smaller network pressure.\n",
    "\n",
    "- Pull From IoT: Almost all kinds of electrical devices will become part of IoT, and they will play the role of data producers as well as consumers, such as air quality sensors, LED bars, streetlights and even an Internet-connected microwave oven. It is safe to infer that the number of things at the edge of the network will develop to more than billions in a few years. Thus, raw data produced by them will be enormous, making conventional cloud computing not efficient enough to handle all these data. This means most of the data produced by IoT will never be transmitted to the cloud, instead it will be consumed at the edge of the network.Cloud computing is not efficient for IoT. First, data quantity at the edge is too large, which will lead to huge unnecessary bandwidth and computing resource usage. Second, the privacy protection requirement will pose an obstacle for cloud computing in IoT. Lastly, most of the end nodes in IoT are energy constrained things, and the wireless communication module is usually very energy hungry, so offloading some computing tasks to the edge could be more energy efficient.\n",
    "\n",
    "## 1.2 What Is Edge Computing\n",
    "\n",
    "Edge computing refers to the enabling technologies allowing computation to be performed at the edge of the network, on downstream data on behalf of cloud services and upstream data on behalf of IoT services. Here we define “edge” as any computing and network resources along the path between data sources and cloud data centers. For example, a smart phone is the edge between body things and cloud, a gateway in a smart home is the edge between home things and cloud, a micro data center and a cloudlet  is the edge between a mobile device and cloud. Edge can perform computing offloading, data storage, caching and processing, as well as distribute request and delivery service from cloud to user.\n",
    "\n",
    "## 1.3 Edge Computing Benefits\n",
    "\n",
    "In edge computing we want to put the computing at the proximity of data sources. This have several benefits compared to traditional cloud-based computing paradigm. Here we use several early results from the community to demonstrate the potential benefits. Researchers built a proof-of-concept platform to run face recognition application and the response time is reduced from 900 to 169 ms by moving computation from cloud to the edge. They used cloudlets to offload computing tasks for wearable cognitive assistance, and the result shows that the improvement of response time is between 80 and 200ms. Moreover, the energy consumption could also be reduced by 30%–40% by cloudlet offloading.\n",
    "\n",
    "# 2. CASE STUDY\n",
    "\n",
    "In this section, we give several case studies where edge computing could shine to further illustrate our vision of edge computing.\n",
    "\n",
    "## 2.1  Cloud Offloading\n",
    "\n",
    "In the cloud computing paradigm, most of the computations happen in the cloud, which means data and requests are processed in the centralized cloud. However, such a computing paradigm may suffer longer latency (e.g., long tail latency), which weakens the user experience. Numbers of researches have addressed the cloud offloading in terms of energy-performance tradeoff in a mobile-cloud environment. In edge computing, the edge has certain computation resources, and this provides a chance to offload part of the workload from cloud.One potential application that could benefit from edge computing is online shopping services. A customer may manipulate the shopping cart frequently. By default, all these changes on his/her shopping cart will be done in the cloud, and then the new shopping cart view is updated on the customer’s device. This process may take a long time depending on network speed and the load level of servers. It could be even longer for mobile devices due to the relatively low bandwidth of a mobile network. As shopping with mobile devices is becoming more and more popular, it is important to improve the user experience, especially latency related. In such a scenario, if the shopping cart updating is offloaded from cloud servers to edge nodes, the latency will be dramatically reduced.\n",
    "\n"
   ]
  },
  {
   "cell_type": "markdown",
   "metadata": {},
   "source": []
  }
 ],
 "metadata": {
  "kernelspec": {
   "display_name": "Python 3",
   "language": "python",
   "name": "python3"
  },
  "language_info": {
   "codemirror_mode": {
    "name": "ipython",
    "version": 3
   },
   "file_extension": ".py",
   "mimetype": "text/x-python",
   "name": "python",
   "nbconvert_exporter": "python",
   "pygments_lexer": "ipython3",
   "version": "3.7.6"
  }
 },
 "nbformat": 4,
 "nbformat_minor": 4
}
