{
 "cells": [
  {
   "cell_type": "markdown",
   "metadata": {},
   "source": [
    "<div class=\"alert alert-success\">\n",
    "    <b>Author</b>:\n",
    "\n",
    "      Rashik Rahman\n",
    "      17201012@uap-bd.edu\n",
    "\n",
    "</div>\n",
    "\n",
    "# [Click here to see class lecture](https://drive.google.com/file/d/1nFbn1PRRTMXDRdy_5QYZwYXLfygV1Emu/view)"
   ]
  },
  {
   "cell_type": "markdown",
   "metadata": {},
   "source": [
    "![image.png](figures/fig261.PNG)\n",
    "\n",
    "![image.png](figures/fig262.PNG)\n",
    "\n",
    "![image.png](figures/fig263.PNG)\n",
    "\n",
    "![image.png](figures/fig264.PNG)\n",
    "\n",
    "![image.png](figures/fig265.PNG)\n",
    "\n",
    "![image.png](figures/fig266.PNG)"
   ]
  },
  {
   "cell_type": "markdown",
   "metadata": {},
   "source": [
    "\n",
    "\n",
    "![image.png](figures/fig267.PNG)\n",
    "\n",
    "![image.png](figures/fig268.PNG)\n",
    "\n",
    "![image.png](figures/fig269.PNG)\n",
    "\n",
    "![image.png](figures/fig270.PNG)\n",
    "\n",
    "![image.png](figures/fig271.PNG)"
   ]
  },
  {
   "cell_type": "markdown",
   "metadata": {},
   "source": [
    "**see the video for edge computing**\n",
    "\n",
    "From the paper,\n",
    "\n",
    "# 1 What is edge computing.\n",
    "\n",
    "Data is increasingly produced at the edge of the network,therefore, it would be more efficient to also process the data at the edge of the network  In this section, we list some reasons why edge computing is more efficient than cloud computing for some computing services, then we give our definition and understanding of edge computing.\n",
    "\n",
    "## 1.1 Why Do We Need Edge Computing?\n",
    "\n",
    "- Push From Cloud Services: Putting all the computing tasks on the cloud has been proved to be an efficient way for data processing since the computing power on the cloud outclasses the capability of the things at the edge. However, compared to the fast developing data processing speed, the bandwidth of the network has come to a standstill. With the growing quantity of data generated at the edge, speed of data transportation is becoming the bottleneck for the cloud-based computing paradigm."
   ]
  },
  {
   "cell_type": "markdown",
   "metadata": {},
   "source": []
  }
 ],
 "metadata": {
  "kernelspec": {
   "display_name": "Python 3",
   "language": "python",
   "name": "python3"
  },
  "language_info": {
   "codemirror_mode": {
    "name": "ipython",
    "version": 3
   },
   "file_extension": ".py",
   "mimetype": "text/x-python",
   "name": "python",
   "nbconvert_exporter": "python",
   "pygments_lexer": "ipython3",
   "version": "3.7.6"
  }
 },
 "nbformat": 4,
 "nbformat_minor": 4
}
