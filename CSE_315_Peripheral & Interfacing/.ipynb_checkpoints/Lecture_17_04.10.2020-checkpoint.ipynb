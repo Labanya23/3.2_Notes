{
 "cells": [
  {
   "cell_type": "markdown",
   "metadata": {},
   "source": [
    "<div class=\"alert alert-success\">\n",
    "    <b>Author</b>:\n",
    "\n",
    "      Rashik Rahman\n",
    "      17201012@uap-bd.edu\n",
    "\n",
    "</div>\n",
    "\n",
    "# [Click here to see class lecture](https://drive.google.com/file/d/1wfxN1TzbHDl7RTt9XW7-f5clQUr1usx8/view)"
   ]
  },
  {
   "cell_type": "markdown",
   "metadata": {},
   "source": [
    "\n",
    "\n",
    "![image.png](figures/fig233.PNG)\n",
    "\n",
    "![image.png](figures/fig231.PNG)\n",
    "\n",
    "![image.png](figures/fig232.PNG)\n",
    "\n",
    "![image.png](figures/fig234.PNG)\n",
    "\n",
    "[To see how it works click here](https://www.youtube.com/watch?v=ditS0a28Sko&ab_channel=RealPars)\n",
    "\n",
    "Encoder pass the info about the position of the shaft to amplifier. Amplifier then sends the data to control circuit. Control circuit then decides the next position of the shaft and in what speed should the shaft move. Then control circuit passes the decision to amplifier. Amplifier then sends the data to servo motor and then motor moves the shaft. This steps happens again and again. Thus it is called a closed loop system. Amplifier just amplifies the signal.\n",
    "\n",
    "![image.png](figures/fig235.PNG)"
   ]
  },
  {
   "cell_type": "markdown",
   "metadata": {},
   "source": [
    "Classification of AC and DC motor.\n",
    "\n",
    "![image.png](figures/fig236.PNG)\n",
    "\n",
    "![image.png](figures/fig237.PNG)"
   ]
  },
  {
   "cell_type": "markdown",
   "metadata": {},
   "source": []
  },
  {
   "cell_type": "markdown",
   "metadata": {},
   "source": []
  }
 ],
 "metadata": {
  "kernelspec": {
   "display_name": "Python 3",
   "language": "python",
   "name": "python3"
  },
  "language_info": {
   "codemirror_mode": {
    "name": "ipython",
    "version": 3
   },
   "file_extension": ".py",
   "mimetype": "text/x-python",
   "name": "python",
   "nbconvert_exporter": "python",
   "pygments_lexer": "ipython3",
   "version": "3.7.6"
  }
 },
 "nbformat": 4,
 "nbformat_minor": 4
}
