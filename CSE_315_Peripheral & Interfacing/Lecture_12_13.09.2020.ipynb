{
 "cells": [
  {
   "cell_type": "markdown",
   "metadata": {},
   "source": [
    "<div class=\"alert alert-success\">\n",
    "    <b>Author</b>:\n",
    "\n",
    "      Rashik Rahman\n",
    "      17201012@uap-bd.edu\n",
    "\n",
    "</div>\n",
    "\n",
    "# [Click here to see class lecture](https://drive.google.com/file/d/1_7imLhy0grTOwhWUQS9Df0eeH6pZuaGD/view)"
   ]
  },
  {
   "cell_type": "markdown",
   "metadata": {},
   "source": [
    "Half adder takes 2 inputs and gives 2 outputs, one is sum and another one is carry. In the truth table we add A with B. In the case of adding 1,1 the result is 10 so 0 will be in sum and 1 will be in carry. pin 13,12 is output and 11,10 is input. IF we don't consider carry in the truth table we can see that the truth table matches XOR operation's truth table. Sum (s) = A xor B in arduiono code. In the same manner carry(c) = A and B in arduino. And basically for half adder sum is the XOR of both inputs and carry is the AND of both inputs.\n",
    "\n",
    "![image.png](figures/fig204.PNG)\n",
    "\n",
    "![image.png](figures/fig205.PNG)\n",
    "\n",
    "![image.png](figures/fig206.PNG)"
   ]
  },
  {
   "cell_type": "markdown",
   "metadata": {},
   "source": [
    "![image.png](figures/fig207.PNG)\n",
    "\n",
    "![image.png](figures/fig208.PNG)\n",
    "\n",
    "![image.png](figures/fig209.PNG)\n",
    "\n",
    "![image.png](figures/fig210.PNG)\n",
    "\n",
    "![image.png](figures/fig211.PNG)"
   ]
  },
  {
   "cell_type": "markdown",
   "metadata": {},
   "source": [
    "# That's all for this lecture!"
   ]
  }
 ],
 "metadata": {
  "kernelspec": {
   "display_name": "Python 3",
   "language": "python",
   "name": "python3"
  },
  "language_info": {
   "codemirror_mode": {
    "name": "ipython",
    "version": 3
   },
   "file_extension": ".py",
   "mimetype": "text/x-python",
   "name": "python",
   "nbconvert_exporter": "python",
   "pygments_lexer": "ipython3",
   "version": "3.7.6"
  }
 },
 "nbformat": 4,
 "nbformat_minor": 4
}
