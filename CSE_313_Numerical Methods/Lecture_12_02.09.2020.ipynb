{
 "cells": [
  {
   "cell_type": "markdown",
   "metadata": {},
   "source": [
    "<div class=\"alert alert-success\">\n",
    "    <b>Author</b>:\n",
    "\n",
    "      Rashik Rahman\n",
    "      17201012@uap-bd.edu\n",
    "\n",
    "</div>\n",
    "\n",
    "# [Click here to see class lecture](https://drive.google.com/file/d/1DTHVApxU00EkVV73N-ZU2SeoGSVArOO0/view)\n",
    "\n",
    "### [Book ref](http://mathforcollege.com/nm/topics/textbook_index.html)\n",
    "\n",
    "[Derivative Calculator](https://www.derivative-calculator.net/)"
   ]
  },
  {
   "cell_type": "markdown",
   "metadata": {},
   "source": [
    "# Gaussian Elimination\n",
    "\n",
    "Till now we learned how to solve non-linear equations using bisection, newton raphson, secant method. Now we'll study how to solve linear equation starting with Gaussian Elimination.\n",
    "\n",
    "To solve an equation like this [A][X]=[C] we can use gaussian elimination, We will use forward elimination to process the given data (making it an upper triangular matrix) and will use back substitution to get the value of unknowns.\n",
    "\n",
    "![image.png](figures/fig182.PNG)\n",
    "\n",
    "Here the left side's values are the coefficient of x. Like 25x1+5x2+x3=106.8 this is the 1st equation thus there are 3 equations and we wrote it in the form of [A][X]=[C] also know as coefficient matrix. Upper triangular matrix is the upper triangle of the rectangular matrix will have value and lower triangular will be 0. Lower triangular is the opposite of upper triangular matrix. \n",
    "\n",
    "![image.png](figures/fig183.PNG)\n",
    "\n",
    "Here we can see there are n equation with unknowns. It'll be quite impossible to solve these with linear equation so we'll use gaussian elimination to solve this. n-1 steps will be needed to get upper triangle.\n",
    "\n",
    "![image.png](figures/fig184.PNG)\n",
    "\n",
    "To get upper triangle the 1st equation will remain same then 1st element of second equation will become 0 then 1st two elements of 3d equation will become zero. So how to calculate this? Lets start with calculating the 2nd equation and same process will be repeated for the 3rd equation.\n",
    "\n",
    "To get 2nd equation we can divide 1st equation by a11 and multiply by a21 thus a11/a21. Then subtract it from 2nd equation. Thus We'll get 2nd equation with 1st element being 0.\n",
    "\n",
    "![image.png](figures/fig185.PNG)\n",
    "\n",
    "![image.png](figures/fig186.PNG)\n",
    "\n",
    "![image.png](figures/fig187.PNG)"
   ]
  },
  {
   "cell_type": "markdown",
   "metadata": {},
   "source": [
    "![image.png](figures/fig188.PNG)\n",
    "\n",
    "![image.png](figures/fig189.PNG)\n",
    "\n",
    "Now to get the value of unknowns we do back substitution. So after doing forward elimination we get the matrix and pattern shown below. \n",
    "\n",
    "![image.png](figures/fig190.PNG)\n",
    "\n",
    "![image.png](figures/fig191.PNG)\n",
    "\n",
    "Back substitution is a bottom-up approach. First we calculate to get Xn \n",
    "\n",
    "![image.png](figures/fig192.PNG)\n",
    "\n",
    "After that we move up a equation and calculate X3 as Xn is calculated(see the pattern). Then again move up an equation and calculate X2 as X3 & Xn is calculated previously. So repeating this procedure we can get all the unknown values.\n",
    "\n",
    "![image.png](figures/fig193.PNG)\n",
    "\n",
    "Lets see an example : \n",
    "\n",
    "![image.png](figures/fig194.PNG)\n",
    "\n",
    "![image.png](figures/fig195.PNG)\n",
    "\n",
    "![image.png](figures/fig196.PNG)\n",
    "\n",
    "![image.png](figures/fig197.PNG)\n",
    "\n",
    "![image.png](figures/fig198.PNG)\n",
    "\n",
    "![image.png](figures/fig199.PNG)\n",
    "\n",
    "![image.png](figures/fig200.PNG)\n",
    "\n",
    "![image.png](figures/fig201.PNG)\n",
    "\n",
    "![image.png](figures/fig202.PNG)\n",
    "\n",
    "![image.png](figures/fig203.PNG)\n",
    "\n",
    "![image.png](figures/fig204.PNG)\n",
    "\n",
    "![image.png](figures/fig205.PNG)\n",
    "\n",
    "![image.png](figures/fig206.PNG)\n",
    "\n",
    "![image.png](figures/fig207.PNG)\n"
   ]
  },
  {
   "cell_type": "markdown",
   "metadata": {},
   "source": [
    "**MY SOLVE**\n",
    "\n",
    "\n",
    "\n",
    "![image.png](figures/fig208.PNG)\n",
    "![image.png](figures/fig209.PNG)\n",
    "![image.png](figures/fig210.PNG)\n",
    "![image.png](figures/fig211.PNG)\n",
    "![image.png](figures/fig212.PNG)\n",
    "![image.png](figures/fig213.PNG)\n",
    "![image.png](figures/fig214.PNG)\n",
    "\n",
    "\n",
    "## That's all for this lecture!\n"
   ]
  }
 ],
 "metadata": {
  "kernelspec": {
   "display_name": "Python 3",
   "language": "python",
   "name": "python3"
  },
  "language_info": {
   "codemirror_mode": {
    "name": "ipython",
    "version": 3
   },
   "file_extension": ".py",
   "mimetype": "text/x-python",
   "name": "python",
   "nbconvert_exporter": "python",
   "pygments_lexer": "ipython3",
   "version": "3.7.6"
  }
 },
 "nbformat": 4,
 "nbformat_minor": 4
}
