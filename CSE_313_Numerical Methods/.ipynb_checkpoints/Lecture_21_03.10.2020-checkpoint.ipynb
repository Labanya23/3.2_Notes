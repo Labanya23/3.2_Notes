{
 "cells": [
  {
   "cell_type": "markdown",
   "metadata": {},
   "source": [
    "<div class=\"alert alert-success\">\n",
    "    <b>Author</b>:\n",
    "\n",
    "      Rashik Rahman\n",
    "      17201012@uap-bd.edu\n",
    "\n",
    "</div>\n",
    "\n",
    "# [Click here to see class lecture](https://drive.google.com/file/d/1WtgA-GT4kwXVXlWX5UsQDR1d0dtFLlG1/view)\n",
    "\n",
    "### [Book ref](http://mathforcollege.com/nm/topics/textbook_index.html)\n",
    "\n",
    "[Derivative Calculator](https://www.derivative-calculator.net/)\n",
    "\n",
    "[Integral Calculator](https://www.integral-calculator.com/)"
   ]
  },
  {
   "cell_type": "markdown",
   "metadata": {},
   "source": [
    "![image.png](figures/fig417.PNG)\n",
    "\n",
    "![image.png](figures/fig418.PNG)\n",
    "\n",
    "This is kind of like a extension of trapezoidal rule. c1 and c2 are weights whose value is (b-a)/2.\n",
    "\n",
    "![image.png](figures/fig419.PNG)\n",
    "\n",
    "![image.png](figures/fig420.PNG)\n",
    "\n",
    "Here are 4 unknowns thus it becomes like cubic interpolation or 3rd order polynomial. Here x is the range between upper and lower point that is b-a. This formula is to find exact value.\n",
    "\n",
    "![image.png](figures/fig421.PNG)\n",
    "\n",
    "This equation is to find approx value. Logically eqn i and ii is equal.\n",
    "\n",
    "![image.png](figures/fig422.PNG)\n",
    "\n",
    "![image.png](figures/fig423.PNG)\n",
    "\n",
    "![image.png](figures/fig424.PNG)\n",
    "\n",
    "So the two-point gaussian quadrature rule is,\n",
    "\n",
    "![image.png](figures/fig425.PNG)"
   ]
  },
  {
   "cell_type": "markdown",
   "metadata": {},
   "source": [
    "We have seen two point gaussian quadrature rule now we'll see higher point.\n",
    "\n",
    "![image.png](figures/fig426.PNG)\n",
    "\n",
    "Here there are 6 unknowns so it'll be 5th order polynomial. That's why we write a0 to a5.\n",
    "\n",
    "![image.png](figures/fig427.PNG)\n",
    "\n",
    "There values are for range (-1,1). To use these values and formula a and b must be -1 and 1. \n",
    "\n",
    "![image.png](figures/fig428.PNG)\n",
    "\n",
    "![image.png](figures/fig429.PNG)\n",
    "\n",
    "As the range must be -1 to 1. So to convert a,b to -1,1 we follow this, we get m by ii-i and we get c by i+ii.\n",
    "\n",
    "![image.png](figures/fig430.PNG)\n",
    "\n",
    "Now we have converted a,b to -1,1.\n",
    "\n",
    "![image.png](figures/fig431.PNG)\n",
    "\n",
    "![image.png](figures/fig432.PNG)\n",
    "\n",
    "![image.png](figures/fig433.PNG)\n",
    "\n",
    "Here we have a left hand side value of a0 & a1 and we have a right hand side value of a0 & a1 multiplying c1 with it. Now this forms are alike thus we can say c1 = b-a and c1x1 is (b^2-a^2)/2. \n",
    "\n",
    "![image.png](figures/fig434.PNG)\n",
    "\n",
    "![image.png](figures/fig435.PNG)\n",
    "\n",
    "![image.png](figures/fig436.PNG)"
   ]
  },
  {
   "cell_type": "markdown",
   "metadata": {},
   "source": [
    "\n",
    "\n",
    "![image.png](figures/fig437.PNG)\n",
    "\n",
    "We learned how to convert the range to -1,1 so that we can use known c1,c2,x1,x2 values. So we are going to use that. We could have implemented two-point rule but as this is much easier we'll use it.\n",
    "\n",
    "![image.png](figures/fig438.PNG)\n",
    "\n",
    "![image.png](figures/fig439.PNG)\n",
    "\n",
    "For two point we write 11c1f(11x1+19)+11c2f(11x2+19) if it were three point we would write it like 11c1f(11x1+19)+11c2f(11x2+19)+11c3f(11x3+19) and so on for n points, everything else like the eqn 11_1_integrate_1_f(11x+19) would be same.\n",
    "\n",
    "![image.png](figures/fig440.PNG)\n",
    "\n",
    "From the fig above we see that we have to found the value of f(12.64916) = 296.8317 and f(25.35085) = 708.4811. But how did we calculate it? We do this calculation like shown below.\n",
    "\n",
    "![image.png](figures/fig441.PNG)\n",
    "\n",
    "We got the true value by putting it in integral calculator.\n",
    "\n",
    "![image.png](figures/fig443.PNG)\n",
    "\n",
    "![image.png](figures/fig444.PNG)\n",
    "\n",
    "![image.png](figures/fig442.PNG)"
   ]
  },
  {
   "cell_type": "markdown",
   "metadata": {},
   "source": [
    "# That's all for this lecture!"
   ]
  }
 ],
 "metadata": {
  "kernelspec": {
   "display_name": "Python 3",
   "language": "python",
   "name": "python3"
  },
  "language_info": {
   "codemirror_mode": {
    "name": "ipython",
    "version": 3
   },
   "file_extension": ".py",
   "mimetype": "text/x-python",
   "name": "python",
   "nbconvert_exporter": "python",
   "pygments_lexer": "ipython3",
   "version": "3.7.6"
  }
 },
 "nbformat": 4,
 "nbformat_minor": 4
}
