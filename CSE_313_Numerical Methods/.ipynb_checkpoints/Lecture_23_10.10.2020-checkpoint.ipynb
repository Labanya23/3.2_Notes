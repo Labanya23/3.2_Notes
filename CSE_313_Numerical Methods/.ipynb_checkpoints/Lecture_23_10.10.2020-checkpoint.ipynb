{
 "cells": [
  {
   "cell_type": "markdown",
   "metadata": {},
   "source": [
    "<div class=\"alert alert-success\">\n",
    "    <b>Author</b>:\n",
    "\n",
    "      Rashik Rahman\n",
    "      17201012@uap-bd.edu\n",
    "\n",
    "</div>\n",
    "\n",
    "# [Click here to see class lecture](https://drive.google.com/file/d/1LpkTVzN5hl_j32pWUmzYuE7KkTedON86/view)\n",
    "\n",
    "### [Book ref](http://mathforcollege.com/nm/topics/textbook_index.html)\n",
    "\n",
    "[Derivative Calculator](https://www.derivative-calculator.net/)\n",
    "\n",
    "[Integral Calculator](https://www.integral-calculator.com/)"
   ]
  },
  {
   "cell_type": "markdown",
   "metadata": {},
   "source": [
    "![image.png](figures/fig474.PNG)\n",
    "\n",
    "Here y is dependent on x and x is independent. h is run and difference of y1&y0 is rise. Thats how we get the slope. So we can say y1-y0/x1-x0 = f(x0,y0) thus we get y1 = y+f(x0,y0)(x1-x0).\n",
    "\n",
    "![image.png](figures/fig475.PNG)\n",
    "\n",
    "![image.png](figures/fig476.PNG)\n",
    "\n",
    "![image.png](figures/fig477.PNG)"
   ]
  },
  {
   "cell_type": "markdown",
   "metadata": {},
   "source": [
    "Here 't' is x and 'theta' is y. y's initial value is 1200k. here step size is 240s that means difference between t0 and t1. In the question we are to find theta for t=480. That is we have to find t2. Cause difference between t0 and t1 is 240 and difference between t1 and t2 is 240 so 240+240=480s. Thus we have to find t2. we know theta0 for t0 so first we have to find theta1 for t1 and then theta2 fot t2. As we have initial value thus we can calculate.\n",
    "\n",
    "![image.png](figures/fig478.PNG)\n",
    "\n",
    "Now we found theta1 that is theta after 240s. \n",
    "\n",
    "iteration 1.\n",
    "\n",
    "![image.png](figures/fig479.PNG)\n",
    "\n",
    "iteration 2.\n",
    "\n",
    "![image.png](figures/fig480.PNG)\n",
    "\n",
    "Error calculation. True/exact value of theta is 647.57k.\n",
    "\n",
    "![image.png](figures/fig481.PNG)\n",
    "\n",
    "Error is very high due to huge step size.\n",
    "\n",
    "![image.png](figures/fig482.PNG)"
   ]
  },
  {
   "cell_type": "markdown",
   "metadata": {},
   "source": []
  },
  {
   "cell_type": "markdown",
   "metadata": {},
   "source": []
  }
 ],
 "metadata": {
  "kernelspec": {
   "display_name": "Python 3",
   "language": "python",
   "name": "python3"
  },
  "language_info": {
   "codemirror_mode": {
    "name": "ipython",
    "version": 3
   },
   "file_extension": ".py",
   "mimetype": "text/x-python",
   "name": "python",
   "nbconvert_exporter": "python",
   "pygments_lexer": "ipython3",
   "version": "3.7.6"
  }
 },
 "nbformat": 4,
 "nbformat_minor": 4
}
