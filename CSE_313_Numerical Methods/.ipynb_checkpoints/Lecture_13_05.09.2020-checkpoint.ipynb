{
 "cells": [
  {
   "cell_type": "markdown",
   "metadata": {},
   "source": [
    "<div class=\"alert alert-success\">\n",
    "    <b>Author</b>:\n",
    "\n",
    "      Rashik Rahman\n",
    "      17201012@uap-bd.edu\n",
    "\n",
    "</div>\n",
    "\n",
    "# [Click here to see class lecture](https://drive.google.com/file/d/1gierdF9mkfaBP3bKAlxrqVsvUE5FTPSl/view)\n",
    "\n",
    "### [Book ref](http://mathforcollege.com/nm/topics/textbook_index.html)\n",
    "\n",
    "[Derivative Calculator](https://www.derivative-calculator.net/)"
   ]
  },
  {
   "cell_type": "markdown",
   "metadata": {},
   "source": [
    "Disadvantages of Gauss elimination.\n",
    "\n",
    "![image.png](figures/fig215.PNG)\n",
    "\n",
    "Here there's no X1 that means 0 * X1 so if we do 6/0 this is Inconsistent (অসঙ্গায়িত). We can't divide anything by zero this is a limitation of gauss.\n",
    "\n",
    "![image.png](figures/fig216.PNG)\n",
    "\n",
    "![image.png](figures/fig217.PNG)\n",
    "\n",
    "Divided by zero can appear in any step of forward equation like here it occured in the 2nd row8 cause there are two zeros in the 2nd row. Cause when we multiply row1 with 6/12=0.5 we get [6 5 -3.5] and if we subtract this from second row we get,[6 5 3] - [6 5 -3.5] = [0 0 6.5], As here are two zeros instead of one this is also a problem cause when we will calculate for row 3 a22 will be zero and divided by zero problem will occur again as mentioned above.\n",
    "\n",
    "![image.png](figures/fig218.PNG)\n",
    "\n",
    "As we don't take all the decimal values after the decimal point and we round it off thus it introduces error. Like exact values should we all ones here but for rounding off we get near about 1 values.\n",
    "\n",
    "![image.png](figures/fig219.PNG)\n",
    "\n",
    "![image.png](figures/fig220.PNG)\n",
    "\n",
    "![image.png](figures/fig221.PNG)\n",
    "\n",
    "Ways to avoid pitfall.\n",
    "\n",
    "![image.png](figures/fig222.PNG)\n",
    "\n",
    "![image.png](figures/fig223.PNG)\n",
    "\n",
    "![image.png](figures/fig224.PNG)\n"
   ]
  },
  {
   "cell_type": "markdown",
   "metadata": {},
   "source": [
    "\n",
    "Lets see a pivoting example.\n",
    "\n",
    "![image.png](figures/fig225.PNG)\n",
    "![image.png](figures/fig226.PNG)\n",
    "\n",
    "![image.png](figures/fig227.PNG)\n",
    "\n",
    "Regardless of the signs we compare the values of first columns. We take absolute value of the 1st column and compare them. The largest value's row is swaped with the 1st row. Here 144 is largest so the row of 144 is swaped with the 1st column. After eliminating each rows values(eliminate {no. of row - 1=x} values) we again do pivoting every time. Then when we get upper triangular matrix we do back substitution.\n",
    "\n",
    "![image.png](figures/fig228.PNG)\n",
    "\n",
    "![image.png](figures/fig229.PNG)\n",
    "\n",
    "![image.png](figures/fig230.PNG)\n",
    "\n",
    "**So now we calculated 2nd row and will calculate 3rd row. Before that we again do partial pivoting. So before starting to calculate a new row we do partial pivoting every time.** \n",
    "\n",
    "![image.png](figures/fig231.PNG)\n",
    "\n",
    "![image.png](figures/fig232.PNG)\n",
    "\n",
    "![image.png](figures/fig233.PNG)\n",
    "\n",
    "![image.png](figures/fig234.PNG)\n",
    "\n",
    "![image.png](figures/fig235.PNG)\n",
    "\n",
    "![image.png](figures/fig236.PNG)\n",
    "\n",
    "![image.png](figures/fig237.PNG)"
   ]
  },
  {
   "cell_type": "markdown",
   "metadata": {},
   "source": [
    "\n",
    "\n",
    "![image.png](figures/fig238.PNG)\n",
    "\n",
    "![image.png](figures/fig239.PNG)\n",
    "\n",
    "![image.png](figures/fig240.PNG)\n",
    "\n",
    "![image.png](figures/fig241.PNG)\n",
    "\n",
    "![image.png](figures/fig242.PNG)\n",
    "\n",
    "![image.png](figures/fig243.PNG)\n",
    "\n",
    "![image.png](figures/fig244.PNG)"
   ]
  },
  {
   "cell_type": "markdown",
   "metadata": {},
   "source": [
    "# That's all for this lecture!"
   ]
  }
 ],
 "metadata": {
  "kernelspec": {
   "display_name": "Python 3",
   "language": "python",
   "name": "python3"
  },
  "language_info": {
   "codemirror_mode": {
    "name": "ipython",
    "version": 3
   },
   "file_extension": ".py",
   "mimetype": "text/x-python",
   "name": "python",
   "nbconvert_exporter": "python",
   "pygments_lexer": "ipython3",
   "version": "3.7.6"
  }
 },
 "nbformat": 4,
 "nbformat_minor": 4
}
