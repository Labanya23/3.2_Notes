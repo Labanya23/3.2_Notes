{
 "cells": [
  {
   "cell_type": "markdown",
   "metadata": {},
   "source": [
    "<div class=\"alert alert-success\">\n",
    "    <b>Author</b>:\n",
    "\n",
    "      Rashik Rahman\n",
    "      17201012@uap-bd.edu\n",
    "\n",
    "</div>\n",
    "\n",
    "# [Click here to see class lecture](https://drive.google.com/file/d/1lequOSnfJIXtXpiGa482CiYS_2vqYhOA/view)\n",
    "\n",
    "### [Book ref](http://mathforcollege.com/nm/topics/textbook_index.html)\n",
    "\n",
    "[Derivative Calculator](https://www.derivative-calculator.net/)\n",
    "\n",
    "[Integral Calculator](https://www.integral-calculator.com/)"
   ]
  },
  {
   "cell_type": "markdown",
   "metadata": {},
   "source": [
    "![image.png](figures/fig485.PNG)\n",
    "\n",
    "\n",
    "From taylor series we get this equation.\n",
    "\n",
    "![image.png](figures/fig486.PNG)\n",
    "\n",
    "![image.png](figures/fig487.PNG)\n",
    "\n",
    "**Runge-kutta has 3 method Heun, Midpoint, Ralston. If the method is mentioned in q explicitly then do that method only other wise if the q says like do runge-kuuta 2nd order then select any of these 3 method and do that**\n",
    "\n",
    "![image.png](figures/fig488.PNG)\n",
    "\n",
    "![image.png](figures/fig489.PNG)\n",
    "\n",
    "![image.png](figures/fig490.PNG)\n",
    "\n",
    "![image.png](figures/fig491.PNG)\n",
    "\n"
   ]
  },
  {
   "cell_type": "markdown",
   "metadata": {},
   "source": [
    "\n",
    "\n",
    "![image.png](figures/fig493.PNG)\n",
    "\n",
    "![image.png](figures/fig494.PNG)\n",
    "\n",
    "![image.png](figures/fig495.PNG)\n",
    "\n",
    "![image.png](figures/fig496.PNG)\n",
    "\n",
    "![image.png](figures/fig497.PNG)\n",
    "\n",
    "![image.png](figures/fig498.PNG)\n",
    "\n",
    "![image.png](figures/fig499.PNG)\n",
    "\n",
    "![image.png](figures/fig500.PNG)\n",
    "\n",
    "![image.png](figures/fig501.PNG)\n"
   ]
  },
  {
   "cell_type": "markdown",
   "metadata": {},
   "source": [
    "# That's all for this lecture!"
   ]
  }
 ],
 "metadata": {
  "kernelspec": {
   "display_name": "Python 3",
   "language": "python",
   "name": "python3"
  },
  "language_info": {
   "codemirror_mode": {
    "name": "ipython",
    "version": 3
   },
   "file_extension": ".py",
   "mimetype": "text/x-python",
   "name": "python",
   "nbconvert_exporter": "python",
   "pygments_lexer": "ipython3",
   "version": "3.7.6"
  }
 },
 "nbformat": 4,
 "nbformat_minor": 4
}
