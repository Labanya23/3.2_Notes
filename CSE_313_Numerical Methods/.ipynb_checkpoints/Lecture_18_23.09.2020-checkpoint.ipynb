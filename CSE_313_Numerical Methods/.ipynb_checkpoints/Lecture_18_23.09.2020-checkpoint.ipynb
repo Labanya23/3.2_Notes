{
 "cells": [
  {
   "cell_type": "markdown",
   "metadata": {},
   "source": [
    "<div class=\"alert alert-success\">\n",
    "    <b>Author</b>:\n",
    "\n",
    "      Rashik Rahman\n",
    "      17201012@uap-bd.edu\n",
    "\n",
    "</div>\n",
    "\n",
    "# [Click here to see class lecture](https://drive.google.com/file/d/1u0zpl0JgGtLYz02PqVVgy1Hj2ncXXYxS/view)\n",
    "\n",
    "### [Book ref](http://mathforcollege.com/nm/topics/textbook_index.html)\n",
    "\n",
    "[Derivative Calculator](https://www.derivative-calculator.net/)\n",
    "\n",
    "[Integral Calculator](https://www.integral-calculator.com/)"
   ]
  },
  {
   "cell_type": "markdown",
   "metadata": {},
   "source": [
    "![image.png](figures/fig358.PNG)\n",
    "\n",
    "![image.png](figures/fig359.PNG)\n",
    "\n",
    "![image.png](figures/fig360.PNG)\n",
    "\n",
    "Here i not equals j so when i = 0 then j = 1 and when i = 1 then j = 0.\n",
    "\n",
    "![image.png](figures/fig361.PNG)\n",
    "\n"
   ]
  },
  {
   "cell_type": "markdown",
   "metadata": {},
   "source": [
    "![image.png](figures/fig362.PNG)\n",
    "\n",
    "![image.png](figures/fig363.PNG)\n",
    "\n",
    "![image.png](figures/fig364.PNG)\n",
    "\n",
    "![image.png](figures/fig365.PNG)"
   ]
  },
  {
   "cell_type": "markdown",
   "metadata": {},
   "source": [
    "\n",
    "\n",
    "![image.png](figures/fig366.PNG)\n",
    "\n",
    "![image.png](figures/fig367.PNG)\n",
    "\n",
    "![image.png](figures/fig368.PNG)\n",
    "\n",
    "![image.png](figures/fig369.PNG)\n",
    "\n",
    "![image.png](figures/fig370.PNG)"
   ]
  },
  {
   "cell_type": "markdown",
   "metadata": {},
   "source": [
    "This v(t) comes from direct method cubic interpolation taught in lec 16.\n",
    "\n",
    "![image.png](figures/fig371.PNG)\n",
    "\n",
    "![image.png](figures/fig372.PNG)"
   ]
  },
  {
   "cell_type": "markdown",
   "metadata": {},
   "source": [
    "## Trapezoidal_Rule\n",
    "\n",
    "\n",
    "![image.png](figures/fig373.PNG)\n",
    "\n",
    "![image.png](figures/fig374.PNG)\n",
    "\n",
    "![image.png](figures/fig375.PNG)\n",
    "\n",
    "For 1st order polynomial we get two points. As it is a straight line so it creates a trapezoidal. And we can find its area like given below.\n",
    "\n",
    "![image.png](figures/fig376.PNG)\n",
    "\n",
    "![image.png](figures/fig377.PNG)\n",
    "\n",
    "![image.png](figures/fig378.PNG)"
   ]
  },
  {
   "cell_type": "markdown",
   "metadata": {},
   "source": [
    "\n",
    "\n",
    "![image.png](figures/fig379.PNG)\n",
    "\n",
    "![image.png](figures/fig380.PNG)\n",
    "\n",
    "![image.png](figures/fig381.PNG)"
   ]
  },
  {
   "cell_type": "markdown",
   "metadata": {},
   "source": [
    "# That's all for this lecture!"
   ]
  }
 ],
 "metadata": {
  "kernelspec": {
   "display_name": "Python 3",
   "language": "python",
   "name": "python3"
  },
  "language_info": {
   "codemirror_mode": {
    "name": "ipython",
    "version": 3
   },
   "file_extension": ".py",
   "mimetype": "text/x-python",
   "name": "python",
   "nbconvert_exporter": "python",
   "pygments_lexer": "ipython3",
   "version": "3.7.6"
  }
 },
 "nbformat": 4,
 "nbformat_minor": 4
}
