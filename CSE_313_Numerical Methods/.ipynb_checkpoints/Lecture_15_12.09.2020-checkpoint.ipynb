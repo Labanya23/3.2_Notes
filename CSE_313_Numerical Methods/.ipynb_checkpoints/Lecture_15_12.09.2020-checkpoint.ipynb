{
 "cells": [
  {
   "cell_type": "markdown",
   "metadata": {},
   "source": [
    "<div class=\"alert alert-success\">\n",
    "    <b>Author</b>:\n",
    "\n",
    "      Rashik Rahman\n",
    "      17201012@uap-bd.edu\n",
    "\n",
    "</div>\n",
    "\n",
    "# [Click here to see class lecture](https://drive.google.com/file/d/1nadl2Sk6s-qDD4gB6dbrxvJaRXpUwXhc/view)\n",
    "\n",
    "### [Book ref](http://mathforcollege.com/nm/topics/textbook_index.html)\n",
    "\n",
    "[Derivative Calculator](https://www.derivative-calculator.net/)"
   ]
  },
  {
   "cell_type": "markdown",
   "metadata": {},
   "source": [
    "**Difference between gauss elimination and LU decomposition.**\n",
    "\n",
    "In LU forward substitution in an extra step. So it'll consume more time than gauss. But after doing mathematical calculation we can see that both methods are equally efficient cause after time analysis of both methods we see that they take consume same time. The main difference between these two can be seen in to find inverse matrix. To find inverse matrix LU decomposition consumes less time than gauss thus it's more efficient than gauss in finding inverse matrix.\n",
    "\n",
    "![image.png](figures/fig274.PNG)\n",
    "\n",
    "![image.png](figures/fig275.PNG)\n",
    "\n",
    "![image.png](figures/fig276.PNG)"
   ]
  },
  {
   "cell_type": "markdown",
   "metadata": {},
   "source": [
    "# Inverse Matrix\n",
    "\n",
    "Here consider B as $A^{-1}$ , So $A*A^{-1}=I$ where I is a square matrix.\n",
    " \n",
    "![image.png](figures/fig277.PNG)\n",
    "\n",
    "Here we can see how to find a inverse matrix of a given 2x2 matrix. \n",
    "\n",
    "![image.png](figures/fig278.PNG)\n",
    "\n",
    "Below we can see that $A*A^{-1}=I$ this condition is satisfied. Indeed we get an identity matrix by multiplying A with $A^{-1}$.\n",
    "\n",
    "![image.png](figures/fig279.PNG)\n",
    "\n",
    "Column of matrix B ($A^{-1}$) can be found like this. Here we can see that in the first column [0][0] = 1 , in second column [1][1] = 1 so third column will be like\n",
    "[2][2] = 1 and so on. This formation is like this due to A * B equals I. \n",
    "\n",
    "![image.png](figures/fig280.PNG)\n"
   ]
  },
  {
   "cell_type": "markdown",
   "metadata": {},
   "source": [
    "Decompose A in LU.\n",
    "\n",
    "![image.png](figures/fig281.PNG)\n",
    "\n",
    "solving each column of B requires two steps. \n",
    "\n",
    "1. [L][Z] = [C] solve Z\n",
    "2. [U][X] = [Z] solve X\n",
    "\n",
    "Previously when we practiced LU we had a value of C. But in inverse matrix there's no C. As $A*A^{-1}=I$ so each iteration meaning when finding each column C will the value of that identity matrix's column. Like here for 1st column C is $[1,0,0]$ for second column it'll be $[0,1,0]$ and so on.\n",
    "\n",
    "![image.png](figures/fig282.PNG)\n",
    "\n",
    "![image.png](figures/fig283.PNG)\n",
    "\n",
    "\n",
    "As we have Z so mow we will solve [U][X] = [Z]. Here we take X as the first column of matrix B, $[b_{11}, b_{21}, b_{31}]$. \n",
    "\n",
    "![image.png](figures/fig284.PNG)\n",
    "\n",
    "After solving this we get the value of first column of B. \n",
    "\n",
    "\n",
    "![image.png](figures/fig286.PNG)\n",
    "\n",
    "We'll repeat this 2 steps for 2nd and 3rd column and thus we'll get inverse matrix of A that is B.\n",
    "\n",
    "![image.png](figures/fig287.PNG)\n",
    "\n",
    "![image.png](figures/fig288.PNG)\n",
    "\n"
   ]
  },
  {
   "cell_type": "markdown",
   "metadata": {},
   "source": [
    "# Gauss-Siedel Method\n",
    "\n",
    "It's an iterative method. So with each iteration we try to find more correct value of X then previous X. We'll do iteration until we reach the threshold/pre-specified tolerance/given absolute error or reach the specified iteration in the question.\n",
    "\n",
    "![image.png](figures/fig289.PNG)\n",
    "\n",
    "![image.png](figures/fig290.PNG)\n",
    "\n",
    "![image.png](figures/fig291.PNG)\n",
    "\n",
    "![image.png](figures/fig292.PNG)\n",
    "\n",
    "![image.png](figures/fig293.PNG)\n",
    "\n",
    "![image.png](figures/fig294.PNG)\n",
    "\n",
    "![image.png](figures/fig295.PNG)\n"
   ]
  },
  {
   "cell_type": "markdown",
   "metadata": {},
   "source": [
    "**Lets see an example**\n",
    "\n",
    "![image.png](figures/fig296.PNG)\n",
    "\n",
    "First we take initial value of unknowns.\n",
    "\n",
    "![image.png](figures/fig297.PNG)\n",
    "\n",
    "![image.png](figures/fig298.PNG)\n",
    "\n",
    "![image.png](figures/fig299.PNG)\n",
    "\n",
    "End of 1st iteration and the maximum absolute relative approximate error is 125.47%\n",
    "\n",
    "![image.png](figures/fig300.PNG)\n",
    "\n",
    "![image.png](figures/fig301.PNG)\n",
    "\n",
    "![image.png](figures/fig302.PNG)\n",
    "\n",
    "![image.png](figures/fig303.PNG)\n",
    "\n"
   ]
  },
  {
   "cell_type": "markdown",
   "metadata": {},
   "source": [
    "# That's all for this lecture!"
   ]
  }
 ],
 "metadata": {
  "kernelspec": {
   "display_name": "Python 3",
   "language": "python",
   "name": "python3"
  },
  "language_info": {
   "codemirror_mode": {
    "name": "ipython",
    "version": 3
   },
   "file_extension": ".py",
   "mimetype": "text/x-python",
   "name": "python",
   "nbconvert_exporter": "python",
   "pygments_lexer": "ipython3",
   "version": "3.7.6"
  }
 },
 "nbformat": 4,
 "nbformat_minor": 4
}
