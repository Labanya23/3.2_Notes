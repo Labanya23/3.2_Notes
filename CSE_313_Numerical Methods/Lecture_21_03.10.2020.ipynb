{
 "cells": [
  {
   "cell_type": "markdown",
   "metadata": {},
   "source": [
    "<div class=\"alert alert-success\">\n",
    "    <b>Author</b>:\n",
    "\n",
    "      Rashik Rahman\n",
    "      17201012@uap-bd.edu\n",
    "\n",
    "</div>\n",
    "\n",
    "# [Click here to see class lecture](https://drive.google.com/file/d/1WtgA-GT4kwXVXlWX5UsQDR1d0dtFLlG1/view)\n",
    "\n",
    "### [Book ref](http://mathforcollege.com/nm/topics/textbook_index.html)\n",
    "\n",
    "[Derivative Calculator](https://www.derivative-calculator.net/)\n",
    "\n",
    "[Integral Calculator](https://www.integral-calculator.com/)"
   ]
  },
  {
   "cell_type": "markdown",
   "metadata": {},
   "source": [
    "![image.png](figures/fig417.PNG)\n",
    "\n",
    "![image.png](figures/fig418.PNG)\n",
    "\n",
    "This is kind of like a extension of trapezoidal rule. c1 and c2 are weights whose value is (b-a)/2.\n",
    "\n",
    "![image.png](figures/fig419.PNG)\n",
    "\n",
    "![image.png](figures/fig420.PNG)\n",
    "\n",
    "Here are 4 unknowns thus it becomes like cubic interpolation or 3rd order polynomial. Here x is the range between upper and lower point that is b-a. This formula is to find exact value.\n",
    "\n",
    "![image.png](figures/fig421.PNG)\n",
    "\n",
    "This equation is to find approx value. Logically eqn i and ii is equal.\n",
    "\n",
    "![image.png](figures/fig422.PNG)\n",
    "\n",
    "![image.png](figures/fig423.PNG)\n",
    "\n",
    "![image.png](figures/fig424.PNG)\n",
    "\n",
    "So the two-point gaussian quadrature rule is,\n",
    "\n",
    "![image.png](figures/fig425.PNG)"
   ]
  },
  {
   "cell_type": "markdown",
   "metadata": {},
   "source": [
    "We have seen two point gaussian quadrature rule now we'll see higher point i.e. three point.\n",
    "\n",
    "![image.png](figures/fig426.PNG)\n",
    "\n",
    "Here there are 6 unknowns so it'll be 5th order polynomial. That's why we write a0 to a5.\n",
    "\n",
    "![image.png](figures/fig427.PNG)\n",
    "\n",
    "There values are for range (-1,1). To use these values and formula a and b must be -1 and 1. \n",
    "\n",
    "![image.png](figures/fig428.PNG)\n",
    "\n",
    "![image.png](figures/fig429.PNG)\n",
    "\n",
    "As the range must be -1 to 1. So to convert a,b to -1,1 we follow this, we get m by ii-i and we get c by i+ii.\n",
    "\n",
    "![image.png](figures/fig430.PNG)\n",
    "\n",
    "Now we have converted a,b to -1,1.\n",
    "\n",
    "![image.png](figures/fig431.PNG)"
   ]
  },
  {
   "cell_type": "markdown",
   "metadata": {},
   "source": []
  },
  {
   "cell_type": "markdown",
   "metadata": {},
   "source": []
  }
 ],
 "metadata": {
  "kernelspec": {
   "display_name": "Python 3",
   "language": "python",
   "name": "python3"
  },
  "language_info": {
   "codemirror_mode": {
    "name": "ipython",
    "version": 3
   },
   "file_extension": ".py",
   "mimetype": "text/x-python",
   "name": "python",
   "nbconvert_exporter": "python",
   "pygments_lexer": "ipython3",
   "version": "3.7.6"
  }
 },
 "nbformat": 4,
 "nbformat_minor": 4
}
