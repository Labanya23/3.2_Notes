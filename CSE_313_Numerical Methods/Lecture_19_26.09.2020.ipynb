{
 "cells": [
  {
   "cell_type": "markdown",
   "metadata": {},
   "source": [
    "<div class=\"alert alert-success\">\n",
    "    <b>Author</b>:\n",
    "\n",
    "      Rashik Rahman\n",
    "      17201012@uap-bd.edu\n",
    "\n",
    "</div>\n",
    "\n",
    "# [Click here to see class lecture](https://drive.google.com/file/d/1wsg1AevIC6cp7VoDaZKU4G8k12FhQn_C/view)\n",
    "\n",
    "### [Book ref](http://mathforcollege.com/nm/topics/textbook_index.html)\n",
    "\n",
    "[Derivative Calculator](https://www.derivative-calculator.net/)\n",
    "\n",
    "[Integral Calculator](https://www.integral-calculator.com/)"
   ]
  },
  {
   "cell_type": "markdown",
   "metadata": {},
   "source": [
    "To minimize the error we can do multiple segment trapezoidal rule. Here we divide the segment into equal two segments. 30+8 = 38/2 = 19. Here step size h = 30-8/2=11. So the middle point 19. Thus 1st segment is 8 to 19 and the 2nd segment is 19 to 30.Thus we can calculate the area of the two segments and can have a combined area. This will have less error. Here we saw two partition the more you divide the segments the more less error.\n",
    "\n",
    "![image.png](figures/fig382.PNG)\n",
    "\n",
    "![image.png](figures/fig383.PNG)\n",
    "\n",
    "![image.png](figures/fig384.PNG)\n",
    "\n",
    "Formula to get the segments\n",
    "\n",
    "![image.png](figures/fig385.PNG)\n",
    "\n",
    "For more than 2 segments.\n",
    "\n",
    "![image.png](figures/fig386.PNG)"
   ]
  },
  {
   "cell_type": "markdown",
   "metadata": {},
   "source": [
    "**2 segment trapezoidal example**\n",
    "\n",
    "![image.png](figures/fig387.PNG)\n",
    "\n",
    "![image.png](figures/fig388.PNG)\n",
    "\n",
    "Here for n=2 we can see there's just 2f(19) but what if n=4? then h would be 30-8/4=5.5. So the eqn would be like $$(22/2*4)*[f(8)+2*(f(8+1*5.5)+f(8+2*5.5)+f(8+3*5.5))+f(30)] = (22/8)*[f(8)+2*(f(13.5)+f(19)+f(24.5))+f(30)]$$ \n",
    "\n",
    "![image.png](figures/fig389.PNG)\n",
    "\n",
    "![image.png](figures/fig390.PNG)\n",
    "\n",
    "![image.png](figures/fig391.PNG)"
   ]
  },
  {
   "cell_type": "markdown",
   "metadata": {},
   "source": [
    "If the question is like use multiple segment trapezoidal rule instead of 2 segment multiple trapezoidal then just do 2 segment no need to do extra. Find the area under curve means integration. To find true error you'll have to subtract approx from exact value. To get the exact value you'll have to integrate f(x).\n",
    "\n",
    "![image.png](figures/fig392.PNG)\n",
    "\n",
    "**We won't study error in multiple segment trapezoidal rule.**\n",
    "\n",
    "![image.png](figures/fig393.PNG)\n"
   ]
  },
  {
   "cell_type": "markdown",
   "metadata": {},
   "source": [
    "# That's all for today's lecture!"
   ]
  }
 ],
 "metadata": {
  "kernelspec": {
   "display_name": "Python 3",
   "language": "python",
   "name": "python3"
  },
  "language_info": {
   "codemirror_mode": {
    "name": "ipython",
    "version": 3
   },
   "file_extension": ".py",
   "mimetype": "text/x-python",
   "name": "python",
   "nbconvert_exporter": "python",
   "pygments_lexer": "ipython3",
   "version": "3.7.6"
  }
 },
 "nbformat": 4,
 "nbformat_minor": 4
}
