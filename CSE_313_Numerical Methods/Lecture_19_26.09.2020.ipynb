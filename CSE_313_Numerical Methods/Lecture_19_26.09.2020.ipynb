{
 "cells": [
  {
   "cell_type": "markdown",
   "metadata": {},
   "source": [
    "<div class=\"alert alert-success\">\n",
    "    <b>Author</b>:\n",
    "\n",
    "      Rashik Rahman\n",
    "      17201012@uap-bd.edu\n",
    "\n",
    "</div>\n",
    "\n",
    "# [Click here to see class lecture](https://drive.google.com/file/d/1wsg1AevIC6cp7VoDaZKU4G8k12FhQn_C/view)\n",
    "\n",
    "### [Book ref](http://mathforcollege.com/nm/topics/textbook_index.html)\n",
    "\n",
    "[Derivative Calculator](https://www.derivative-calculator.net/)\n",
    "\n",
    "[Integral Calculator](https://www.integral-calculator.com/)"
   ]
  },
  {
   "cell_type": "markdown",
   "metadata": {},
   "source": [
    "To minimize the error we can do multiple segment trapezoidal rule. Here we divide the segment into equal two segments. 30+8 = 38/2 = 19. So the middle point 19. Thus 1st segment is 8 to 19 and the 2nd segment is 19 to 30.Thus we can calculate the area of the two segments and can have a combined area. This will have less error. Here we saw two partition the more you divide the segments the more less error.\n",
    "\n",
    "![image.png](figures/fig382.PNG)\n",
    "\n",
    "![image.png](figures/fig383.PNG)\n",
    "\n",
    "![image.png](figures/fig384.PNG)\n",
    "\n",
    "Formula to get the segments\n",
    "\n",
    "![image.png](figures/fig385.PNG)"
   ]
  },
  {
   "cell_type": "markdown",
   "metadata": {},
   "source": []
  },
  {
   "cell_type": "markdown",
   "metadata": {},
   "source": []
  },
  {
   "cell_type": "markdown",
   "metadata": {},
   "source": []
  },
  {
   "cell_type": "markdown",
   "metadata": {},
   "source": []
  },
  {
   "cell_type": "markdown",
   "metadata": {},
   "source": []
  },
  {
   "cell_type": "markdown",
   "metadata": {},
   "source": []
  }
 ],
 "metadata": {
  "kernelspec": {
   "display_name": "Python 3",
   "language": "python",
   "name": "python3"
  },
  "language_info": {
   "codemirror_mode": {
    "name": "ipython",
    "version": 3
   },
   "file_extension": ".py",
   "mimetype": "text/x-python",
   "name": "python",
   "nbconvert_exporter": "python",
   "pygments_lexer": "ipython3",
   "version": "3.7.6"
  }
 },
 "nbformat": 4,
 "nbformat_minor": 4
}
