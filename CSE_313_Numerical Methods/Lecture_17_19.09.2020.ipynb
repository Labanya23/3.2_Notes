{
 "cells": [
  {
   "cell_type": "markdown",
   "metadata": {},
   "source": [
    "<div class=\"alert alert-success\">\n",
    "    <b>Author</b>:\n",
    "\n",
    "      Rashik Rahman\n",
    "      17201012@uap-bd.edu\n",
    "\n",
    "</div>\n",
    "\n",
    "# [Click here to see class lecture](https://drive.google.com/file/d/1yRx1lX3wDU4aB2eU2b0zB8lWxn-jQuBR/view)\n",
    "\n",
    "### [Book ref](http://mathforcollege.com/nm/topics/textbook_index.html)\n",
    "\n",
    "[Derivative Calculator](https://www.derivative-calculator.net/)\n",
    "\n",
    "[Integral Calculator](https://www.integral-calculator.com/)"
   ]
  },
  {
   "cell_type": "markdown",
   "metadata": {},
   "source": [
    "![image.png](figures/fig336.PNG)\n",
    "\n",
    "![image.png](figures/fig337.PNG)\n",
    "\n",
    "![image.png](figures/fig338.PNG)\n",
    "\n",
    "![image.png](figures/fig339.PNG)\n",
    "\n",
    "![image.png](figures/fig340.PNG)\n",
    "\n",
    "![image.png](figures/fig341.PNG)\n",
    "\n",
    "![image.png](figures/fig342.PNG)\n",
    "\n",
    "![image.png](figures/fig343.PNG)\n",
    "\n",
    "![image.png](figures/fig344.PNG)"
   ]
  },
  {
   "cell_type": "markdown",
   "metadata": {},
   "source": [
    "\n",
    "\n",
    "![image.png](figures/fig345.PNG)\n",
    "\n",
    "![image.png](figures/fig346.PNG)\n",
    "\n",
    "![image.png](figures/fig347.PNG)\n",
    "\n",
    "![image.png](figures/fig348.PNG)\n",
    "\n",
    "![image.png](figures/fig349.PNG)\n",
    "\n",
    "![image.png](figures/fig350.PNG)\n",
    "\n",
    "So when it comes to b2.for the upper part we take the lowest & highest t that is t0 and t2 from the sub tree of the upper part (0.376610). And for the lower part(0.44453) of b2 we take the lowest and highest value of t from its subtree that is t1 and t2. Same goes for b3. It would be (0.44453-0.37660)/(22.5-10). Here highest and lowest t of its subtree is t0 and t3.\n",
    "\n",
    "![image.png](figures/fig352.PNG)\n",
    "\n",
    "![image.png](figures/fig353.PNG)\n",
    "\n"
   ]
  },
  {
   "cell_type": "markdown",
   "metadata": {},
   "source": [
    "![image.png](figures/fig354.PNG)\n",
    "\n",
    "![image.png](figures/fig355.PNG)\n",
    "\n",
    "![image.png](figures/fig356.PNG)\n",
    "\n",
    "![image.png](figures/fig357.PNG)"
   ]
  },
  {
   "cell_type": "markdown",
   "metadata": {},
   "source": [
    "# That's all for this lecture!"
   ]
  }
 ],
 "metadata": {
  "kernelspec": {
   "display_name": "Python 3",
   "language": "python",
   "name": "python3"
  },
  "language_info": {
   "codemirror_mode": {
    "name": "ipython",
    "version": 3
   },
   "file_extension": ".py",
   "mimetype": "text/x-python",
   "name": "python",
   "nbconvert_exporter": "python",
   "pygments_lexer": "ipython3",
   "version": "3.7.6"
  }
 },
 "nbformat": 4,
 "nbformat_minor": 4
}
