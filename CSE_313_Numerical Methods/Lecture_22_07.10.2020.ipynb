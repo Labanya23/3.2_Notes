{
 "cells": [
  {
   "cell_type": "markdown",
   "metadata": {},
   "source": [
    "<div class=\"alert alert-success\">\n",
    "    <b>Author</b>:\n",
    "\n",
    "      Rashik Rahman\n",
    "      17201012@uap-bd.edu\n",
    "\n",
    "</div>\n",
    "\n",
    "# [Click here to see class lecture](https://drive.google.com/file/d/1jPCuZzEROpX4ULgFN3JAx3yJnsH8fhAK/view)\n",
    "\n",
    "### [Book ref](http://mathforcollege.com/nm/topics/textbook_index.html)\n",
    "\n",
    "[Derivative Calculator](https://www.derivative-calculator.net/)\n",
    "\n",
    "[Integral Calculator](https://www.integral-calculator.com/)"
   ]
  },
  {
   "cell_type": "markdown",
   "metadata": {},
   "source": [
    "![image.png](figures/fig445.PNG)\n",
    "\n",
    "![image.png](figures/fig446.PNG)\n",
    "\n",
    "![image.png](figures/fig447.PNG)\n",
    "\n",
    "![image.png](figures/fig448.PNG)\n",
    "\n",
    "![image.png](figures/fig449.PNG)\n",
    "\n",
    "![image.png](figures/fig450.PNG)\n",
    "\n",
    "![image.png](figures/fig451.PNG)"
   ]
  },
  {
   "cell_type": "markdown",
   "metadata": {},
   "source": [
    "**R^2 error calculation is like less R^2 value means more error. \n",
    "\n",
    "![image.png](figures/fig452.PNG)\n",
    "\n",
    "![image.png](figures/fig453.PNG)\n",
    "\n",
    "![image.png](figures/fig454.PNG)\n",
    "\n",
    "![image.png](figures/fig455.PNG)\n",
    "\n",
    "![image.png](figures/fig456.PNG)\n",
    "\n",
    "![image.png](figures/fig457.PNG)\n",
    "\n",
    "Finding the value of intercept and slope.\n",
    "\n",
    "![image.png](figures/fig458.PNG)\n",
    "\n",
    "![image.png](figures/fig459.PNG)\n",
    "\n",
    "![image.png](figures/fig460.PNG)\n",
    "\n",
    "![image.png](figures/fig461.PNG)\n",
    "\n",
    "![image.png](figures/fig462.PNG)\n",
    "\n",
    "![image.png](figures/fig463.PNG)"
   ]
  },
  {
   "cell_type": "markdown",
   "metadata": {},
   "source": []
  },
  {
   "cell_type": "markdown",
   "metadata": {},
   "source": []
  }
 ],
 "metadata": {
  "kernelspec": {
   "display_name": "Python 3",
   "language": "python",
   "name": "python3"
  },
  "language_info": {
   "codemirror_mode": {
    "name": "ipython",
    "version": 3
   },
   "file_extension": ".py",
   "mimetype": "text/x-python",
   "name": "python",
   "nbconvert_exporter": "python",
   "pygments_lexer": "ipython3",
   "version": "3.7.6"
  }
 },
 "nbformat": 4,
 "nbformat_minor": 4
}
