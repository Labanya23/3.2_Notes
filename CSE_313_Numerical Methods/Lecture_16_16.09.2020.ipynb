{
 "cells": [
  {
   "cell_type": "markdown",
   "metadata": {},
   "source": [
    "<div class=\"alert alert-success\">\n",
    "    <b>Author</b>:\n",
    "\n",
    "      Rashik Rahman\n",
    "      17201012@uap-bd.edu\n",
    "\n",
    "</div>\n",
    "\n",
    "# [Click here to see class lecture](https://drive.google.com/file/d/1AV6pZnEYd_7oga-4ZPjb4mdQuh50eE_O/view)\n",
    "\n",
    "### [Book ref](http://mathforcollege.com/nm/topics/textbook_index.html)\n",
    "\n",
    "[Derivative Calculator](https://www.derivative-calculator.net/)"
   ]
  },
  {
   "cell_type": "markdown",
   "metadata": {},
   "source": [
    "**Gauss-Seidel Method** may or may not converge to the true solution.\n",
    "\n",
    "![image.png](figures/fig303.PNG)\n",
    "\n",
    "In this method all equations may not converge. But there's a way to converge. The condition of diagonally dominant is like , diagonals are a11,a22,a33,.... so if we consider 3x3 matrix so 1st row will have a11,a12,a13 the condition is a11>=a12+a13 and if this condition is true for all the other rows `and` if there's at least one row whose diagonal value is strictly greater than sum of other value in the row like a11>a12+a13 then [A] in [A] [X] = [C] is diagonally dominant. `This is the condition of diagonally dominant.`\n",
    "\n",
    "![image.png](figures/fig304.PNG)\n",
    "\n",
    "Here [B] is diagonally dominant so [B] is solvable using gauss-seidal method. And [A] may or may not be solvable. \n",
    "\n",
    "![image.png](figures/fig305.PNG)\n",
    "\n",
    "So before doing gauss-seidal try to se if the matrix is diagonally dominant or not. If it is then do gauss-seidal otherwise we rearrange the matrix shown in `example 3`\n",
    "\n",
    "![image.png](figures/fig306.PNG)\n",
    "\n",
    "![image.png](figures/fig307.PNG)\n",
    "\n",
    "![image.png](figures/fig308.PNG)\n",
    "\n",
    "![image.png](figures/fig309.PNG)\n",
    "\n",
    "![image.png](figures/fig310.PNG)\n",
    "\n",
    "![image.png](figures/fig311.PNG)\n",
    "\n",
    "![image.png](figures/fig312.PNG)\n",
    "\n"
   ]
  },
  {
   "cell_type": "markdown",
   "metadata": {},
   "source": [
    "Another example\n",
    "\n",
    "\n",
    "![image.png](figures/fig313.PNG)\n",
    "\n",
    "Here we can see that it's not converging. So how can we solve this?\n",
    "\n",
    "![image.png](figures/fig314.PNG)\n",
    "\n",
    "We can solve this by rearranging the whole row in such a way that it satisfies diagonally dominant's condition. So after rearranging [A] then we can do gauss-seidal method.\n",
    "\n",
    "![image.png](figures/fig315.PNG)\n",
    "\n",
    "Here in the scenario below even rearranging won't work. So we can't use gauss-seidal in the scenario below.\n",
    "\n",
    "![image.png](figures/fig316.PNG)\n",
    "\n",
    "![image.png](figures/fig317.PNG)"
   ]
  },
  {
   "cell_type": "markdown",
   "metadata": {},
   "source": [
    "# Interpolation - Direct Method\n",
    "\n",
    "\n",
    "![image.png](figures/fig318.PNG)\n",
    "\n",
    "![image.png](figures/fig319.PNG)\n",
    "\n",
    "![image.png](figures/fig320.PNG)\n",
    "\n"
   ]
  },
  {
   "cell_type": "markdown",
   "metadata": {},
   "source": [
    "*Lets see an example**\n",
    "\n",
    "![image.png](figures/fig321.PNG)\n",
    "\n",
    "As it is a linear interpolation so we use two points. It's a first order polynomial equation. One before 16 and another after 16. So we get two equations given below, where a0 and a1 are unknown. In the previous lectures we learned gauss elimination, LU decomposition, gauss-seidal to calculate the value of the unknown. We can use any of these 3 three to calculate the value of a0 and a1.\n",
    "\n",
    "![image.png](figures/fig323.PNG)\n",
    "![image.png](figures/fig324.PNG)\n",
    "\n",
    "![image.png](figures/fig322.PNG)\n",
    "\n",
    "For quadratic equation we'll use three points. Two before one after 16 or one before two after 16. We will choose the orientation based on the points closer to 16. Here we took two point before and one point after 16, we choose this orientation cause 10 is closer to 16 than 22.5, That why we choose 10,15 & 20.Let we had to calculate velocity for t=17 than the orientation would be 15 & 20.22.5 cause 22.5 is closer to 17 than 10. And the equation has a0,a1,a2 unknowns that can be calculated via gauss elimination, LU decomposition, gauss-seidal. If it was a polynomial equation of order n then we would have n+1 unknowns. Like a 3rd order polynomial equation will loook like a0+a1t+a2t^2+a3t^3.\n",
    "\n",
    "![image.png](figures/fig325.PNG)\n",
    "\n",
    "![image.png](figures/fig326.PNG)\n",
    "\n",
    "this quadratic equation is 2nd order polynomial and previous linear equation was first order polynomial so the difference of the will be the error.\n",
    "\n",
    "![image.png](figures/fig327.PNG)\n",
    "\n",
    "\n"
   ]
  },
  {
   "cell_type": "markdown",
   "metadata": {},
   "source": [
    "For cubic equation we'll take four points. 10,15,20,22.5. Its a third order polynomial equation. so the unknowns are a0,a1,a2,a3. And we can calculate error by the difference of 3rd and 2nd order polynomial.\n",
    "\n",
    "![image.png](figures/fig328.PNG)\n",
    "\n",
    "![image.png](figures/fig329.PNG)\n",
    "\n",
    "![image.png](figures/fig330.PNG)\n",
    "\n",
    "![image.png](figures/fig331.PNG)\n"
   ]
  },
  {
   "cell_type": "markdown",
   "metadata": {},
   "source": [
    "#### Let's clear out some concepts about significant digits.\n",
    "\n",
    "- If the absolute relative error percent is less than 5% than there at least exist 1 significant digit\n",
    "\n",
    "- If the absolute relative error percent is less than 0.5% than there at least exist 2 significant digit\n",
    "\n",
    "- If the absolute relative error percent is less than 0.05% than there at least exist 3 significant digit"
   ]
  },
  {
   "cell_type": "markdown",
   "metadata": {},
   "source": [
    "**To get distance we do integration on velocity. To get acceleration we do differentiation on velocity.**\n",
    "\n",
    "a0+a1t+a2t^2+a3t^3 in this equation we provide the value of the unknowns that we calculated in cubic interpolation. and then do integration on the equation.\n",
    "\n",
    "![image.png](figures/fig332.PNG)\n",
    "\n",
    "[Integral calculator](https://www.integral-calculator.com/)\n",
    "\n",
    "![image.png](figures/fig333.PNG)\n",
    "\n",
    "![image.png](figures/fig335.PNG)\n",
    "\n",
    "![image.png](figures/fig334.PNG)"
   ]
  },
  {
   "cell_type": "markdown",
   "metadata": {},
   "source": [
    "# That's all for this lecture"
   ]
  }
 ],
 "metadata": {
  "kernelspec": {
   "display_name": "Python 3",
   "language": "python",
   "name": "python3"
  },
  "language_info": {
   "codemirror_mode": {
    "name": "ipython",
    "version": 3
   },
   "file_extension": ".py",
   "mimetype": "text/x-python",
   "name": "python",
   "nbconvert_exporter": "python",
   "pygments_lexer": "ipython3",
   "version": "3.7.6"
  }
 },
 "nbformat": 4,
 "nbformat_minor": 4
}
