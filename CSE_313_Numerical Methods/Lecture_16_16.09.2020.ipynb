{
 "cells": [
  {
   "cell_type": "markdown",
   "metadata": {},
   "source": [
    "<div class=\"alert alert-success\">\n",
    "    <b>Author</b>:\n",
    "\n",
    "      Rashik Rahman\n",
    "      17201012@uap-bd.edu\n",
    "\n",
    "</div>\n",
    "\n",
    "# [Click here to see class lecture](https://drive.google.com/file/d/1AV6pZnEYd_7oga-4ZPjb4mdQuh50eE_O/view)\n",
    "\n",
    "### [Book ref](http://mathforcollege.com/nm/topics/textbook_index.html)\n",
    "\n",
    "[Derivative Calculator](https://www.derivative-calculator.net/)"
   ]
  },
  {
   "cell_type": "markdown",
   "metadata": {},
   "source": [
    "**Gauss-Seidel Method** may or may not converge to the true solution.\n",
    "\n",
    "![image.png](figures/fig303.PNG)\n",
    "\n",
    "In this method all equations may not converge. But there's a way to converge. The condition of diagonally dominant is like , diagonals are a11,a22,a33,.... so if we consider 3x3 matrix so 1st row will have a11,a12,a13 the condition is a11>=a12+a13 and if this condition is true for all the other rows `and` if there's at least one row whose diagonal value is strictly greater than sum of other value in the row like a11>a12+a13 then [A] in [A] [X] = [C] is diagonally dominant. `This is the condition of diagonally dominant.`\n",
    "\n",
    "![image.png](figures/fig304.PNG)\n",
    "\n",
    "Here [B] is diagonally dominant so [B] is solvable using gauss-seidal method. And [A] may or may not be solvable. \n",
    "\n",
    "![image.png](figures/fig305.PNG)\n",
    "\n",
    "So before doing gauss-seidal try to se if the matrix is diagonally dominant or not. If it is then do gauss-seidal otherwise we rearrange the matrix shown in `example 3`\n",
    "\n",
    "![image.png](figures/fig306.PNG)\n",
    "\n",
    "![image.png](figures/fig307.PNG)\n",
    "\n",
    "![image.png](figures/fig308.PNG)\n",
    "\n",
    "![image.png](figures/fig309.PNG)\n",
    "\n",
    "![image.png](figures/fig310.PNG)\n",
    "\n",
    "![image.png](figures/fig311.PNG)\n",
    "\n",
    "![image.png](figures/fig312.PNG)\n",
    "\n"
   ]
  },
  {
   "cell_type": "markdown",
   "metadata": {},
   "source": [
    "Another example\n",
    "\n",
    "\n",
    "![image.png](figures/fig313.PNG)\n",
    "\n",
    "Here we can see that it's not converging. So how can we solve this?\n",
    "\n",
    "![image.png](figures/fig314.PNG)\n",
    "\n",
    "We can solve this by rearranging the whole row in such a way that it satisfies diagonally dominant's condition. So after rearranging [A] then we can do gauss-seidal method.\n",
    "\n",
    "![image.png](figures/fig315.PNG)\n",
    "\n",
    "Here in the scenario below even rearranging won't work. So we can't use gauss-seidal in the scenario below.\n",
    "\n",
    "![image.png](figures/fig316.PNG)\n",
    "\n",
    "![image.png](figures/fig317.PNG)"
   ]
  },
  {
   "cell_type": "markdown",
   "metadata": {},
   "source": [
    "continue from 34.34\n"
   ]
  }
 ],
 "metadata": {
  "kernelspec": {
   "display_name": "Python 3",
   "language": "python",
   "name": "python3"
  },
  "language_info": {
   "codemirror_mode": {
    "name": "ipython",
    "version": 3
   },
   "file_extension": ".py",
   "mimetype": "text/x-python",
   "name": "python",
   "nbconvert_exporter": "python",
   "pygments_lexer": "ipython3",
   "version": "3.7.6"
  }
 },
 "nbformat": 4,
 "nbformat_minor": 4
}
