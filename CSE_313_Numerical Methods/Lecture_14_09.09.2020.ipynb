{
 "cells": [
  {
   "cell_type": "markdown",
   "metadata": {},
   "source": [
    "<div class=\"alert alert-success\">\n",
    "    <b>Author</b>:\n",
    "\n",
    "      Rashik Rahman\n",
    "      17201012@uap-bd.edu\n",
    "\n",
    "</div>\n",
    "\n",
    "# [Click here to see class lecture](https://drive.google.com/file/d/1gierdF9mkfaBP3bKAlxrqVsvUE5FTPSl/view)\n",
    "\n",
    "### [Book ref](http://mathforcollege.com/nm/topics/textbook_index.html)\n",
    "\n",
    "[Derivative Calculator](https://www.derivative-calculator.net/)"
   ]
  },
  {
   "cell_type": "markdown",
   "metadata": {},
   "source": [
    "\n",
    "![image.png](figures/fig238.PNG)\n",
    "\n",
    "![image.png](figures/fig239.PNG)\n",
    "\n",
    "![image.png](figures/fig240.PNG)\n",
    "\n",
    "![image.png](figures/fig241.PNG)\n",
    "\n",
    "![image.png](figures/fig242.PNG)\n",
    "\n",
    "![image.png](figures/fig243.PNG)\n",
    "\n",
    "![image.png](figures/fig244.PNG)"
   ]
  },
  {
   "cell_type": "markdown",
   "metadata": {},
   "source": [
    "Another limitation of gauss elimination is it only can solve square matrix like [A]nxn.\n",
    "\n",
    "# Determinant of square matrix.\n",
    "\n",
    "![image.png](figures/fig245.PNG)\n",
    "\n",
    "![image.png](figures/fig246.PNG)\n",
    "\n",
    "![image.png](figures/fig247.PNG)\n",
    "\n",
    "![image.png](figures/fig248.PNG)\n",
    "\n",
    "![image.png](figures/fig249.PNG)\n",
    "\n",
    "![image.png](figures/fig250.PNG)\n",
    "\n",
    "![image.png](figures/fig251.PNG)\n",
    "\n",
    "![image.png](figures/fig252.PNG)\n",
    "\n",
    "![image.png](figures/fig253.PNG)\n",
    "\n",
    "![image.png](figures/fig254.PNG)\n",
    "\n",
    "![image.png](figures/fig255.PNG)"
   ]
  },
  {
   "cell_type": "markdown",
   "metadata": {},
   "source": [
    "# LU Decomposition\n",
    "\n",
    "\n",
    "![image.png](figures/fig256.PNG)\n",
    "\n",
    "![image.png](figures/fig257.PNG)\n",
    "\n",
    "![image.png](figures/fig258.PNG)\n",
    "\n",
    "![image.png](figures/fig259.PNG)\n",
    "\n",
    "![image.png](figures/fig260.PNG)\n",
    "\n",
    "![image.png](figures/fig261.PNG)\n",
    "\n",
    "![image.png](figures/fig262.PNG)\n",
    "\n",
    "![image.png](figures/fig263.PNG)\n",
    "\n",
    "![image.png](figures/fig264.PNG)\n",
    "\n",
    "![image.png](figures/fig265.PNG)"
   ]
  },
  {
   "cell_type": "markdown",
   "metadata": {},
   "source": [
    "\n",
    "![image.png](figures/fig266.PNG)\n",
    "\n",
    "![image.png](figures/fig267.PNG)\n",
    "\n",
    "![image.png](figures/fig268.PNG)\n",
    "\n",
    "![image.png](figures/fig269.PNG)\n",
    "\n",
    "![image.png](figures/fig270.PNG)\n",
    "\n",
    "![image.png](figures/fig271.PNG)\n",
    "\n",
    "![image.png](figures/fig272.PNG)\n",
    "\n",
    "![image.png](figures/fig273.PNG)"
   ]
  },
  {
   "cell_type": "markdown",
   "metadata": {},
   "source": [
    "# That's all for this lecture!"
   ]
  }
 ],
 "metadata": {
  "kernelspec": {
   "display_name": "Python 3",
   "language": "python",
   "name": "python3"
  },
  "language_info": {
   "codemirror_mode": {
    "name": "ipython",
    "version": 3
   },
   "file_extension": ".py",
   "mimetype": "text/x-python",
   "name": "python",
   "nbconvert_exporter": "python",
   "pygments_lexer": "ipython3",
   "version": "3.7.6"
  }
 },
 "nbformat": 4,
 "nbformat_minor": 4
}
