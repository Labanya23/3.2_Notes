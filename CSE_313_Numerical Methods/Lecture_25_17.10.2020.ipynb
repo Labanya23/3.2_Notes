{
 "cells": [
  {
   "cell_type": "markdown",
   "metadata": {},
   "source": [
    "<div class=\"alert alert-success\">\n",
    "    <b>Author</b>:\n",
    "\n",
    "      Rashik Rahman\n",
    "      17201012@uap-bd.edu\n",
    "\n",
    "</div>\n",
    "\n",
    "# [Click here to see class lecture](https://drive.google.com/file/d/1JErwuTEhw-7mYymkLZDk-SmHDUcZ5aos/view)\n",
    "\n",
    "### [Book ref](http://mathforcollege.com/nm/topics/textbook_index.html)\n",
    "\n",
    "[Derivative Calculator](https://www.derivative-calculator.net/)\n",
    "\n",
    "[Integral Calculator](https://www.integral-calculator.com/)"
   ]
  },
  {
   "cell_type": "markdown",
   "metadata": {},
   "source": [
    "This is a optimization algo\n",
    "\n",
    "![image.png](figures/fig504.PNG)\n",
    "\n",
    "We take a and b such that it brackets the optimal value. This value is the maximum value of a positive curve shown in the fig below. From a we get f(a) that is the rise for a, similarly we get f((a+b)/2), f(b). So f((a+b)/2) is the mid point. We take two point at both sides of mid point that are of same distance (E/2). Let us rename these point A that is f((a+b)/2-E/2) and B that is f((a+b)/2+E/2). Now if B > A then the root is in A->b otherwise the root is in a->B.\n",
    "\n",
    "![image.png](figures/fig505.PNG)\n",
    "\n",
    "`Now the problem with equal interval method is, its inefficient when E is small cause more iteration will be needed.` So we can use golden section search method instead of equal interval. In this method we divide the area in X2 and X1 and thus we get f2 and f1. Now if f2>f1 then we can get rid of the area from X1 to X_u. Now X1 becomes the new X_U and X2 becomes X1 now we have to calculate X2.\n",
    "\n",
    "![image.png](figures/fig506.PNG)\n",
    "\n",
    "Now the question is how to calculate X1 and X2. To get X1 we need to multiply the difference between X_U and X_l with 0.618 (this is the golden ratio = (root(5)-1)/2 = 0.618 ). So basically **X1 = X_l + d = X_l + 0.618*h**, here d = X_U-X_l is the distance from X_l to X1. and d = 0.618 * h here h is the difference between X_l and X_U. As d is the distance from X_l to X1 thus we add d with X_l to get X1. Now to get X2 we need to subtract d from X_U cause X2 is the distance from X_U to X2. \n",
    "\n",
    "So **X2 = X_U - d = X_U - 0.618*h**\n",
    "\n",
    "![image.png](figures/fig507.PNG)"
   ]
  },
  {
   "cell_type": "markdown",
   "metadata": {},
   "source": [
    "If f(x2)>f(x1) then X1 becomes new X_U, X2 becomes new X1 and X_l stays X_l and we have to calculate X2. Else X_2 becomes X_l, X1 becomes X2, X_U stays the same and we have to calculate X1.\n",
    "\n",
    "![image.png](figures/fig508.PNG)"
   ]
  },
  {
   "cell_type": "markdown",
   "metadata": {},
   "source": []
  }
 ],
 "metadata": {
  "kernelspec": {
   "display_name": "Python 3",
   "language": "python",
   "name": "python3"
  },
  "language_info": {
   "codemirror_mode": {
    "name": "ipython",
    "version": 3
   },
   "file_extension": ".py",
   "mimetype": "text/x-python",
   "name": "python",
   "nbconvert_exporter": "python",
   "pygments_lexer": "ipython3",
   "version": "3.7.6"
  }
 },
 "nbformat": 4,
 "nbformat_minor": 4
}
