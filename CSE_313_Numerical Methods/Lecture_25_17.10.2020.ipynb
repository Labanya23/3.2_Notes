{
 "cells": [
  {
   "cell_type": "markdown",
   "metadata": {},
   "source": [
    "<div class=\"alert alert-success\">\n",
    "    <b>Author</b>:\n",
    "\n",
    "      Rashik Rahman\n",
    "      17201012@uap-bd.edu\n",
    "\n",
    "</div>\n",
    "\n",
    "# [Click here to see class lecture](https://drive.google.com/file/d/1JErwuTEhw-7mYymkLZDk-SmHDUcZ5aos/view)\n",
    "\n",
    "### [Book ref](http://mathforcollege.com/nm/topics/textbook_index.html)\n",
    "\n",
    "[Derivative Calculator](https://www.derivative-calculator.net/)\n",
    "\n",
    "[Integral Calculator](https://www.integral-calculator.com/)"
   ]
  },
  {
   "cell_type": "markdown",
   "metadata": {},
   "source": [
    "This is a optimization algo\n",
    "\n",
    "![image.png](figures/fig504.PNG)\n",
    "\n",
    "We take a and b such that it brackets the optimal value. This value is the maximum value of a positive curve shown in the fig below. From a we get f(a) that is the rise for a, similarly we get f((a+b)/2), f(b). So f((a+b)/2) is the mid point. We take two point at both sides of mid point that are of same distance (E/2). Let us rename these point A that is f((a+b)/2-E/2) and B that is f((a+b)/2+E/2). Now if B > A then the root is in A->b otherwise the root is in a->B.\n",
    "\n",
    "![image.png](figures/fig505.PNG)\n",
    "\n",
    "`Now the problem with equal interval method is, its inefficient when E is small cause more iteration will be needed.` So we can use golden section search method instead of equal interval. In this method we divide the area in X2 and X1 and thus we get f2 and f1. Now if f2>f1 then we can get rid of the area from X1 to X_u. Now X1 becomes the new X_U and X2 becomes X1 now we have to calculate X2.\n",
    "\n",
    "![image.png](figures/fig506.PNG)\n",
    "\n",
    "Now the question is how to calculate X1 and X2. To get X1 we need to multiply the difference between X_U and X_l with 0.618 (this is the golden ratio = (root(5)-1)/2 = 0.618 ). So basically **X1 = X_l + d = X_l + 0.618*h**, here d is the distance from X_l to X1. and d = 0.618 * h here h is the difference between X_l and X_U. As d is the distance from X_l to X1 thus we add d with X_l to get X1. Now to get X2 we need to subtract d from X_U cause X2 is the distance from X_U to X2. \n",
    "\n",
    "So **X2 = X_U - d = X_U - 0.618*h**\n",
    "\n",
    "![image.png](figures/fig507.PNG)"
   ]
  },
  {
   "cell_type": "markdown",
   "metadata": {},
   "source": [
    "If f(x2)>f(x1) then X1 becomes new X_U, X2 becomes new X1 and X_l stays X_l and we have to calculate X2. Else X_2 becomes X_l, X1 becomes X2, X_U stays the same and we have to calculate X1.\n",
    "\n",
    "![image.png](figures/fig508.PNG)\n",
    "\n",
    "### Example\n",
    "\n",
    "Here we get the interval [0 , pi/2] this is the range. This means X_l = 0, X_U = pi/2 = 1.5708 where pi = 3.1416(value in radians). Then initially E=0.05. So when to stop iterations? We stop iteration when X_U - X_l = 0. But in question it will be said explicitly like do 3 iteration or difference of X_U and X_l should be greater equal to some value, or if nothing is given then we would try to reach the initial E value. That is the difference between X_U and X_l should be greater or equal the initial E. If it is less than initial E then we stop iteration. Question says to find the value of theta that maximizes the cross sectional area, this means it's asking for optimal value. Thus we do golden section search.\n",
    "\n",
    "![image.png](figures/fig509.PNG)\n",
    "\n",
    "![image.png](figures/fig510.PNG)\n",
    "\n",
    "Here we check the stopping criteria. As E is greater than 0.05 So we do the next iteration.\n",
    "\n",
    "![image.png](figures/fig511.PNG)\n",
    "\n",
    "![image.png](figures/fig512.PNG)\n",
    "\n",
    "In the 8th iteration E is still greater than 0.05 thus we'll do another iteration. In 9th iteration we get E = 0.0334 so we stop in the 9th iteration. Now after stopping the iteration let's calculate the optimal theta value. To do that we do (X_U+X_l)/2 and thus get 1.0420. This is the radian value of 60 degree. Thus we can say the optimal solution to the problem happens at exactly 60 degrees which is 1.0472. Either you can write optimal value is 60 degree or you can write 1.0472 radian which ever you like but make sure to write the unit.\n",
    "\n",
    "![image.png](figures/fig513.PNG)"
   ]
  },
  {
   "cell_type": "markdown",
   "metadata": {},
   "source": [
    "# That's all for this lecture!"
   ]
  }
 ],
 "metadata": {
  "kernelspec": {
   "display_name": "Python 3",
   "language": "python",
   "name": "python3"
  },
  "language_info": {
   "codemirror_mode": {
    "name": "ipython",
    "version": 3
   },
   "file_extension": ".py",
   "mimetype": "text/x-python",
   "name": "python",
   "nbconvert_exporter": "python",
   "pygments_lexer": "ipython3",
   "version": "3.7.6"
  }
 },
 "nbformat": 4,
 "nbformat_minor": 4
}
