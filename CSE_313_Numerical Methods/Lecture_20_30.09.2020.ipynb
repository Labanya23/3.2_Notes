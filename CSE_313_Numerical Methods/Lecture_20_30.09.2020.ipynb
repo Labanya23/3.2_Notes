{
 "cells": [
  {
   "cell_type": "markdown",
   "metadata": {},
   "source": [
    "<div class=\"alert alert-success\">\n",
    "    <b>Author</b>:\n",
    "\n",
    "      Rashik Rahman\n",
    "      17201012@uap-bd.edu\n",
    "\n",
    "</div>\n",
    "\n",
    "# [Click here to see class lecture](https://drive.google.com/file/d/1ZoaBvP3mODTfFr_yshSpD1iMHoFVBFQ5/view)\n",
    "\n",
    "### [Book ref](http://mathforcollege.com/nm/topics/textbook_index.html)\n",
    "\n",
    "[Derivative Calculator](https://www.derivative-calculator.net/)\n",
    "\n",
    "[Integral Calculator](https://www.integral-calculator.com/)"
   ]
  },
  {
   "cell_type": "markdown",
   "metadata": {},
   "source": [
    "![image.png](figures/fig394.PNG)\n",
    "\n",
    "![image.png](figures/fig395.PNG)\n",
    "\n",
    "Here for polynomial we consider 3 points, a,b and a+b/2. Thus we get these equations.\n",
    "\n",
    "![image.png](figures/fig396.PNG)\n",
    "\n",
    "![image.png](figures/fig398.PNG)\n",
    "\n",
    "![image.png](figures/fig397.PNG)\n",
    "\n",
    "![image.png](figures/fig399.PNG)\n",
    "\n",
    "![image.png](figures/fig400.PNG)"
   ]
  },
  {
   "cell_type": "markdown",
   "metadata": {},
   "source": [
    "**Example 1** \n",
    "\n",
    "![image.png](figures/fig401.PNG)\n",
    "\n",
    "![image.png](figures/fig402.PNG)\n",
    "\n",
    "![image.png](figures/fig403.PNG)\n",
    "\n",
    "![image.png](figures/fig404.PNG)\n",
    "\n",
    "![image.png](figures/fig405.PNG)\n",
    "\n",
    "![image.png](figures/fig406.PNG)\n",
    "\n",
    "Simpson use 3 points thus we selected x0 and x2 so there would be a middle point x1. Same for x4 and x2.\n",
    "\n",
    "![image.png](figures/fig407.PNG)\n",
    "\n",
    "![image.png](figures/fig408.PNG)\n",
    "\n",
    "![image.png](figures/fig409.PNG)\n",
    "\n",
    "![image.png](figures/fig410.PNG)"
   ]
  },
  {
   "cell_type": "markdown",
   "metadata": {},
   "source": [
    "**Example 2**\n",
    "\n",
    "![image.png](figures/fig412.PNG)\n",
    "\n",
    "![image.png](figures/fig411.PNG)\n",
    "\n",
    "here n = 4. so in the 1st f(ti) function we consider all the odd number from 1 to n-1 and in the 2nd f(ti) we consider all the even number from 2 to n-2. **Note that n should always be a even number according to simpsons.**\n",
    "\n",
    "![image.png](figures/fig413.PNG)\n",
    "\n",
    "![image.png](figures/fig414.PNG)\n",
    "\n",
    "![image.png](figures/fig415.PNG)\n",
    "\n",
    "![image.png](figures/fig416.PNG)\n",
    "\n",
    "\n",
    "**We'll skip error in the multiple segment simpson's 1/3 rule.**"
   ]
  },
  {
   "cell_type": "markdown",
   "metadata": {},
   "source": [
    "# That's all for this lecture!"
   ]
  }
 ],
 "metadata": {
  "kernelspec": {
   "display_name": "Python 3",
   "language": "python",
   "name": "python3"
  },
  "language_info": {
   "codemirror_mode": {
    "name": "ipython",
    "version": 3
   },
   "file_extension": ".py",
   "mimetype": "text/x-python",
   "name": "python",
   "nbconvert_exporter": "python",
   "pygments_lexer": "ipython3",
   "version": "3.7.6"
  }
 },
 "nbformat": 4,
 "nbformat_minor": 4
}
