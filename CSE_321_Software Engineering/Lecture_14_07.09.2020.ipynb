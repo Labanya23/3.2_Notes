{
 "cells": [
  {
   "cell_type": "markdown",
   "metadata": {},
   "source": [
    "<div class=\"alert alert-success\">\n",
    "    <b>Author</b>:\n",
    "\n",
    "      Rashik Rahman\n",
    "      17201012@uap-bd.edu\n",
    "\n",
    "</div>\n",
    "\n",
    "# [Click here to see class lecture](https://drive.google.com/file/d/1_xfTt8X22slZnDX9leMN76oqdIWngr4M/view)"
   ]
  },
  {
   "cell_type": "markdown",
   "metadata": {},
   "source": [
    "**GOALS** \n",
    "\n",
    "![image.png](figures/fig198.PNG)\n",
    "\n",
    "**Review**\n",
    "\n",
    "![image.png](figures/fig199.PNG)\n",
    "\n",
    "**Important for mcq/viva**\n",
    "\n",
    "![image.png](figures/fig200.PNG)\n",
    "\n",
    "**Give a reading**\n",
    "\n",
    "![image.png](figures/fig201.PNG)\n",
    "\n",
    "If we take University as an architectural design then we can say what complaint or solution domain it'll have. Here Student, teacher, admin modules and their interrelated relation ar explained in architectural design.\n",
    "\n",
    "Now if we take one entity like student they'll have multiple components i.e. id,cgpa, conducted course moreover all info and their interaction with each other are explained in high level design.\n",
    "\n",
    "In detailed design we'll see detail info about the student like id is int or not cgpa is float or not, what kind of relation does he have one to many or many to many etc are explained here.\n",
    "\n",
    "![image.png](figures/fig202.PNG)\n",
    "\n",
    "Design patter/software design is used to make full project understandable to others and make coding part efficient.\n",
    "\n",
    "![image.png](figures/fig203.PNG)\n",
    "\n",
    "Designing is based on these 4 principles.\n",
    "\n",
    "![image.png](figures/fig204.PNG)\n",
    "\n",
    "Partitioning the problem in many chunks increases cost.\n",
    "\n",
    "![image.png](figures/fig205.PNG)\n",
    "\n",
    "Modularization of problem is better than problem partition. Though they seems same but there is some different in concept. In partition you can't tell if the partition can work/tested independently but in modularization the modules can work or tested independently.\n",
    "\n",
    "![image.png](figures/fig206.PNG)\n",
    "\n",
    "![image.png](figures/fig207.PNG)\n",
    "\n",
    "We try to keep less dependency when designing software. Coupling is like dependency.\n",
    "\n",
    "![image.png](figures/fig208.PNG)\n",
    "\n",
    "Important for viva.\n",
    "\n",
    "![image.png](figures/fig209.PNG)\n",
    "\n",
    "Cohesion shows bonding.\n",
    "\n",
    "![image.png](figures/fig210.PNG)\n",
    "\n",
    "Coupling is like you have 10 friends and cohesion is like who is your best friend among the 10 friends.\n",
    "\n",
    "![image.png](figures/fig211.PNG)"
   ]
  },
  {
   "cell_type": "markdown",
   "metadata": {},
   "source": [
    "# That's all for this lecture!"
   ]
  }
 ],
 "metadata": {
  "kernelspec": {
   "display_name": "Python 3",
   "language": "python",
   "name": "python3"
  },
  "language_info": {
   "codemirror_mode": {
    "name": "ipython",
    "version": 3
   },
   "file_extension": ".py",
   "mimetype": "text/x-python",
   "name": "python",
   "nbconvert_exporter": "python",
   "pygments_lexer": "ipython3",
   "version": "3.7.6"
  }
 },
 "nbformat": 4,
 "nbformat_minor": 4
}
