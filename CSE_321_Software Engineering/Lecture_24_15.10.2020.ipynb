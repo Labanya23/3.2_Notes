{
 "cells": [
  {
   "cell_type": "markdown",
   "metadata": {},
   "source": [
    "<div class=\"alert alert-success\">\n",
    "    <b>Author</b>:\n",
    "\n",
    "      Rashik Rahman\n",
    "      17201012@uap-bd.edu\n",
    "\n",
    "</div>\n",
    "\n",
    "# [Click here to see class lecture](https://drive.google.com/file/d/15qu9dsDAviCEhKmrqBCRFjS6AkIj4BSO/view)"
   ]
  },
  {
   "cell_type": "markdown",
   "metadata": {},
   "source": [
    "![image.png](figures/fig452.PNG)\n",
    "\n",
    "![image.png](figures/fig453.PNG)\n",
    "\n",
    "decomposition technique are technique that are used to decompose or demolish the software product. like for a hardware based software, when the hardware decomposes the software also crashes so we have to take it into account.\n",
    "\n",
    "![image.png](figures/fig454.PNG)\n",
    "\n",
    "social and insurance costs are rent, social security, recreation picnic, treat etc.\n",
    "\n",
    "![image.png](figures/fig455.PNG)\n",
    "\n",
    "![image.png](figures/fig456.PNG)"
   ]
  },
  {
   "cell_type": "markdown",
   "metadata": {},
   "source": [
    "\n",
    "\n",
    "![image.png](figures/fig457.PNG)\n",
    "\n",
    "Relation between cost and validation/verification. This question can come in exam you have to draw this graph.\n",
    "\n",
    "![image.png](figures/fig458.PNG)\n",
    "\n",
    "![image.png](figures/fig459.PNG)\n",
    "\n",
    "![image.png](figures/fig460.PNG)\n",
    "\n",
    "![image.png](figures/fig461.PNG)\n",
    "\n",
    "![image.png](figures/fig462.PNG)\n",
    "\n",
    "![image.png](figures/fig463.PNG)"
   ]
  },
  {
   "cell_type": "markdown",
   "metadata": {},
   "source": [
    "\n",
    "\n",
    "![image.png](figures/fig464.PNG)\n",
    "\n",
    "![image.png](figures/fig467.PNG)\n",
    "\n",
    "1KLOC  is like 1000LOC.\n",
    "\n",
    "![image.png](figures/fig465.PNG)\n",
    "\n",
    "![image.png](figures/fig466.PNG)\n",
    "\n",
    "It only works with 2 parameters effort(how many people required)  & schedule(how much time required). **Important**\n",
    "\n",
    "![image.png](figures/fig468.PNG)\n",
    "\n",
    "**Must be memorized for math**\n",
    "\n",
    "![image.png](figures/fig469.PNG)"
   ]
  },
  {
   "cell_type": "markdown",
   "metadata": {},
   "source": [
    "Values taken from above table.\n",
    "\n",
    "![image.png](figures/fig470.PNG)\n",
    "\n",
    "![image.png](figures/fig471.PNG)\n",
    "\n",
    "![image.png](figures/fig472.PNG)\n",
    "\n",
    "This is another type of q, can come in exam. As the project is not very tight that means its medium tight thus it will be semi detached mode.\n",
    "\n",
    "![image.png](figures/fig473.PNG)\n",
    "\n",
    "![image.png](figures/fig474.PNG)\n",
    "\n",
    "Intermediate is an extension of basic cocomo. Which considers addition cost drivers like mentality of programmers etc. These drivers are divided into 6 categories from very low to extra high.\n",
    "\n",
    "![image.png](figures/fig475.PNG)\n",
    "\n",
    "Additional cost drivers.\n",
    "\n",
    "![image.png](figures/fig476.PNG)\n",
    "\n",
    "it's eqn.\n",
    "\n",
    "![image.png](figures/fig477.PNG)\n"
   ]
  },
  {
   "cell_type": "markdown",
   "metadata": {},
   "source": []
  },
  {
   "cell_type": "markdown",
   "metadata": {},
   "source": []
  }
 ],
 "metadata": {
  "kernelspec": {
   "display_name": "Python 3",
   "language": "python",
   "name": "python3"
  },
  "language_info": {
   "codemirror_mode": {
    "name": "ipython",
    "version": 3
   },
   "file_extension": ".py",
   "mimetype": "text/x-python",
   "name": "python",
   "nbconvert_exporter": "python",
   "pygments_lexer": "ipython3",
   "version": "3.7.6"
  }
 },
 "nbformat": 4,
 "nbformat_minor": 4
}
