{
 "cells": [
  {
   "cell_type": "markdown",
   "metadata": {},
   "source": [
    "<div class=\"alert alert-success\">\n",
    "    <b>Author</b>:\n",
    "\n",
    "      Rashik Rahman\n",
    "      17201012@uap-bd.edu\n",
    "\n",
    "</div>\n",
    "\n",
    "# [Click here to see class lecture](https://drive.google.com/file/d/161yFKr8InoMp6LCxjerzQBO5eEiAiqk0/view)"
   ]
  },
  {
   "cell_type": "markdown",
   "metadata": {},
   "source": [
    "![image.png](figures/fig268.PNG)\n",
    "\n",
    "![image.png](figures/fig269.PNG)\n",
    "\n",
    "Standard should be maintained.\n",
    "\n",
    "![image.png](figures/fig270.PNG)\n",
    "\n",
    "![image.png](figures/fig271.PNG)\n",
    "\n",
    "Things to follow to maintain coding standards.\n",
    "\n",
    "![image.png](figures/fig272.PNG)\n",
    "\n",
    "![image.png](figures/fig273.PNG)\n",
    "\n",
    "![image.png](figures/fig274.PNG)"
   ]
  },
  {
   "cell_type": "markdown",
   "metadata": {},
   "source": [
    "\n",
    "![image.png](figures/fig275.PNG)\n",
    "\n",
    "![image.png](figures/fig276.PNG)\n",
    "\n",
    "![image.png](figures/fig277.PNG)\n",
    "\n",
    "### OOP class model\n",
    "\n",
    "![image.png](figures/fig278.PNG)\n",
    "\n",
    "![image.png](figures/fig279.PNG)\n",
    "\n",
    "![image.png](figures/fig280.PNG)\n",
    "\n",
    "![image.png](figures/fig281.PNG)\n",
    "\n",
    "Q in exam can come like this. Here student class has private variables thus need to use getter setter method. Either the fig below or a description format of the fig below **will come in exam must**\n",
    "\n",
    "![image.png](figures/fig282.PNG)\n",
    "\n",
    "![image.png](figures/fig283.PNG)\n",
    "\n",
    "![image.png](figures/fig284.PNG)\n",
    "\n",
    "![image.png](figures/fig285.PNG)"
   ]
  },
  {
   "cell_type": "markdown",
   "metadata": {},
   "source": [
    "\n",
    "\n",
    "![image.png](figures/fig286.PNG)\n",
    "\n",
    "Thing we can reuse\n",
    "\n",
    "![image.png](figures/fig287.PNG)\n",
    "\n",
    "![image.png](figures/fig288.PNG)\n",
    "\n",
    "![image.png](figures/fig289.PNG)\n",
    "\n",
    "![image.png](figures/fig290.PNG)\n",
    "\n",
    "![image.png](figures/fig291.PNG)\n",
    "\n",
    "![image.png](figures/fig292.PNG)\n",
    "\n",
    "![image.png](figures/fig293.PNG)\n",
    "\n",
    "![image.png](figures/fig294.PNG)\n",
    "\n",
    "![image.png](figures/fig295.PNG)\n",
    "\n",
    "![image.png](figures/fig296.PNG)\n",
    "\n",
    "![image.png](figures/fig297.PNG)"
   ]
  },
  {
   "cell_type": "markdown",
   "metadata": {},
   "source": [
    "# Thats all for this lecture!"
   ]
  }
 ],
 "metadata": {
  "kernelspec": {
   "display_name": "Python 3",
   "language": "python",
   "name": "python3"
  },
  "language_info": {
   "codemirror_mode": {
    "name": "ipython",
    "version": 3
   },
   "file_extension": ".py",
   "mimetype": "text/x-python",
   "name": "python",
   "nbconvert_exporter": "python",
   "pygments_lexer": "ipython3",
   "version": "3.7.6"
  }
 },
 "nbformat": 4,
 "nbformat_minor": 4
}
