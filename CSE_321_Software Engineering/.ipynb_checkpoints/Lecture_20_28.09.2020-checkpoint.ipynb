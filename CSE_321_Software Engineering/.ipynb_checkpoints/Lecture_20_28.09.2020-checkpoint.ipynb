{
 "cells": [
  {
   "cell_type": "markdown",
   "metadata": {},
   "source": [
    "<div class=\"alert alert-success\">\n",
    "    <b>Author</b>:\n",
    "\n",
    "      Rashik Rahman\n",
    "      17201012@uap-bd.edu\n",
    "\n",
    "</div>\n",
    "\n",
    "# [Click here to see lecture video](https://drive.google.com/file/d/1AQpyJR70I6MTgXcfx4TZe1ae5S_BX8dR/view)"
   ]
  },
  {
   "cell_type": "markdown",
   "metadata": {},
   "source": [
    "![image.png](figures/fig319.PNG)\n",
    "\n",
    "![image.png](figures/fig320.PNG)\n",
    "\n",
    "![image.png](figures/fig321.PNG)\n",
    "\n",
    "![image.png](figures/fig322.PNG)\n",
    "\n",
    "![image.png](figures/fig323.PNG)\n",
    "\n",
    "![image.png](figures/fig324.PNG)\n",
    "\n",
    "![image.png](figures/fig325.PNG)\n",
    "\n",
    "![image.png](figures/fig326.PNG)\n",
    "\n",
    "![image.png](figures/fig327.PNG)"
   ]
  },
  {
   "cell_type": "markdown",
   "metadata": {},
   "source": [
    "Kind of SDLC. In planning stage we decide what to do. Then we do overview that is go through all the requirements and check if there's any thing wrong or not. Then we break it in individual part for inspection etc. The result are discussed in inspection meeting. Rechecks the results and then give follow up.\n",
    "\n",
    "![image.png](figures/fig328.PNG)\n",
    "\n",
    "![image.png](figures/fig329.PNG)\n",
    "\n",
    "![image.png](figures/fig330.PNG)\n",
    "\n",
    "![image.png](figures/fig331.PNG)\n",
    "\n",
    "![image.png](figures/fig332.PNG)\n",
    "\n",
    "\n",
    "![image.png](figures/fig333.PNG)\n",
    "\n",
    "![image.png](figures/fig334.PNG)\n",
    "\n",
    "![image.png](figures/fig335.PNG)\n",
    "\n",
    "![image.png](figures/fig336.PNG)\n",
    "\n",
    "![image.png](figures/fig337.PNG)\n",
    "\n",
    "![image.png](figures/fig338.PNG)"
   ]
  },
  {
   "cell_type": "markdown",
   "metadata": {},
   "source": [
    "\n",
    "![image.png](figures/fig339.PNG)\n",
    "\n",
    "![image.png](figures/fig340.PNG)\n",
    "\n",
    "![image.png](figures/fig341.PNG)\n",
    "\n",
    "![image.png](figures/fig342.PNG)\n",
    "\n",
    "![image.png](figures/fig343.PNG)\n",
    "\n",
    "![image.png](figures/fig344.PNG)\n",
    "\n",
    "![image.png](figures/fig345.PNG)\n",
    "\n",
    "![image.png](figures/fig346.PNG)\n",
    "\n",
    "![image.png](figures/fig347.PNG)\n",
    "\n",
    "![image.png](figures/fig348.PNG)\n",
    "\n",
    "![image.png](figures/fig349.PNG)\n",
    "\n",
    "![image.png](figures/fig350.PNG)\n",
    "\n"
   ]
  },
  {
   "cell_type": "markdown",
   "metadata": {},
   "source": [
    "\n",
    "\n",
    "![image.png](figures/fig351.PNG)\n",
    "\n",
    "![image.png](figures/fig352.PNG)\n",
    "\n",
    "![image.png](figures/fig353.PNG)\n",
    "\n",
    "## Manual testing tools are important for viva\n",
    "\n",
    "![image.png](figures/fig354.PNG) \n",
    "\n",
    "![image.png](figures/fig355.PNG) \n",
    "\n",
    "![image.png](figures/fig356.PNG)\n",
    "\n",
    "![image.png](figures/fig357.PNG)\n",
    "\n",
    "![image.png](figures/fig358.PNG)\n",
    "\n",
    "![image.png](figures/fig359.PNG)\n",
    "\n",
    "![image.png](figures/fig360.PNG)\n",
    "\n",
    "![image.png](figures/fig361.PNG)\n",
    "\n",
    "![image.png](figures/fig362.PNG)\n",
    "\n",
    "![image.png](figures/fig363.PNG)\n",
    "\n",
    "![image.png](figures/fig364.PNG)\n",
    "\n",
    "![image.png](figures/fig365.PNG)\n",
    "\n",
    "![image.png](figures/fig366.PNG)\n",
    "\n",
    "![image.png](figures/fig367.PNG)"
   ]
  },
  {
   "cell_type": "markdown",
   "metadata": {},
   "source": [
    "![image.png](figures/fig368.PNG)\n",
    "\n",
    "![image.png](figures/fig369.PNG)\n",
    "\n",
    "![image.png](figures/fig370.PNG)\n",
    "\n",
    "![image.png](figures/fig371.PNG)\n",
    "\n",
    "![image.png](figures/fig372.PNG)\n",
    "\n",
    "![image.png](figures/fig373.PNG)\n",
    "\n",
    "![image.png](figures/fig374.PNG)"
   ]
  },
  {
   "cell_type": "markdown",
   "metadata": {},
   "source": [
    "# That's all for this lecture!"
   ]
  }
 ],
 "metadata": {
  "kernelspec": {
   "display_name": "Python 3",
   "language": "python",
   "name": "python3"
  },
  "language_info": {
   "codemirror_mode": {
    "name": "ipython",
    "version": 3
   },
   "file_extension": ".py",
   "mimetype": "text/x-python",
   "name": "python",
   "nbconvert_exporter": "python",
   "pygments_lexer": "ipython3",
   "version": "3.7.6"
  }
 },
 "nbformat": 4,
 "nbformat_minor": 4
}
