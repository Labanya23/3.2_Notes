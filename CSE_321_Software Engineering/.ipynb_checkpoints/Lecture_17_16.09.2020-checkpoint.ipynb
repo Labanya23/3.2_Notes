{
 "cells": [
  {
   "cell_type": "markdown",
   "metadata": {},
   "source": [
    "<div class=\"alert alert-success\">\n",
    "    <b>Author</b>:\n",
    "\n",
    "      Rashik Rahman\n",
    "      17201012@uap-bd.edu\n",
    "\n",
    "</div>\n",
    "\n",
    "# [Click here to see class lecture](https://drive.google.com/file/d/161yFKr8InoMp6LCxjerzQBO5eEiAiqk0/view)"
   ]
  },
  {
   "cell_type": "markdown",
   "metadata": {},
   "source": [
    "![image.png](figures/fig268.PNG)\n",
    "\n",
    "![image.png](figures/fig269.PNG)\n",
    "\n",
    "Standard should be maintained.\n",
    "\n",
    "![image.png](figures/fig270.PNG)\n",
    "\n",
    "![image.png](figures/fig271.PNG)\n",
    "\n",
    "Things to follow to maintain coding standards.\n",
    "\n",
    "![image.png](figures/fig272.PNG)\n",
    "\n",
    "![image.png](figures/fig273.PNG)\n",
    "\n",
    "![image.png](figures/fig274.PNG)"
   ]
  },
  {
   "cell_type": "markdown",
   "metadata": {},
   "source": [
    "\n",
    "![image.png](figures/fig275.PNG)\n",
    "\n",
    "![image.png](figures/fig276.PNG)"
   ]
  },
  {
   "cell_type": "markdown",
   "metadata": {},
   "source": []
  },
  {
   "cell_type": "markdown",
   "metadata": {},
   "source": []
  }
 ],
 "metadata": {
  "kernelspec": {
   "display_name": "Python 3",
   "language": "python",
   "name": "python3"
  },
  "language_info": {
   "codemirror_mode": {
    "name": "ipython",
    "version": 3
   },
   "file_extension": ".py",
   "mimetype": "text/x-python",
   "name": "python",
   "nbconvert_exporter": "python",
   "pygments_lexer": "ipython3",
   "version": "3.7.6"
  }
 },
 "nbformat": 4,
 "nbformat_minor": 4
}
