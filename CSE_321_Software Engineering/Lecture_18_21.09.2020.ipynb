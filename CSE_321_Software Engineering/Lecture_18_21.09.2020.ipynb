{
 "cells": [
  {
   "cell_type": "markdown",
   "metadata": {},
   "source": [
    "<div class=\"alert alert-success\">\n",
    "    <b>Author</b>:\n",
    "\n",
    "      Rashik Rahman\n",
    "      17201012@uap-bd.edu\n",
    "\n",
    "</div>\n",
    "\n",
    "# [Click here to see class lecture](https://drive.google.com/file/d/17dTgesMk03mXMUnwXhWRTNftMTmXUUpa/view)"
   ]
  },
  {
   "cell_type": "markdown",
   "metadata": {},
   "source": [
    "![image.png](figures/fig299.PNG)\n",
    "\n",
    "![image.png](figures/fig300.PNG)\n",
    "\n",
    "![image.png](figures/fig301.PNG)\n",
    "\n",
    "![image.png](figures/fig302.PNG)\n",
    "\n",
    "![image.png](figures/fig303.PNG)"
   ]
  },
  {
   "cell_type": "markdown",
   "metadata": {},
   "source": [
    "![image.png](figures/fig304.PNG)\n",
    "\n",
    "![image.png](figures/fig305.PNG)\n",
    "\n",
    "![image.png](figures/fig306.PNG)\n",
    "\n",
    "![image.png](figures/fig307.PNG)\n",
    "\n",
    "![image.png](figures/fig308.PNG)\n",
    "\n",
    "![image.png](figures/fig309.PNG)"
   ]
  },
  {
   "cell_type": "markdown",
   "metadata": {},
   "source": [
    "\n",
    "![image.png](figures/fig310.PNG)\n",
    "\n",
    "![image.png](figures/fig311.PNG)\n",
    "\n",
    "![image.png](figures/fig312.PNG)\n",
    "\n",
    "![image.png](figures/fig313.PNG)\n",
    "\n",
    "Payment gateway can be and EPR.\n",
    "\n",
    "![image.png](figures/fig314.PNG)\n",
    "\n",
    "8th edition book topic 18.5 see to it.\n",
    "\n",
    "![image.png](figures/fig315.PNG)\n",
    "\n",
    "![image.png](figures/fig316.PNG)\n",
    "\n",
    "![image.png](figures/fig317.PNG)\n",
    "\n",
    "![image.png](figures/fig318.PNG)"
   ]
  },
  {
   "cell_type": "markdown",
   "metadata": {},
   "source": [
    "# That's all for this lecture!"
   ]
  }
 ],
 "metadata": {
  "kernelspec": {
   "display_name": "Python 3",
   "language": "python",
   "name": "python3"
  },
  "language_info": {
   "codemirror_mode": {
    "name": "ipython",
    "version": 3
   },
   "file_extension": ".py",
   "mimetype": "text/x-python",
   "name": "python",
   "nbconvert_exporter": "python",
   "pygments_lexer": "ipython3",
   "version": "3.7.6"
  }
 },
 "nbformat": 4,
 "nbformat_minor": 4
}
