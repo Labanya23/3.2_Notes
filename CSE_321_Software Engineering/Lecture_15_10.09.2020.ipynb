{
 "cells": [
  {
   "cell_type": "markdown",
   "metadata": {},
   "source": [
    "<div class=\"alert alert-success\">\n",
    "    <b>Author</b>:\n",
    "\n",
    "      Rashik Rahman\n",
    "      17201012@uap-bd.edu\n",
    "\n",
    "</div>\n",
    "\n",
    "# [Click here to see class lecture](https://drive.google.com/file/d/18ZeaRz_1B65ZXSVZgXBJFOW2q89O1s5R/view)"
   ]
  },
  {
   "cell_type": "markdown",
   "metadata": {},
   "source": [
    "**GOALS**\n",
    "\n",
    "![image.png](figures/fig212.PNG)\n",
    "\n",
    "![image.png](figures/fig213.PNG)\n",
    "\n",
    "![image.png](figures/fig214.PNG)\n",
    "\n",
    "Try to ans this question to get a good architectural design.\n",
    "\n",
    "![image.png](figures/fig215.PNG)\n",
    "\n",
    "![image.png](figures/fig216.PNG)\n",
    "\n",
    "Important for viva or short question.\n",
    "\n",
    "![image.png](figures/fig217.PNG)\n",
    "\n",
    "![image.png](figures/fig218.PNG)"
   ]
  },
  {
   "cell_type": "markdown",
   "metadata": {},
   "source": [
    "Used widely for web based applications\n",
    "\n",
    "![image.png](figures/fig219.PNG)\n",
    "\n",
    "![image.png](figures/fig220.PNG)\n",
    "\n",
    "Important for exam. Question can come like given a website describe how mvc is used. Here business logic database means the logic of the model like who can view the data etc.\n",
    "\n",
    "![image.png](figures/fig221.PNG)\n",
    "\n",
    "There maybe many unwanted thing in the description but you need to extract important info from the description. Waiter (controller ) doesn't need to know if the order is possible to serve or not he just takes the order from customer (request in view) takes it to chef( model) then chef can either serve the request or say service not available. Controller task is to just take request from view and pass it to model.\n",
    "\n",
    "![image.png](figures/fig222.PNG)\n",
    "\n",
    "![image.png](figures/fig223.PNG)"
   ]
  },
  {
   "cell_type": "markdown",
   "metadata": {},
   "source": [
    "![image.png](figures/fig224.PNG)\n",
    "\n",
    "We follow layered architecture when we need to change OS or database platform like oracale, mongoDB etc.\n",
    "\n",
    "![image.png](figures/fig225.PNG)\n",
    "\n",
    "![image.png](figures/fig226.PNG)\n",
    "\n",
    "![image.png](figures/fig227.PNG)\n",
    "\n",
    "![image.png](figures/fig228.PNG)\n",
    "\n",
    "![image.png](figures/fig229.PNG)\n",
    "\n",
    "Git repo.\n",
    "\n",
    "![image.png](figures/fig230.PNG)\n",
    "\n",
    "![image.png](figures/fig231.PNG)\n",
    "\n",
    "![image.png](figures/fig232.PNG)\n",
    "\n",
    "**Structural model means architectural model**\n",
    "\n",
    "![image.png](figures/fig233.PNG)\n",
    "\n",
    "Architectural diagram.\n",
    "\n",
    "![image.png](figures/fig234.PNG)\n",
    "\n",
    "In exam question can come from following concepts.\n",
    "\n",
    "![image.png](figures/fig235.PNG)\n",
    "\n",
    "![image.png](figures/fig236.PNG)\n",
    "\n",
    "![image.png](figures/fig237.PNG)\n",
    "\n",
    "![image.png](figures/fig238.PNG)\n",
    "\n",
    "![image.png](figures/fig239.PNG)\n",
    "\n",
    "\n"
   ]
  },
  {
   "cell_type": "markdown",
   "metadata": {},
   "source": [
    "# That's all for this lecture!"
   ]
  }
 ],
 "metadata": {
  "kernelspec": {
   "display_name": "Python 3",
   "language": "python",
   "name": "python3"
  },
  "language_info": {
   "codemirror_mode": {
    "name": "ipython",
    "version": 3
   },
   "file_extension": ".py",
   "mimetype": "text/x-python",
   "name": "python",
   "nbconvert_exporter": "python",
   "pygments_lexer": "ipython3",
   "version": "3.7.6"
  }
 },
 "nbformat": 4,
 "nbformat_minor": 4
}
