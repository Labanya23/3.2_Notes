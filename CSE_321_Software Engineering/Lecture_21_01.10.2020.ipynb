{
 "cells": [
  {
   "cell_type": "markdown",
   "metadata": {},
   "source": [
    "<div class=\"alert alert-success\">\n",
    "    <b>Author</b>:\n",
    "\n",
    "      Rashik Rahman\n",
    "      17201012@uap-bd.edu\n",
    "\n",
    "</div>\n",
    "\n",
    "# [Click here to see lecture video](https://drive.google.com/file/d/1WVlgXgOeHPlOuVo7AAq46QB-eTKN6XXE/view)"
   ]
  },
  {
   "cell_type": "markdown",
   "metadata": {},
   "source": [
    "![image.png](figures/fig375.PNG)\n",
    "\n",
    "![image.png](figures/fig376.PNG)\n",
    "\n",
    "Unit testing is mainly done by developer.\n",
    "\n",
    "![image.png](figures/fig377.PNG)\n",
    "\n",
    "![image.png](figures/fig378.PNG)\n",
    "\n",
    "Testing how does modules work together.\n",
    "\n",
    "![image.png](figures/fig379.PNG)\n",
    "\n",
    "![image.png](figures/fig380.PNG)\n",
    "\n",
    "Linked list testing is called non incremental.\n",
    "\n",
    "![image.png](figures/fig381.PNG)\n",
    "\n",
    "![image.png](figures/fig382.PNG)\n",
    "\n",
    "![image.png](figures/fig383.PNG)\n",
    "\n",
    "In alpha testing developers acts as a user and test the product. Like they test in user environment, they want to check how the user would react. Beta testing is giving the product to user for trial, this is non final release this is just for test purpose.\n",
    "\n",
    "![image.png](figures/fig384.PNG)\n",
    "\n",
    "Regression testing is never done in phase 0. It starts from phase 1.\n",
    "\n",
    "![image.png](figures/fig385.PNG)"
   ]
  },
  {
   "cell_type": "markdown",
   "metadata": {},
   "source": [
    "\n",
    "\n",
    "![image.png](figures/fig386.PNG)\n",
    "\n",
    "![image.png](figures/fig387.PNG)\n",
    "\n",
    "![image.png](figures/fig388.PNG)\n",
    "\n",
    "## Alpha vs beta testing is important for viva.\n",
    "\n",
    "![image.png](figures/fig389.PNG)\n",
    "\n",
    "![image.png](figures/fig390.PNG)\n",
    "\n",
    "![image.png](figures/fig391.PNG)\n",
    "\n",
    "## Testing tools are important for viva\n",
    "\n",
    "![image.png](figures/fig392.PNG)\n",
    "\n",
    "Try to learn each unit and how they work, look into their features. Question may come in viva.\n",
    "\n",
    "![image.png](figures/fig393.PNG)\n",
    "\n",
    "![image.png](figures/fig394.PNG)\n",
    "\n",
    "![image.png](figures/fig395.PNG)\n",
    "\n",
    "![image.png](figures/fig396.PNG)\n",
    "\n",
    "![image.png](figures/fig397.PNG)\n",
    "\n",
    "![image.png](figures/fig398.PNG)\n",
    "\n",
    "![image.png](figures/fig399.PNG)\n",
    "\n",
    "![image.png](figures/fig400.PNG)"
   ]
  },
  {
   "cell_type": "markdown",
   "metadata": {},
   "source": [
    "\n",
    "\n",
    "![image.png](figures/fig401.PNG)\n",
    "\n",
    "![image.png](figures/fig402.PNG)\n",
    "\n",
    "![image.png](figures/fig403.PNG)\n",
    "\n",
    "![image.png](figures/fig404.PNG)"
   ]
  },
  {
   "cell_type": "markdown",
   "metadata": {},
   "source": [
    "# That's all for this lecture!"
   ]
  }
 ],
 "metadata": {
  "kernelspec": {
   "display_name": "Python 3",
   "language": "python",
   "name": "python3"
  },
  "language_info": {
   "codemirror_mode": {
    "name": "ipython",
    "version": 3
   },
   "file_extension": ".py",
   "mimetype": "text/x-python",
   "name": "python",
   "nbconvert_exporter": "python",
   "pygments_lexer": "ipython3",
   "version": "3.7.6"
  }
 },
 "nbformat": 4,
 "nbformat_minor": 4
}
