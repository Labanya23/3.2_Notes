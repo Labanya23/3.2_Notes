{
 "cells": [
  {
   "cell_type": "markdown",
   "metadata": {},
   "source": [
    "<div class=\"alert alert-success\">\n",
    "    <b>Author</b>:\n",
    "\n",
    "      Rashik Rahman\n",
    "      17201012@uap-bd.edu\n",
    "\n",
    "</div>\n",
    "\n",
    "# [Click here to see class lecture](https://drive.google.com/file/d/1Usr3a22_EoZy4mE-Kf3arfVgqUVqFVa7/view)"
   ]
  },
  {
   "cell_type": "markdown",
   "metadata": {},
   "source": [
    "![image.png](figures/fig240.PNG)\n",
    "\n",
    "![image.png](figures/fig241.PNG)\n",
    "\n",
    "multi-tier architecture is a stage of client server architecture.\n",
    "\n",
    "![image.png](figures/fig242.PNG)\n",
    "\n",
    "Middleware is like interface between two sides.\n",
    "\n",
    "![image.png](figures/fig243.PNG)\n",
    "\n",
    "![image.png](figures/fig244.PNG)\n",
    "\n",
    "If we can reduce security cost and complexity then distributed system are the best.\n",
    "\n",
    "![image.png](figures/fig245.PNG)\n",
    "\n",
    "![image.png](figures/fig246.PNG)\n",
    "\n",
    "![image.png](figures/fig247.PNG)\n",
    "\n",
    "![image.png](figures/fig248.PNG)\n",
    "\n",
    "![image.png](figures/fig249.PNG)"
   ]
  },
  {
   "cell_type": "markdown",
   "metadata": {},
   "source": [
    "Here to pass data we use 3 server process thus its 3-tier architecture. If it we use 2 server process then it would have been 2-tier architecture.\n",
    "\n",
    "![image.png](figures/fig250.PNG)\n",
    "\n",
    "![image.png](figures/fig251.PNG)\n",
    "\n",
    "A bank's ATM can be an example of client server architecture. See book 8th edition chap 12 fig:12.6-8 page 296-298. Bank doesn't keep all data in a single server cause server failure/hack can cause alot of damage. So they keep the data distributedly. \n",
    "\n",
    "![image.png](figures/fig252.PNG)\n",
    "\n",
    "![image.png](figures/fig253.PNG)\n",
    "\n",
    "![image.png](figures/fig254.PNG)\n",
    "\n",
    "![image.png](figures/fig255.PNG)\n",
    "\n",
    "![image.png](figures/fig256.PNG)\n",
    "\n",
    "![image.png](figures/fig257.PNG)\n"
   ]
  },
  {
   "cell_type": "markdown",
   "metadata": {},
   "source": [
    "![image.png](figures/fig258.PNG)\n",
    "\n",
    "![image.png](figures/fig259.PNG)\n",
    "\n",
    "Question can come like how cobra works.\n",
    "\n",
    "Service provider doesn't need to know who is its customer and the client doesn't need to know who is providing the service\n",
    "\n",
    "![image.png](figures/fig260.PNG)\n",
    "\n",
    "![image.png](figures/fig261.PNG)\n",
    "\n",
    "Before SOA client-server knows who is providing or getting the service. In SOA there's no such complexity. SOA is distributed so you always get service even in a case of server failure.\n",
    "\n",
    "![image.png](figures/fig262.PNG)\n",
    "\n",
    "![image.png](figures/fig263.PNG)\n",
    "\n",
    "![image.png](figures/fig264.PNG)\n"
   ]
  },
  {
   "cell_type": "markdown",
   "metadata": {},
   "source": [
    "\n",
    "![image.png](figures/fig265.PNG)\n",
    "\n",
    "![image.png](figures/fig266.PNG)\n",
    "\n",
    "![image.png](figures/fig267.PNG)"
   ]
  },
  {
   "cell_type": "markdown",
   "metadata": {},
   "source": [
    "# That's all for this lecture!"
   ]
  }
 ],
 "metadata": {
  "kernelspec": {
   "display_name": "Python 3",
   "language": "python",
   "name": "python3"
  },
  "language_info": {
   "codemirror_mode": {
    "name": "ipython",
    "version": 3
   },
   "file_extension": ".py",
   "mimetype": "text/x-python",
   "name": "python",
   "nbconvert_exporter": "python",
   "pygments_lexer": "ipython3",
   "version": "3.7.6"
  }
 },
 "nbformat": 4,
 "nbformat_minor": 4
}
