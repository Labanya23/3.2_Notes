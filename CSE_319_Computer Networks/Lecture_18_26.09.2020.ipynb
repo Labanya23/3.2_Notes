{
 "cells": [
  {
   "cell_type": "markdown",
   "metadata": {},
   "source": [
    "\n",
    "<div class=\"alert alert-success\">\n",
    "    <b>Author</b>:\n",
    "\n",
    "      Rashik Rahman\n",
    "      17201012@uap-bd.edu\n",
    "\n",
    "</div>\n",
    "\n",
    "# [Click here to see class lecture](https://drive.google.com/file/d/1CjGF8oEjW-ga2Aa5QWZdzF6oH7eM5qqP/view)\n",
    "\n"
   ]
  },
  {
   "cell_type": "markdown",
   "metadata": {},
   "source": [
    "## Security\n",
    "\n",
    "Transport layer provides reliability on an unreliable channel. The channel isn't just unreliable but also it's not secure. So attacker can trespass the channel and look into the data packet. How can we solve it? We need some security measures or protocol for this. \n",
    "\n",
    "![image.png](figures/fig347.PNG)\n",
    "\n",
    "We do cryptography to protect the data from attackers. Even if the attackers look into the data packet they won't be able to extract data from it. In cryptography there's encryption and decryption. Encrypted data can't be understood by others who doesn't have the **key**. \n",
    "\n",
    "![image.png](figures/fig348.PNG)\n",
    "\n",
    "![image.png](figures/fig349.PNG)\n",
    "\n",
    "sender encrypts the message with key and receiver will have that key thus only the receiver will be able to understand the encrypted data. \n",
    "\n",
    "![image.png](figures/fig350.PNG)\n",
    "\n",
    "Plain text is human readable and and cypher text is a text that has no meaning. Like if the key k=3 and we do a shift cypher then durjoy becomer gxumrb. Cause if you move forward 3 steps from d you get g, for u you get x, for r you get u, for j you get m and so on. This method was the 1st cryptography method used 2000 years back.\n",
    "\n",
    "![image.png](figures/fig351.PNG)\n",
    "\n",
    "![image.png](figures/fig352.PNG)"
   ]
  },
  {
   "cell_type": "markdown",
   "metadata": {},
   "source": [
    "\n",
    "\n",
    "![image.png](figures/fig353.PNG)\n",
    "\n",
    "![image.png](figures/fig354.PNG)\n",
    "\n",
    "![image.png](figures/fig355.PNG)\n",
    "\n",
    "Trudy can analyze ciphertext to decode the text. Using brute force you can try all possible combination of key. Known plain text is like for shift cipher you know that g is d and x is u. So if you the the plain text of the cipher text then you can decrypt the data.\n",
    "\n",
    "![image.png](figures/fig356.PNG)\n",
    "\n",
    "Symmetric key cryptography is a method where both the sender and the receiver has the same key. So how does they agree on same key value? A middle man transfers the key from alice to bob. Then alice sends encrypted data and bob can decrypt the received data.\n",
    "\n",
    "![image.png](figures/fig357.PNG)\n",
    "\n",
    "![image.png](figures/fig358.PNG)\n",
    "\n",
    "![image.png](figures/fig359.PNG)\n",
    "\n",
    "![image.png](figures/fig360.PNG)\n",
    "\n",
    "block cipher is like a data sent in chain of block where each block is of 64bit . This block chain has a 56bit key attached to it. DES can be breakdown in one day so it does provide more security then just shift cipher or symmetric crypto.\n",
    "\n",
    "![image.png](figures/fig361.PNG)\n",
    "\n",
    "Here plain text goes as input then it's permuted to get L1 and R1. K1 from 56 bit key is mix with L1 & R1 to get R2 and R1 becomes L2. This process is repeated 16 times.\n",
    "\n",
    "![image.png](figures/fig362.PNG)\n",
    "\n",
    "![image.png](figures/fig363.PNG)\n"
   ]
  },
  {
   "cell_type": "markdown",
   "metadata": {},
   "source": [
    "3 DES is called AES.\n",
    "\n",
    "It is more secure as for brute force method it'll take 149 trillion years to crack AES encrypted data.\n",
    "\n",
    "![image.png](figures/fig364.PNG)\n",
    "\n",
    "Till now we have seen symmetric now we'll see asymmetric key cryptography or public key cryptography. Its used in all of internet application. Issues of symmetric is it requires sender and receiver to share the same key thus how to agree on the same key when the both parties never met before. And another issue is if there is n users each user have to keep state of n-1 key pair. Like here are 6 users in the example now one user has a shared key with all other. So he has 5 shared key like these the other 5 user will have to keep state of 5 shared keys.\n",
    "\n",
    "![image.png](figures/fig365.PNG)\n",
    "\n",
    "In public key crypto, sender encrypts the data using a public key of the receiver that is known by all but receiver decrypts the data using it's own private key. So they don't share a single key here.\n",
    "\n",
    "![image.png](figures/fig366.PNG)\n",
    "\n",
    "![image.png](figures/fig367.PNG)"
   ]
  },
  {
   "cell_type": "markdown",
   "metadata": {},
   "source": [
    "# That's all for this lecture!"
   ]
  }
 ],
 "metadata": {
  "kernelspec": {
   "display_name": "Python 3",
   "language": "python",
   "name": "python3"
  },
  "language_info": {
   "codemirror_mode": {
    "name": "ipython",
    "version": 3
   },
   "file_extension": ".py",
   "mimetype": "text/x-python",
   "name": "python",
   "nbconvert_exporter": "python",
   "pygments_lexer": "ipython3",
   "version": "3.7.6"
  }
 },
 "nbformat": 4,
 "nbformat_minor": 4
}
