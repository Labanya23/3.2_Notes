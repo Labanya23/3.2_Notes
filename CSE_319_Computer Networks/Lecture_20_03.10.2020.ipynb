{
 "cells": [
  {
   "cell_type": "markdown",
   "metadata": {},
   "source": [
    "\n",
    "<div class=\"alert alert-success\">\n",
    "    <b>Author</b>:\n",
    "\n",
    "      Rashik Rahman\n",
    "      17201012@uap-bd.edu\n",
    "\n",
    "</div>\n",
    "\n",
    "# [Click here to see class lecture](https://drive.google.com/file/d/1xV3ngtABou_jDg_e2RCzBE-CpFn-Q4Gi/view)\n",
    "\n"
   ]
  },
  {
   "cell_type": "markdown",
   "metadata": {},
   "source": [
    "There was no message integrity in authentication trudy can courrpte the message but using digital signature we can ensure message isn't corrupt and alice gets the original message that bob send.\n",
    "\n",
    "![image.png](figures/fig395.PNG)\n",
    "\n",
    "Using this method below we can stop man in middle attack though trudy can see the message but can't change it.\n",
    "\n",
    "![image.png](figures/fig396.PNG)\n",
    "\n",
    "So how does it work? Bob encrypts the message with his private key and sends it to alice. As the message is encrypted with Bob's private key so it must be decrypt with only bob's public key. As public key is known by all so trudy can decrypt the message but she won't be able to again encrypt the message as she doesn't have bob's private key. On the other hand alice would know the message has signature on it so alice will be waiting for the message to decrypt it with bob's public key. For this reason if trudy want to encrypt it with her private key and send the message to alice, alice would know that there was a man in middle attack. So trudy can keep a copy of message and send the original encrypted/signed message to alice. This is how we can protect communication from man in middle attack. Here trudy can see the data but can't corrupt it.\n",
    "\n",
    "![image.png](figures/fig402.PNG)\n",
    "\n",
    "Now what if we don't want to let trudy see the message, what should we do? To do this Bob encrypts the signed message with alice's public key. How does this help? As we know public keyryption is decrypted by private key and vice versa, so as bob has encrypted the signed message with alice's public key thus it can be only decrypted with alice's private key. Alice's private key is only known to alice thus now trudy can't read the message, increasing message integrity.\n",
    "\n",
    "![image.png](figures/fig403.PNG)\n",
    "\n",
    "Why hash? A message can be of a big size to encrypt. So if we hash the message then encrypt it, it would take less execution time. Hash is a one way function so there is no way un-hasing the message, but we send the message concatenated with the hashed signed(with bob's private key) message and the whole message now is encrypted(with alice's public key). So upon receiving it alice can decrypt it message and get hashed message, alice also gets the message. The seh hashes the message and match it with bob's hashed message if both match then the message it correct and not corrupted. \n",
    "\n",
    "![image.png](figures/fig406.PNG)\n",
    "\n",
    "![image.png](figures/fig404.PNG)\n",
    "\n",
    "![image.png](figures/fig405.PNG)"
   ]
  },
  {
   "cell_type": "markdown",
   "metadata": {},
   "source": []
  },
  {
   "cell_type": "markdown",
   "metadata": {},
   "source": []
  },
  {
   "cell_type": "markdown",
   "metadata": {},
   "source": []
  },
  {
   "cell_type": "markdown",
   "metadata": {},
   "source": []
  }
 ],
 "metadata": {
  "kernelspec": {
   "display_name": "Python 3",
   "language": "python",
   "name": "python3"
  },
  "language_info": {
   "codemirror_mode": {
    "name": "ipython",
    "version": 3
   },
   "file_extension": ".py",
   "mimetype": "text/x-python",
   "name": "python",
   "nbconvert_exporter": "python",
   "pygments_lexer": "ipython3",
   "version": "3.7.6"
  }
 },
 "nbformat": 4,
 "nbformat_minor": 4
}
