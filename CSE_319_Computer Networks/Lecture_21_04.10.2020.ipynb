{
 "cells": [
  {
   "cell_type": "markdown",
   "metadata": {},
   "source": [
    "\n",
    "<div class=\"alert alert-success\">\n",
    "    <b>Author</b>:\n",
    "\n",
    "      Rashik Rahman\n",
    "      17201012@uap-bd.edu\n",
    "\n",
    "</div>\n",
    "\n",
    "# [Click here to see class lecture](https://drive.google.com/file/d/1W6KjIqqFUEleiNe7Ec0_T5O4feTVNEQA/view)\n",
    "\n"
   ]
  },
  {
   "cell_type": "markdown",
   "metadata": {},
   "source": [
    "Till now we have learned\n",
    "\n",
    "![image.png](figures/fig413.PNG)\n",
    "\n",
    "![image.png](figures/fig414.PNG)\n",
    "\n",
    "![image.png](figures/fig415.PNG)"
   ]
  },
  {
   "cell_type": "markdown",
   "metadata": {},
   "source": [
    "![image.png](figures/fig416.PNG)\n",
    "\n",
    "There are two types of IaaS public and private. IaaS will give you a platform, in public IaaS services are given by the provider like google drive etc. In private IaaS you get a platform where you can build your own services.\n",
    "\n",
    "![image.png](figures/fig417.PNG)\n",
    "\n",
    "![image.png](figures/fig418.PNG)\n",
    "\n",
    "![image.png](figures/fig419.PNG)\n",
    "\n",
    "![image.png](figures/fig420.PNG)\n",
    "\n",
    "![image.png](figures/fig421.PNG)\n",
    "\n",
    "![image.png](figures/fig422.PNG)\n",
    "\n",
    "![image.png](figures/fig423.PNG)"
   ]
  },
  {
   "cell_type": "markdown",
   "metadata": {},
   "source": [
    "![image.png](figures/fig424.PNG)\n",
    "\n",
    "Elasticity is the key feature of cloud computing.\n",
    "\n",
    "![image.png](figures/fig425.PNG)\n",
    "\n",
    "# This question will come into exam. (Make your own answers don't copy this one as I will be writing the ans below)\n",
    "\n",
    "![image.png](figures/fig426.PNG)\n",
    "\n",
    "\n",
    "### Ans:\n",
    "\n",
    "Yes we have an opportunity in cloud computing. Cloud computing is cheap, efficient, don't have to be maintained, resource are always available, remotely controllable. I will evaluate my answer by explaining a scenario in Bangladesh.\n",
    "\n",
    "Lets consider we want to conduct a research about video compression that will put less stress on bandwidth of a network. Now if we want to conduct such a highly computation extensive research we need minimum of two NVIDIA RTX A6000 or four NVIDIA TITAN RTX card which will cost us around 10000 dollars. Now you have to build a system and have to hire a system administrator to maintain the system. So basically you are making a research facility that would cost you around 17000 dollars and monthly salary of the system admin will be around 300 dollars and you will also need a developer who will develop the services you need for research. Now assume you are doing this research for 8 months so your total costing will be around 22000 dollars. After 8 month these resource will be no use to you unless you are going to another research. So what's the issue with this system? well you can't work from anywhere you have to goto the facility to do research, you don't have any use of these resources after the research is done, you have to hire people to maintain and develop services. Here cloud computing comes to rescue. Cloud computing platform like Google's GCP lets you use exact same resources at the cost of 100 dollars per month. After you are done with the research you can cancel your subscription. You don't have to think of hiring people to maintain the system or to develop services like direction api, vision api, text api etc that GCP lets you use at anytime. As it is cloud based computing so you can carry you research work from anywhere in the world you data and results can also be stored in cloud.\n",
    "\n",
    "So from these scenario above you can see the importance and opportunity of cloud computing. Cloud computing makes life much easier and is very cheap to use.Cloud computing is the future.\n"
   ]
  },
  {
   "cell_type": "markdown",
   "metadata": {},
   "source": [
    "\n",
    "\n",
    "![image.png](figures/fig427.PNG)\n",
    "\n",
    "![image.png](figures/fig428.PNG)"
   ]
  },
  {
   "cell_type": "markdown",
   "metadata": {},
   "source": [
    "# That's all for this lecture!"
   ]
  }
 ],
 "metadata": {
  "kernelspec": {
   "display_name": "Python 3",
   "language": "python",
   "name": "python3"
  },
  "language_info": {
   "codemirror_mode": {
    "name": "ipython",
    "version": 3
   },
   "file_extension": ".py",
   "mimetype": "text/x-python",
   "name": "python",
   "nbconvert_exporter": "python",
   "pygments_lexer": "ipython3",
   "version": "3.7.6"
  }
 },
 "nbformat": 4,
 "nbformat_minor": 4
}
