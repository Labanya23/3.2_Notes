{
 "cells": [
  {
   "cell_type": "markdown",
   "metadata": {},
   "source": [
    "\n",
    "<div class=\"alert alert-success\">\n",
    "    <b>Author</b>:\n",
    "\n",
    "      Rashik Rahman\n",
    "      17201012@uap-bd.edu\n",
    "\n",
    "</div>\n",
    "\n",
    "# [Click here to see class lecture](https://drive.google.com/file/d/1W6KjIqqFUEleiNe7Ec0_T5O4feTVNEQA/view)\n",
    "\n"
   ]
  },
  {
   "cell_type": "markdown",
   "metadata": {},
   "source": [
    "Till now we have learned\n",
    "\n",
    "![image.png](figures/fig413.PNG)\n",
    "\n",
    "![image.png](figures/fig414.PNG)\n",
    "\n",
    "![image.png](figures/fig415.PNG)"
   ]
  },
  {
   "cell_type": "markdown",
   "metadata": {},
   "source": [
    "![image.png](figures/fig416.PNG)\n",
    "\n",
    "There are two types of IaaS public and private. IaaS will give you a platform, in public IaaS services are given by the provider like google drive etc. In private IaaS you get a platform where you can build your own services.\n",
    "\n",
    "![image.png](figures/fig417.PNG)\n",
    "\n",
    "![image.png](figures/fig418.PNG)\n",
    "\n",
    "![image.png](figures/fig419.PNG)\n",
    "\n",
    "![image.png](figures/fig420.PNG)\n",
    "\n",
    "![image.png](figures/fig421.PNG)\n",
    "\n",
    "![image.png](figures/fig422.PNG)\n",
    "\n",
    "![image.png](figures/fig423.PNG)"
   ]
  },
  {
   "cell_type": "markdown",
   "metadata": {},
   "source": [
    "![image.png](figures/fig424.PNG)\n",
    "\n",
    "Elasticity is the key feature of cloud computing.\n",
    "\n",
    "![image.png](figures/fig425.PNG)\n",
    "\n",
    "# This question will come into exam. (Make your own answers don't copy this one as I will be writing the ans below)\n",
    "\n",
    "![image.png](figures/fig426.PNG)\n",
    "\n",
    "\n",
    "### Ans:\n",
    "\n",
    "##### [Mithila]\n",
    "\n",
    "Yes we have an opportunity in cloud computing. Cloud computing is cheap, efficient, don't have to be maintained, resource are always available, remotely controllable. I will evaluate my answer by explaining a scenario in Bangladesh.\n",
    "\n",
    "Lets consider we want to conduct a research about video compression that will put less stress on bandwidth of a network. Now if we want to conduct such a highly computation extensive research we need minimum of two NVIDIA RTX A6000 or four NVIDIA TITAN RTX card which will cost us around 10000 dollars. Now you have to build a system and have to hire a system administrator to maintain the system. So basically you are making a research facility that would cost you around 17000 dollars and monthly salary of the system admin will be around 300 dollars and you will also need a developer who will develop the services you need for research. Now assume you are doing this research for 8 months so your total costing will be around 22000 dollars. After 8 month these resource will be no use to you unless you are going to another research. So what's the issue with this system? well you can't work from anywhere you have to goto the facility to do research, you don't have any use of these resources after the research is done, you have to hire people to maintain and develop services. Here cloud computing comes to rescue. Cloud computing platform like Google's GCP lets you use exact same resources at the cost of 100 dollars per month. After you are done with the research you can cancel your subscription. You don't have to think of hiring people to maintain the system or to develop services like direction api, vision api, text api etc that GCP lets you use at anytime. As it is cloud based computing so you can carry you research work from anywhere in the world you data and results can also be stored in cloud.\n",
    "\n",
    "So from these scenario above you can see the importance and opportunity of cloud computing. Cloud computing makes life much easier and is very cheap to use.Cloud computing is the future.\n",
    "\n",
    "\n",
    "##### [Rashik]\n",
    "\n",
    "Cloud computing is the on demand delivery of IT resources via internet, with pay as you go pricing. Instead of buying owning maintaining physical data centers & servers you can access technology services such as computing power, storage and databases on an ass needed basis from a cloud provider like aws. Organizations of every type are using cloud for a wide verity of use case such as data backup, disaster recovery, email, virtual desktop, software development and testing, big data analytic and many more. For example, financial services companies are using cloud to power real time fraud detection and prevention, video game makers are using cloud to deliver online games to millions of players around the world, with cloud computing your business can become more agile. Reduce cost, instantly scale and deploy globally in minutes. Cloud computing gives you instant access to broad range of technologies so you can innovate faster and build nearly anything you can imagine from infrastructure services such as compute,storage and databases to IoT, machine learning, data analytics and much more. You don't need to make large upfront investments in hardware and overpay for capacity you don't use. Instead you can only pay for IT as you consume it. You can scale the resources up and down to grow or shrink capacity instantly as your business needs change. Cloud computing also makes it easy to expand business to new regions and deploy globally in minutes.\n",
    "\n",
    "So from explanation above you can see the importance and opportunity of cloud computing. It's cheap, efficient, don't have to be maintained by end users, resource are always available, remotely controllable. Cloud computing makes life much easier and is very cheap to use.Cloud computing is the future.\n"
   ]
  },
  {
   "cell_type": "markdown",
   "metadata": {},
   "source": [
    "\n",
    "\n",
    "![image.png](figures/fig427.PNG)\n",
    "\n",
    "![image.png](figures/fig428.PNG)\n",
    "\n",
    "## On-premise vs Cloud \n",
    "\n",
    "<table width=\"738\">\n",
    "<tbody>\n",
    "<tr>\n",
    "<td>Topic</td>\n",
    "<td>On-premises</td>\n",
    "<td>Cloud Computing</td>\n",
    "</tr>\n",
    "<tr>\n",
    "<td>Scalability</td>\n",
    "<td>You pay more for an on-premise setup and lesser options. Once you scale up it's difficult to scale down and often leads to heavy losses in terms of infrastructure and maintenance costs.</td>\n",
    "<td>Allows you to pay only for how much you use with much easier and faster provisions for scaling up or down.</td>\n",
    "</tr>\n",
    "<tr>\n",
    "<td>Server Storage</td>\n",
    "<td>Needs a lot of&nbsp;space for their servers not withstanding the power and maintenance hassle that comes with them.</td>\n",
    "<td>Cloud computing solutions&nbsp;Are offered by cloud service providers who manage and maintain the servers, saving you both money and space</td>\n",
    "</tr>\n",
    "<tr>\n",
    "<td>Data Security</td>\n",
    "<td>On-premise systems offer less data security thanks to a complicated combination of physical and traditional IT security measures.</td>\n",
    "<td>Offers much better security and lets you avoid having to constantly monitor and manage security protocols.</td>\n",
    "</tr>\n",
    "<tr>\n",
    "<td>Data Loss</td>\n",
    "<td>The chances of data recovery are very small.</td>\n",
    "<td>Have robust disaster recovery measures in place to ensure faster and easier data recovery</td>\n",
    "</tr>\n",
    "<tr>\n",
    "<td>Maintenance</td>\n",
    "<td>On-premise systems also require additional teams for hardware and software&nbsp;maintenance,&nbsp;increasing the costs by a considerable degree.</td>\n",
    "<td>Are maintained by the cloud service providers, reducing your costs and resource allocation substantially.</td>\n",
    "</tr>\n",
    "</tbody>\n",
    "</table>\n",
    "\n",
    "\n",
    "Cloud computing has two types of models, **deployment and service model**. Deployment model has three types:\n",
    "\n",
    "- Public Cloud : In this case the cloud infrastructure is available to the public over the internet. These are owned by cloud service providers.\n",
    "- Private Cloud : In this case the cloud infrastructure is exclusively operated by a single organization. This can be managed by the organization or a 3rd party.\n",
    "- Hybrid Cloud : It's a combination of both public and private clouds.\n",
    "\n",
    "![image.png](figures/fig446.PNG)\n",
    "\n",
    "Service model has three types:\n",
    "\n",
    "- IAAS(Infrastructure as a service) : Refers to infrastructure as a service. It is a cloud service model where users get access to basic computing infrastructure. It's commonly used by IT administrators. If your organization requires resources like storage or virtual machine IAAS is the model for you. You only have to manage the data, runtime, middleware, applications and the os while the rest is handled by the cloud provider.\n",
    "\n",
    "- PAAS(Platform as a service) : It provides cloud platforms and runtime environments for developing, testing and managing applications. This service model enables users to deploy applications without the need to acquire, manage and maintain the related architecture. If your organization is in need of a platform for creating software applications paas is the model for you. It only requires you to handle the application and data the rest of the components like runtime, middleware, os, servers, storage and others are managed by the cloud service provider.\n",
    "\n",
    "- SAAS(Software as a service) : It involves cloud services for hosting and managing you software applications. Software and hardware requirements are satisfied by the vendors so you don't have to manage any of those aspects of the solution. If you'd rather not worry about the hassles of owning any IT equipment then the saas model would be the model to pick. With saas the cloud service providers handles all components of the solution required by the organization.\n",
    "\n",
    "![image.png](figures/fig447.PNG)\n"
   ]
  },
  {
   "cell_type": "markdown",
   "metadata": {},
   "source": [
    "# That's all for this lecture!"
   ]
  }
 ],
 "metadata": {
  "kernelspec": {
   "display_name": "Python 3",
   "language": "python",
   "name": "python3"
  },
  "language_info": {
   "codemirror_mode": {
    "name": "ipython",
    "version": 3
   },
   "file_extension": ".py",
   "mimetype": "text/x-python",
   "name": "python",
   "nbconvert_exporter": "python",
   "pygments_lexer": "ipython3",
   "version": "3.7.6"
  }
 },
 "nbformat": 4,
 "nbformat_minor": 4
}
