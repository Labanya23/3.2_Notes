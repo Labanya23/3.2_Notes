{
 "cells": [
  {
   "cell_type": "markdown",
   "metadata": {},
   "source": [
    "\n",
    "<div class=\"alert alert-success\">\n",
    "    <b>Author</b>:\n",
    "\n",
    "      Rashik Rahman\n",
    "      17201012@uap-bd.edu\n",
    "\n",
    "</div>\n",
    "\n",
    "# [Click here to see class lecture](https://drive.google.com/file/d/1N_nhkhHHX-kUYvrmokUgevOTm7OQx7Yz/view)\n",
    "\n"
   ]
  },
  {
   "cell_type": "markdown",
   "metadata": {},
   "source": [
    "![image.png](figures/fig331.PNG)\n",
    "\n",
    "![image.png](figures/fig332.PNG)\n",
    "\n",
    "![image.png](figures/fig333.PNG)\n",
    "\n",
    "![image.png](figures/fig334.PNG)\n",
    "\n",
    "Here v' link is uv x's link is ux this is understandable but for others it confusing. Actually whats happening here is node x knows how to reach y,w,z thus for w,y,z link is ux. Shortest path forwarding table.\n",
    "\n",
    "![image.png](figures/fig335.PNG)\n",
    "\n",
    "![image.png](figures/fig336.PNG)\n"
   ]
  },
  {
   "cell_type": "markdown",
   "metadata": {},
   "source": [
    "#### Distance vector\n",
    "\n",
    "This is recursive call. \n",
    "\n",
    "![image.png](figures/fig337.PNG)\n",
    "\n",
    "Figure with cost will be given. thus we find dv(z), dx(z), dw(z) cause c(u,v) this leaves with dv(z) like this.\n",
    "\n",
    "![image.png](figures/fig338.PNG)\n",
    "\n",
    "![image.png](figures/fig339.PNG)\n",
    "\n",
    "![image.png](figures/fig340.PNG)\n",
    "\n",
    "![image.png](figures/fig341.PNG)\n",
    "\n",
    "![image.png](figures/fig342.PNG)\n",
    "\n",
    "So in the final iteration cost is same.\n",
    "\n",
    "![image.png](figures/fig343.PNG)\n",
    "\n",
    "![image.png](figures/fig345.PNG)\n",
    "\n",
    "![image.png](figures/fig344.PNG)\n",
    "\n",
    "![image.png](figures/fig397.PNG)\n",
    "\n",
    "![image.png](figures/fig398.PNG)\n",
    "\n",
    "![image.png](figures/fig346.PNG)\n",
    "\n"
   ]
  },
  {
   "cell_type": "markdown",
   "metadata": {},
   "source": [
    "# That's all for this lecture!"
   ]
  }
 ],
 "metadata": {
  "kernelspec": {
   "display_name": "Python 3",
   "language": "python",
   "name": "python3"
  },
  "language_info": {
   "codemirror_mode": {
    "name": "ipython",
    "version": 3
   },
   "file_extension": ".py",
   "mimetype": "text/x-python",
   "name": "python",
   "nbconvert_exporter": "python",
   "pygments_lexer": "ipython3",
   "version": "3.7.6"
  }
 },
 "nbformat": 4,
 "nbformat_minor": 4
}
