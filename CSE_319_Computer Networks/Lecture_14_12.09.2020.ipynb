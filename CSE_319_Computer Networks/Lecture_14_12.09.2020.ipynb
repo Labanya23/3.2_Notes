{
 "cells": [
  {
   "cell_type": "markdown",
   "metadata": {},
   "source": [
    "\n",
    "<div class=\"alert alert-success\">\n",
    "    <b>Author</b>:\n",
    "\n",
    "      Rashik Rahman\n",
    "      17201012@uap-bd.edu\n",
    "\n",
    "</div>\n",
    "\n",
    "# [Click here to see class lecture](https://drive.google.com/file/d/1vw9BcoEj_EdEVbUwWn-NRtYJdoma_Oft/view)\n",
    "\n"
   ]
  },
  {
   "cell_type": "markdown",
   "metadata": {},
   "source": [
    "Network layer also has two types of connection. Connection oriented and connection less. ATM is a circuit where connection path needs to be established before data transmission.\n",
    "\n",
    "![image.png](figures/fig256.PNG)\n",
    "\n",
    "datagram is connection less and virtual circuit is connection oriented. Its more like tcp/udp. But the difference is tcp/udp provide connection between process to process and these provide connection between end to end or host to host.\n",
    "\n",
    "![image.png](figures/fig257.PNG)\n",
    "\n",
    "Virtual circuits are more like telephone circuits. Need to setup or establish a path then after transmission is finished we disconnect or teardown the connection. In this every router on the path maintains state so that the packet can come and go using the same path. Thus the path become fixed for that connection.\n",
    "\n",
    "![image.png](figures/fig258.PNG)\n",
    "\n",
    "![image.png](figures/fig259.PNG)\n",
    "\n",
    "VC(virtual circuit) will get forwarding table from routing table. Routing table will show the whole connection path. And according to VC number we'll determine the forwarding of packet. Forwarding is selecting the port from which the packet will enter and exit the router. Let assume a packet comes to router 1 using port 1. Now it's VC is 2, so we look up to the forwarding table and find which port the router should use to forward the packet. We find a port against that VC number 2 so router use that port to forward the packet.\n",
    "\n",
    "![image.png](figures/fig260.PNG)\n",
    "\n",
    "Here for the 1st router incoming vc is 12 and outgoing vc is 22. So according to this we loop up to the table and can say that the packet will come through interface 1 and will exit using interface 3.\n",
    "\n",
    "![image.png](figures/fig261.PNG)\n",
    "\n",
    "So like this we'll do R1, R2 and R3. \n",
    "\n",
    "![image.png](figures/fig262.PNG)\n",
    "\n",
    "From this we can write the forwarding table. Need to make forwarding table for each router. Packet header can act as VC number.\n",
    "\n",
    "![image.png](figures/fig263.PNG)\n",
    "![image.png](figures/fig264.PNG)"
   ]
  },
  {
   "cell_type": "markdown",
   "metadata": {},
   "source": [
    "In VC  client initiates initial call server accepts and then client is connected, dedicated path is established. Then client will send the data to server. After data transmission we teardown the connection.\n",
    "\n",
    "![image.png](figures/fig265.PNG)"
   ]
  },
  {
   "cell_type": "markdown",
   "metadata": {},
   "source": [
    "Now we'll learn about **Datagram**. In datagram we don't establish connection path. Router checks the packet for outgoing link's ip and forwards it. So router doesn't need to keep state. In the forwarding table for datagram ip range is considered to forward the packet using outgoing link.\n",
    "\n",
    "![image.png](figures/fig266.PNG)\n",
    "\n",
    "![image.png](figures/fig267.PNG)\n",
    "\n",
    "From the table above we can solve the question below. We try to match the longest sequence in the table with the given ip address in bits.\n",
    "\n",
    "![image.png](figures/fig268.PNG)\n",
    "\n",
    "![image.png](figures/fig269.PNG)\n"
   ]
  },
  {
   "cell_type": "markdown",
   "metadata": {},
   "source": [
    "![image.png](figures/fig270.PNG)\n",
    "\n",
    "![image.png](figures/fig271.PNG)\n",
    "\n",
    "![image.png](figures/fig272.PNG)\n",
    "\n",
    "MTU is max transfer size of file. For a 100mbps MTU 10mb of data can be passed in a single unit of time. Different links has different MTU.\n",
    "\n",
    "![image.png](figures/fig273.PNG)\n",
    "\n",
    "![image.png](figures/fig274.PNG)"
   ]
  },
  {
   "cell_type": "markdown",
   "metadata": {},
   "source": [
    "# That's all for this lecture!"
   ]
  }
 ],
 "metadata": {
  "kernelspec": {
   "display_name": "Python 3",
   "language": "python",
   "name": "python3"
  },
  "language_info": {
   "codemirror_mode": {
    "name": "ipython",
    "version": 3
   },
   "file_extension": ".py",
   "mimetype": "text/x-python",
   "name": "python",
   "nbconvert_exporter": "python",
   "pygments_lexer": "ipython3",
   "version": "3.8.3"
  }
 },
 "nbformat": 4,
 "nbformat_minor": 4
}
