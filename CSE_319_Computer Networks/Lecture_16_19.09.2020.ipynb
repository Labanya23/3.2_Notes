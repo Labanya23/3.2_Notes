{
 "cells": [
  {
   "cell_type": "markdown",
   "metadata": {},
   "source": [
    "\n",
    "<div class=\"alert alert-success\">\n",
    "    <b>Author</b>:\n",
    "\n",
    "      Rashik Rahman\n",
    "      17201012@uap-bd.edu\n",
    "\n",
    "</div>\n",
    "\n",
    "# [Click here to see class lecture](https://drive.google.com/file/d/1zEWID1zuhrpJVEpWvKdhpwXLffpdyt-6/view)\n",
    "\n"
   ]
  },
  {
   "cell_type": "markdown",
   "metadata": {},
   "source": [
    "![image.png](figures/fig297.PNG)\n",
    "\n",
    "![image.png](figures/fig298.PNG)\n",
    "\n",
    "![image.png](figures/fig299.PNG)\n",
    "\n",
    "Here the source ip is 192.168.0.2 and source port is 5000(let). And destination ip and port is of destination's. Now the total packet comes to NAT via default gateway. NAT replaces source ip and port no with its own source ip and port no(That is NAT ip address and new port no.). And it keeps track of client's source ip and port no. Destination ip and port no will not change. So NAT keeps states. NAT has 60k port no. so it can connect 60k concurrent user.\n",
    "\n",
    "![image.png](figures/fig300.PNG)\n",
    "\n",
    "![image.png](figures/fig301.PNG)\n",
    "\n",
    "![image.png](figures/fig302.PNG)\n",
    "![image.png](figures/fig303.PNG)\n",
    "![image.png](figures/fig304.PNG)\n",
    "![image.png](figures/fig305.PNG)\n",
    "\n",
    "An example of NAT can be like Mr.Karim wants to establish an ISP for that reason he bought 10 public IP address for his clients. So now how he will design the network so that his client can better service and also it'll reduce his cost. This type of q came in mid and before mid ct. We answered with web cache/ proxy. But now we also have to add NAT with that concept. Cause here karim is buying only 10 IP addresses. So he must use NAT to connect as many clients as he can thus improve his business and reduce cost. 1 NAT can connect 60k hosts 10 NATS can connect 600k hosts. \n",
    "\n",
    "Using 16bit port number field NAT can connect upto 60k hosts as it has 60k ports. NAT is controversial as it opens the packet and rewrites it so it violates end-end argument. IPv4 can connect upto 4billion users. Thats why address shortage can be solved by IPv6. IPv6 can connect every sand fragment of the world cause it has that much available addresses cause IPv4 address was 32 bits but IPv6 is of 128bits.\n",
    "\n",
    "![image.png](figures/fig306.PNG)\n",
    "\n",
    "Server and Nat are of same network thats an issue\n",
    "\n",
    "![image.png](figures/fig307.PNG)\n",
    "\n",
    "![image.png](figures/fig308.PNG)\n",
    "\n",
    "![image.png](figures/fig309.PNG)\n"
   ]
  },
  {
   "cell_type": "markdown",
   "metadata": {},
   "source": [
    "![image.png](figures/fig310.PNG)\n",
    "\n",
    "![image.png](figures/fig311.PNG)\n",
    "\n"
   ]
  },
  {
   "cell_type": "markdown",
   "metadata": {},
   "source": []
  }
 ],
 "metadata": {
  "kernelspec": {
   "display_name": "Python 3",
   "language": "python",
   "name": "python3"
  },
  "language_info": {
   "codemirror_mode": {
    "name": "ipython",
    "version": 3
   },
   "file_extension": ".py",
   "mimetype": "text/x-python",
   "name": "python",
   "nbconvert_exporter": "python",
   "pygments_lexer": "ipython3",
   "version": "3.7.6"
  }
 },
 "nbformat": 4,
 "nbformat_minor": 4
}
