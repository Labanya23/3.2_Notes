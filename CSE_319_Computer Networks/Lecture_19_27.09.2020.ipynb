{
 "cells": [
  {
   "cell_type": "markdown",
   "metadata": {},
   "source": [
    "\n",
    "<div class=\"alert alert-success\">\n",
    "    <b>Author</b>:\n",
    "\n",
    "      Rashik Rahman\n",
    "      17201012@uap-bd.edu\n",
    "\n",
    "</div>\n",
    "\n",
    "# [Click here to see class lecture](https://drive.google.com/file/d/1xHiuJyKlXMqMLcKhZPa87d6ktIFbSl9Y/view)\n",
    "\n"
   ]
  },
  {
   "cell_type": "markdown",
   "metadata": {},
   "source": [
    "AES is much faster than public key.\n",
    "\n",
    "![image.png](figures/fig368.PNG)\n",
    "\n",
    "algorithm is vice versa cause if bob wants to send a message to prove that it is from him he can encrypt with his private key and the receiver will decrypt with bob's public key. But in most of the cases sender encrypts the data with receiver's public key and receiver decrypts that data with it's private key. Computing private key from public key is impossible.\n",
    "\n",
    "![image.png](figures/fig369.PNG)\n",
    "\n",
    "![image.png](figures/fig370.PNG)\n",
    "\n",
    "#### RSA\n",
    "\n",
    "![image.png](figures/fig375.PNG)\n",
    "\n",
    "relative prime means there won't be any common factor except 1 between the numbers. Like 22,12 has common factor 1 and 2 meaning that both are divisible by 1 and 2. But for 22, 29 there isn't any common factors except 1 thus these are relatively prime. (22,29 এর লসাগু 1 ছাড়া আর কিছু নাই তাই এরা relatively prime). \n",
    "\n",
    "![image.png](figures/fig371.PNG)\n",
    "\n",
    "![image.png](figures/fig372.PNG)\n",
    "\n",
    "![image.png](figures/fig373.PNG)\n",
    "\n",
    "![image.png](figures/fig376.PNG)\n",
    "\n",
    "if ed-1%z=0 then ed%z=1.\n",
    "\n",
    "![image.png](figures/fig374.PNG)\n",
    "\n",
    "If public key is used for encryption then private will be used for decryption and vice versa.\n",
    "\n",
    "![image.png](figures/fig377.PNG)"
   ]
  },
  {
   "cell_type": "markdown",
   "metadata": {},
   "source": [
    "\n",
    "\n",
    "![image.png](figures/fig378.PNG)\n",
    "\n",
    "![image.png](figures/fig379.PNG)\n",
    "\n",
    "![image.png](figures/fig380.PNG)\n",
    "\n",
    "In symmetric the issue was difficult to exchange keys, in public key issue is computation is very extensive. Here alice encrypts the secret data with her private key and the does another level of encryption with bob's public key. Receiving the data bob 1st decrypts the data with his private key than to get original data does decryption again with alice's public key.\n",
    "\n",
    "![image.png](figures/fig381.PNG)\n",
    "\n",
    "Public key can provide integrity and authentication.\n",
    "\n",
    "![image.png](figures/fig382.PNG)\n",
    "\n",
    "We'll see levels of authentication like we have seen rdt1.0,rdt2.0 etc levels. Authentication means proving the sender and receiver's identity. Here in protocol ap1.0 consider there's no encryption or nothing, here alice says to bob that she is alice(on online).\n",
    "\n",
    "![image.png](figures/fig383.PNG)\n",
    "\n",
    "But there's no way to know for sure that is its alice. Trudy can also pretend to be aline on online. So protocol ap1.0 isn't working, we need a much more secure protocol.\n",
    "\n",
    "![image.png](figures/fig384.PNG)\n",
    "\n",
    "\n",
    "So protocol ap1.0 isn't working, we need a much more secure protocol. Now we come to ap2.0. Here alice sends her ip address to bob with the I am alice message. \n",
    "\n",
    "![image.png](figures/fig385.PNG)\n",
    "\n",
    "But bob doesn't know alice's ip address so here also trudy can pretend to be alice by giving a fake ip address or spoof the packet to get alice's ip address and giving it as bob doesn't know the actual ip address. So this protocol will also fail.\n",
    "\n",
    "![image.png](figures/fig386.PNG)\n",
    "\n",
    "Now we see ap3.0. Here alice sends password with ip and message. \n",
    "\n",
    "![image.png](figures/fig387.PNG)\n",
    "\n",
    "Here we see the same problem. Trudy can spoof alice's packet and get her pass and ip. As bob doesn't know the pass and ip of alice so trudy can pretend to be alice. So this is also not working.\n",
    "\n",
    "![image.png](figures/fig388.PNG)\n"
   ]
  },
  {
   "cell_type": "markdown",
   "metadata": {},
   "source": [
    "Now we see ap3.1 here alice gives encrypted pass.\n",
    "\n",
    "![image.png](figures/fig389.PNG)\n",
    "\n",
    "but it has same fail scenario as ap3.0 playback attack can work here also. Trudy doesn't need to decrypt the pass she can just send it as it is.\n",
    "\n",
    "![image.png](figures/fig390.PNG)\n",
    "l\n",
    "In ap4.0 bob gives R. Alice encrypts R with shared key and after receiving if bob decrypts it and gets R then he knows that it is alice.\n",
    "\n",
    "![image.png](figures/fig391.PNG)\n",
    "\n",
    "Tough 4.0 is providing security but it has its drawback. That is you need to have a shared symmetric key. So here we face issues of symmetric key. So now we have ap5.0. Here public key cryptography is used. Alice encrypts R with her private key and Bob decrypts that with alice's public key. The sharing of keys happens as shown in the fig.\n",
    "\n",
    "![image.png](figures/fig392.PNG)\n",
    "\n",
    "But it also has a security hole. After getting R trudy encrypts it with her private key then sends to bob. Bob asks for public key to alice trudy spoofs and sends her public key. Thus bob decrypts and gets R. Now trudy can pretend as alice or spoof their data using this method. This problem is called man in the middle attack. \n",
    "\n",
    "![image.png](figures/fig393.PNG)\n",
    "\n",
    "![image.png](figures/fig394.PNG)\n",
    "\n",
    "![image.png](figures/fig395.PNG)\n",
    "\n",
    "![image.png](figures/fig396.PNG)"
   ]
  },
  {
   "cell_type": "markdown",
   "metadata": {},
   "source": [
    "# That's all for this lecture!"
   ]
  }
 ],
 "metadata": {
  "kernelspec": {
   "display_name": "Python 3",
   "language": "python",
   "name": "python3"
  },
  "language_info": {
   "codemirror_mode": {
    "name": "ipython",
    "version": 3
   },
   "file_extension": ".py",
   "mimetype": "text/x-python",
   "name": "python",
   "nbconvert_exporter": "python",
   "pygments_lexer": "ipython3",
   "version": "3.7.6"
  }
 },
 "nbformat": 4,
 "nbformat_minor": 4
}
