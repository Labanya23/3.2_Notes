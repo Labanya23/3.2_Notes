{
 "cells": [
  {
   "cell_type": "markdown",
   "metadata": {},
   "source": [
    "\n",
    "<div class=\"alert alert-success\">\n",
    "    <b>Author</b>:\n",
    "\n",
    "      Rashik Rahman\n",
    "      17201012@uap-bd.edu\n",
    "\n",
    "</div>\n",
    "\n",
    "# [Click here to see class lecture](https://photos.app.goo.gl/7dKzw55iQeEfVifdA)\n",
    "\n"
   ]
  },
  {
   "cell_type": "markdown",
   "metadata": {},
   "source": [
    "Double spending problem is like we spend same currency two time. Like you made a copy of 1 dollar bill. Now you have an original bill and a fake one. So in total you have 2 dollars and if you can spent both you'll be able to purchase a good that's worth 2 dollar but actually you'll pay 1 dollar. We spent double of the original bill. Double spending can't happen in real life cause its easy to catch fake bills. But for online transaction that doesn't include financial institution like banks,e-pay systems we can't detect the fake bill. So how to solve this double spending problem?A Peer-to-Peer Electronic Cash System (crypto currency, i.e. Bitcoin) is a financial institution less online transaction system which implements a solution for this problem. We propose a solution to the double-spending problem using a peer-to-peer network.\n",
    "The network timestamps transactions by hashing them into an ongoing chain of\n",
    "hash-based proof-of-work, forming a record that cannot be changed without redoing\n",
    "the proof-of-work. The longest chain not only serves as proof of the sequence of\n",
    "events witnessed, but proof that it came from the largest pool of CPU power."
   ]
  },
  {
   "cell_type": "markdown",
   "metadata": {},
   "source": [
    "`So whats proof of work?`   Proof of work is  consensus or agreement that says that the seller and buyer agree to have transaction. Mining is needded to generate bitcoins(tokens).\n",
    "\n",
    "Lets think of a scenario. x has 5 coins(bitcoin). x gives 3 coins to y for y' service."
   ]
  },
  {
   "cell_type": "markdown",
   "metadata": {},
   "source": []
  },
  {
   "cell_type": "markdown",
   "metadata": {},
   "source": []
  }
 ],
 "metadata": {
  "kernelspec": {
   "display_name": "Python 3",
   "language": "python",
   "name": "python3"
  },
  "language_info": {
   "codemirror_mode": {
    "name": "ipython",
    "version": 3
   },
   "file_extension": ".py",
   "mimetype": "text/x-python",
   "name": "python",
   "nbconvert_exporter": "python",
   "pygments_lexer": "ipython3",
   "version": "3.7.6"
  }
 },
 "nbformat": 4,
 "nbformat_minor": 4
}
