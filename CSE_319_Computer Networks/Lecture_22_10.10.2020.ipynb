{
 "cells": [
  {
   "cell_type": "markdown",
   "metadata": {},
   "source": [
    "\n",
    "<div class=\"alert alert-success\">\n",
    "    <b>Author</b>:\n",
    "\n",
    "      Rashik Rahman\n",
    "      17201012@uap-bd.edu\n",
    "\n",
    "</div>\n",
    "\n",
    "# [Click here to see class lecture](https://drive.google.com/file/d/1THY7iTMjoJ-zWfn1ty4fUS2n6aeC3vgx/view)\n",
    "\n"
   ]
  },
  {
   "cell_type": "markdown",
   "metadata": {},
   "source": [
    "![image.png](figures/fig429.PNG)\n",
    "\n",
    "![image.png](figures/fig430.PNG)\n",
    "\n",
    "![image.png](figures/fig431.PNG)\n",
    "\n",
    "![image.png](figures/fig432.PNG)\n",
    "\n",
    "![image.png](figures/fig433.PNG)\n",
    "\n",
    "![image.png](figures/fig434.PNG)\n",
    "\n",
    "![image.png](figures/fig435.PNG)"
   ]
  },
  {
   "cell_type": "markdown",
   "metadata": {},
   "source": [
    "\n",
    "\n",
    "![image.png](figures/fig436.PNG)\n",
    "\n",
    "![image.png](figures/fig437.PNG)\n",
    "\n",
    "![image.png](figures/fig438.PNG)\n",
    "\n",
    "![image.png](figures/fig439.PNG)\n",
    "\n",
    "![image.png](figures/fig440.PNG)\n",
    "\n",
    "![image.png](figures/fig441.PNG)\n",
    "\n",
    "![image.png](figures/fig442.PNG)\n",
    "\n",
    "![image.png](figures/fig443.PNG)\n",
    "\n",
    "![image.png](figures/fig444.PNG)"
   ]
  },
  {
   "cell_type": "markdown",
   "metadata": {},
   "source": [
    "# That's all for this lecture!"
   ]
  }
 ],
 "metadata": {
  "kernelspec": {
   "display_name": "Python 3",
   "language": "python",
   "name": "python3"
  },
  "language_info": {
   "codemirror_mode": {
    "name": "ipython",
    "version": 3
   },
   "file_extension": ".py",
   "mimetype": "text/x-python",
   "name": "python",
   "nbconvert_exporter": "python",
   "pygments_lexer": "ipython3",
   "version": "3.7.6"
  }
 },
 "nbformat": 4,
 "nbformat_minor": 4
}
