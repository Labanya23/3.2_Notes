{
 "cells": [
  {
   "cell_type": "markdown",
   "metadata": {},
   "source": [
    "\n",
    "<div class=\"alert alert-success\">\n",
    "    <b>Author</b>:\n",
    "\n",
    "      Rashik Rahman\n",
    "      17201012@uap-bd.edu\n",
    "\n",
    "</div>\n",
    "\n",
    "# [Click here to see class lecture](https://drive.google.com/file/d/1dAA9t0GgheMUA360axDhbJImgth2mMxH/view)\n",
    "\n"
   ]
  },
  {
   "cell_type": "markdown",
   "metadata": {},
   "source": [
    "TCP provided reliable data transfer over unreliable channel by using rdt protocols. But rdt was very time consuming so to handle that we may use pipeline. In pipeline there are two protocols Go-Back-N and Selective Repeat. In pipeline we can send multiple packet at a time to save time. But to handle bit error or packet loss in the packet set we use these pipeline protocols.\n",
    "\n",
    "![image.png](figures/fig222.PNG)\n",
    "\n",
    "![image.png](figures/fig223.PNG)\n",
    "\n",
    "![image.png](figures/fig224.PNG)\n",
    "\n",
    "**GO - Back -N :** In this protocol there are N packets in a pipeline. Sender sends N packets and wait for ACK. Receiver sends cumulative ACK for the N packet if all of them are received successfully. But if one packet is missing or corrupter then receiver doesn't send any ACK. Sender has a timer so when the timer expires sender resends all the packets in the pipeline. All packet will have a sequence number.\n",
    "\n",
    "![image.png](figures/fig225.PNG)\n",
    "\n",
    "`FSM isn't needed`\n",
    "\n",
    "![image.png](figures/fig228.PNG)\n",
    "\n",
    "**Selective Repeat :** In this protocol receiver sends ACK for each packet in the pipeline upon receiving successfully but if the packet is negative then it doesn't send ACK for that packet. So sender maintains timer for each packet. When it doesn't receive ACK for a packet then it only resends that packet.\n",
    "\n",
    "![image.png](figures/fig229.PNG)\n",
    "\n",
    "![image.png](figures/fig230.PNG)\n",
    "\n",
    "![image.png](figures/fig231.PNG)\n"
   ]
  },
  {
   "cell_type": "markdown",
   "metadata": {},
   "source": [
    "\n",
    "\n",
    "![image.png](figures/fig234.PNG)\n",
    "\n",
    "From  this lecture we'll see only 1-6,26-29 slide and a note provided by course instructor.\n",
    "\n",
    "![image.png](figures/fig235.PNG)\n",
    "\n",
    "![image.png](figures/fig236.PNG)\n",
    "\n",
    "Here host A sends data c with sequence 42. Window size is 37 for this data. So the sender will want ACK for 79 as 42+37 is 79. Then the receiver sends ACK=43 it describes that it has received till sequence 79 and also tells the sender to send the next packet starting from 43. Thats why ack is 43.\n",
    "\n",
    "\n",
    "\n",
    "![image.png](figures/fig237.PNG)"
   ]
  },
  {
   "cell_type": "markdown",
   "metadata": {},
   "source": [
    "\n",
    "![image.png](figures/fig238.PNG)\n",
    "\n",
    "![image.png](figures/fig239.PNG)\n",
    "\n",
    "3way hand shake needed for establishing connection. client sends a sync msg to server with seq#x server sends ACK with x+1 meaning that it received till x you can send next that is x+1. If client receives this ACK it understands that server is alive and connection is established then it  sends another segment that may contain client-server data or sync-ack. Upon receiving that the server understands the client is alive and the connection is established. It took 3steps to make both client and server understand that both are alive. Thats why its called 3way hand shake.\n",
    "\n",
    "\n",
    "![image.png](figures/fig240.PNG)\n",
    "\n",
    "![image.png](figures/fig242.PNG)\n",
    "\n",
    "![image.png](figures/fig243.PNG)\n",
    "\n",
    "![image.png](figures/fig244.PNG)\n",
    "\n",
    "![image.png](figures/fig241.PNG)\n",
    "\n",
    "Closing the connection is important so that another client can access the server.\n",
    "\n",
    "![image.png](figures/fig245.PNG)\n",
    "\n",
    "4way hand shake to close the connection.\n",
    "\n",
    "![image.png](figures/fig246.PNG)"
   ]
  },
  {
   "cell_type": "markdown",
   "metadata": {},
   "source": [
    "\n",
    "![image.png](figures/fig247.PNG)\n",
    "\n",
    "![image.png](figures/fig248.PNG)\n",
    "\n",
    "In network layer we include sender and receiver ip address.\n",
    "\n",
    "![image.png](figures/fig249.PNG)\n",
    "![image.png](figures/fig250.PNG)\n",
    "\n",
    "Network layer has two key features routing and forwarding. Routing will determine what path should the packet follow to reach another router thus destination. Forwarding is the selection of router input and output. Like router1 is connected to router2 and router3 in port Se0/1 and Se0/2 respectively. If the packet is routed to router3 then the packet will come out of router1's Se0/2 output and router3's se0/1 input. This is forwarding.\n",
    "\n",
    "![image.png](figures/fig251.PNG)\n",
    "\n",
    "Here from the table 0111 data will come out of port 2. So it will come out of 2(forwarding) and the packet will be then routed.\n",
    "\n",
    "![image.png](figures/fig252.PNG)\n",
    "\n",
    "![image.png](figures/fig253.PNG)\n",
    "\n",
    "![image.png](figures/fig254.PNG)\n",
    "\n",
    "![image.png](figures/fig255.PNG)\n"
   ]
  },
  {
   "cell_type": "markdown",
   "metadata": {},
   "source": [
    "# That's all for this lecture!"
   ]
  }
 ],
 "metadata": {
  "kernelspec": {
   "display_name": "Python 3",
   "language": "python",
   "name": "python3"
  },
  "language_info": {
   "codemirror_mode": {
    "name": "ipython",
    "version": 3
   },
   "file_extension": ".py",
   "mimetype": "text/x-python",
   "name": "python",
   "nbconvert_exporter": "python",
   "pygments_lexer": "ipython3",
   "version": "3.7.6"
  }
 },
 "nbformat": 4,
 "nbformat_minor": 4
}
