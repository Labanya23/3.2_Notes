{
 "cells": [
  {
   "cell_type": "markdown",
   "metadata": {},
   "source": [
    "\n",
    "<div class=\"alert alert-success\">\n",
    "    <b>Author</b>:\n",
    "\n",
    "      Rashik Rahman\n",
    "      17201012@uap-bd.edu\n",
    "\n",
    "</div>\n",
    "\n",
    "# [Click here to see class lecture](https://drive.google.com/file/d/1zEWID1zuhrpJVEpWvKdhpwXLffpdyt-6/view)\n",
    "\n"
   ]
  },
  {
   "cell_type": "markdown",
   "metadata": {},
   "source": [
    "![image.png](figures/fig297.PNG)\n",
    "\n",
    "![image.png](figures/fig298.PNG)\n",
    "\n",
    "![image.png](figures/fig299.PNG)\n",
    "\n",
    "Here the source ip is 192.168.0.2 and source port is 5000(let). And destination ip and port is of destination's. Now the total packet comes to NAT via default gateway. NAT replaces source ip and port no with its own source ip and port no(That is NAT ip address and new port no.). And it keeps track of client's source ip and port no. Destination ip and port no will not change. So NAT keeps states. NAT has 60k port no. so it can connect 60k concurrent user.\n",
    "\n",
    "![image.png](figures/fig300.PNG)\n",
    "\n",
    "![image.png](figures/fig301.PNG)\n",
    "\n",
    "![image.png](figures/fig302.PNG)\n",
    "![image.png](figures/fig303.PNG)\n",
    "![image.png](figures/fig304.PNG)\n",
    "![image.png](figures/fig305.PNG)\n",
    "\n",
    "An example of NAT can be like Mr.Karim wants to establish an ISP for that reason he bought 10 public IP address for his clients. So now how he will design the network so that his client can better service and also it'll reduce his cost. This type of q came in mid and before mid ct. We answered with web cache/ proxy. But now we also have to add NAT with that concept. Cause here karim is buying only 10 IP addresses. So he must use NAT to connect as many clients as he can thus improve his business and reduce cost. 1 NAT can connect 60k hosts 10 NATS can connect 600k hosts. \n",
    "\n",
    "Using 16bit port number field NAT can connect upto 60k hosts as it has 60k ports. NAT is controversial as it opens the packet and rewrites it so it violates end-end argument. IPv4 can connect upto 4billion users. Thats why address shortage can be solved by IPv6. IPv6 can connect every sand fragment of the world cause it has that much available addresses cause IPv4 address was 32 bits but IPv6 is of 128bits.\n",
    "\n",
    "![image.png](figures/fig306.PNG)\n",
    "\n",
    "Server and Nat are of same network thats an issue\n",
    "\n",
    "![image.png](figures/fig307.PNG)\n",
    "\n",
    "![image.png](figures/fig308.PNG)\n",
    "\n",
    "![image.png](figures/fig309.PNG)\n"
   ]
  },
  {
   "cell_type": "markdown",
   "metadata": {},
   "source": [
    "![image.png](figures/fig310.PNG)\n",
    "\n",
    "![image.png](figures/fig311.PNG)\n",
    "\n",
    "Using Traceroute /tracert  we can see intervene hops. 3 packet set goes to 1st router then comes back another set goes to 2nd router and comes back like this a 3 packet set goes to destination and comes back thus we can know how many hops are there.\n",
    "\n",
    "![image.png](figures/fig312.PNG)\n",
    "\n",
    "Here we can see there's 9 hops to reach the destination that is the 10th row.\n",
    "\n",
    "![image.png](figures/fig313.PNG)\n",
    "\n",
    "![image.png](figures/fig314.PNG)\n",
    "\n",
    "**Only for info**\n",
    "\n",
    "![image.png](figures/fig315.PNG)\n",
    "\n",
    "![image.png](figures/fig316.PNG)\n",
    "\n",
    "![image.png](figures/fig317.PNG)\n",
    "\n",
    "![image.png](figures/fig318.PNG)\n",
    "\n",
    "![image.png](figures/fig319.PNG)\n",
    "\n",
    "![image.png](figures/fig320.PNG)\n"
   ]
  },
  {
   "cell_type": "markdown",
   "metadata": {},
   "source": [
    "![image.png](figures/fig321.PNG)\n",
    "\n",
    "Router has two work routing and forwarding. There are two types of routing algorithm we have studied those are static and dynamic. In static we have to specify how to reach destination (static routing) another one is dynamic (router rip v2) that'll decide how to reach destination on its own if provided with algorithm. In `dynamic routing` based on the type of routing we have two types of algorithm  one is link state another one is distance vector. Link state has the information of the whole routing path and distance vector will only keep neighbour's information. So link state is global and distance vector is local. Based on our usage we use local routing algorithm.\n",
    "\n",
    "![image.png](figures/fig322.PNG)\n",
    "\n",
    "![image.png](figures/fig323.PNG)\n",
    "\n",
    "In graph nodes(N) are considered as routers and edges(E) are considered as links. So graph is a set of (N,E).\n",
    "\n",
    "![image.png](figures/fig324.PNG)\n",
    "\n",
    "We have to learn how to find least cost path.\n",
    "\n",
    "![image.png](figures/fig325.PNG)\n",
    "\n",
    "![image.png](figures/fig326.PNG)"
   ]
  },
  {
   "cell_type": "markdown",
   "metadata": {},
   "source": [
    "\n",
    "\n",
    "![image.png](figures/fig327.PNG)\n",
    "\n",
    "![image.png](figures/fig328.PNG)\n",
    "\n",
    "We start from U and want to goto Z. So in step 0 we calculate the distance of all the adjacent nodes of u and their prev node. In step 2 we take uw. Here we select w cuz it hase the lowest distance in the previous step. In step 1 now we calculate distance from w to its adjacent nodes. If the distance is shorter than the table is updated otherwise stays the same. Like distance of X from W is 7 But X has distance of 5 so distance of X will stay the same. In step 2 we select x cause it had the lowest distance in previous step. Cost/distance are not written in some places those are the optimal lowest values so no need to write it again nd again.\n",
    "\n",
    "![image.png](figures/fig329.PNG)\n",
    "\n",
    "![image.png](figures/fig330.PNG)"
   ]
  },
  {
   "cell_type": "markdown",
   "metadata": {},
   "source": [
    "# That's all for this lecture!"
   ]
  }
 ],
 "metadata": {
  "kernelspec": {
   "display_name": "Python 3",
   "language": "python",
   "name": "python3"
  },
  "language_info": {
   "codemirror_mode": {
    "name": "ipython",
    "version": 3
   },
   "file_extension": ".py",
   "mimetype": "text/x-python",
   "name": "python",
   "nbconvert_exporter": "python",
   "pygments_lexer": "ipython3",
   "version": "3.7.6"
  }
 },
 "nbformat": 4,
 "nbformat_minor": 4
}
