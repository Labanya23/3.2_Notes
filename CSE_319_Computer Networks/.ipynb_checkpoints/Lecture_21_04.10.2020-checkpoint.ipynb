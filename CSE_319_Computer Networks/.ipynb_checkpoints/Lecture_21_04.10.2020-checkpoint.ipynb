{
 "cells": [
  {
   "cell_type": "markdown",
   "metadata": {},
   "source": [
    "\n",
    "<div class=\"alert alert-success\">\n",
    "    <b>Author</b>:\n",
    "\n",
    "      Rashik Rahman\n",
    "      17201012@uap-bd.edu\n",
    "\n",
    "</div>\n",
    "\n",
    "# [Click here to see class lecture](https://drive.google.com/file/d/1W6KjIqqFUEleiNe7Ec0_T5O4feTVNEQA/view)\n",
    "\n"
   ]
  },
  {
   "cell_type": "markdown",
   "metadata": {},
   "source": [
    "Till now we have learned\n",
    "\n",
    "![image.png](figures/fig413.PNG)\n",
    "\n",
    "![image.png](figures/fig414.PNG)\n",
    "\n",
    "![image.png](figures/fig415.PNG)"
   ]
  },
  {
   "cell_type": "markdown",
   "metadata": {},
   "source": [
    "![image.png](figures/fig416.PNG)\n",
    "\n",
    "There are two types of IaaS public and private. IaaS will give you a platform, in public IaaS services are given by the provider like google drive etc. In private IaaS you get a platform where you can build your own services.\n",
    "\n",
    "![image.png](figures/fig417.PNG)\n",
    "\n",
    "![image.png](figures/fig418.PNG)\n",
    "\n",
    "![image.png](figures/fig419.PNG)\n"
   ]
  },
  {
   "cell_type": "markdown",
   "metadata": {},
   "source": []
  },
  {
   "cell_type": "markdown",
   "metadata": {},
   "source": []
  }
 ],
 "metadata": {
  "kernelspec": {
   "display_name": "Python 3",
   "language": "python",
   "name": "python3"
  },
  "language_info": {
   "codemirror_mode": {
    "name": "ipython",
    "version": 3
   },
   "file_extension": ".py",
   "mimetype": "text/x-python",
   "name": "python",
   "nbconvert_exporter": "python",
   "pygments_lexer": "ipython3",
   "version": "3.7.6"
  }
 },
 "nbformat": 4,
 "nbformat_minor": 4
}
