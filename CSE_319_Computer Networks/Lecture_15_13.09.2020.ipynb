{
 "cells": [
  {
   "cell_type": "markdown",
   "metadata": {},
   "source": [
    "\n",
    "<div class=\"alert alert-success\">\n",
    "    <b>Author</b>:\n",
    "\n",
    "      Rashik Rahman\n",
    "      17201012@uap-bd.edu\n",
    "\n",
    "</div>\n",
    "\n",
    "# [Click here to see class lecture](https://drive.google.com/file/d/1Ceh3a1OfldiHOzbadRhQO6Yicx9DVrtD/view)\n",
    "\n"
   ]
  },
  {
   "cell_type": "markdown",
   "metadata": {},
   "source": [
    "![image.png](figures/fig275.PNG)\n",
    "\n",
    "![image.png](figures/fig276.PNG)\n",
    "\n",
    "Total size is  4000bytes. This is divided in three packets of 1500,1500,1040 byte. Now why the 3rd packet is 1040 byte? It should be 1000byte right? The reason is In the 1st 2 packets each carries 20byte less meaning each size is 1480byte. So 20*2 = 4o bytes adds in the 3rd packet thus 1040bytes.\n",
    "\n",
    "![image.png](figures/fig277.PNG)\n",
    "\n",
    "IPv4 is used for identification of hosts. If there are n interface in router then there will an ip address for each interface.\n",
    "\n",
    "![image.png](figures/fig278.PNG)\n",
    "![image.png](figures/fig279.PNG)\n",
    "\n",
    "\n"
   ]
  },
  {
   "cell_type": "markdown",
   "metadata": {},
   "source": [
    "\n",
    "![image.png](figures/fig280.PNG)\n",
    "\n",
    "Device can connect in the same subnet connected via switch. If it want to connect to a different subnet then it need to use router.\n",
    "\n",
    "![image.png](figures/fig281.PNG)\n",
    "\n",
    "**This type of q can come in exam.Can be a creative type q referencing to individuals id.**\n",
    "\n",
    "Here there's only one subnet. Cause there is 6 host bit so it can connect upto 2^6 = 64 (taking first and last host in consideration) hosts. All the connection is under 62 thus all are in same subnet.\n",
    "\n",
    "![image.png](figures/fig282.PNG)\n",
    "\n",
    "For this scenario there are 3 host bit so maximum hosts can connect is 2^3=8(including first&last host) hosts. Now the range becomes like 0-7, 8-15, 16-23, 24-31, 32-39, 40-47, 48-55, 56-63, 64-71. There are three host in 8-5, two host in 24-31, two hosts in 40-47, one in 48-55, and one in 48-53. So here 4 subnet is used. \n",
    "\n",
    "![image.png](figures/fig283.PNG)\n",
    "\n",
    "![image.png](figures/fig284.PNG)\n"
   ]
  },
  {
   "cell_type": "markdown",
   "metadata": {},
   "source": [
    "![image.png](figures/fig285.PNG)\n",
    "\n",
    "![image.png](figures/fig286.PNG)\n",
    "\n",
    "![image.png](figures/fig287.PNG)\n",
    "\n",
    "![image.png](figures/fig288.PNG)\n",
    "\n",
    "How does dhcp setup ip? A new host comes to the network and it broadcasts a dhcp discover msg to let the dhcp new host has come to join and so that it can know who is the dhcp. The dhcp responds with dhcp offer msg, so now the new host knows who is the dhcp. Now host requests for ip address by sending dhcp request to dhcp and dhcp responds with an ip address using dhcp ack.\n",
    "\n",
    "![image.png](figures/fig289.PNG)"
   ]
  },
  {
   "cell_type": "markdown",
   "metadata": {},
   "source": [
    "![image.png](figures/fig290.PNG)\n",
    "\n",
    "![image.png](figures/fig291.PNG)\n",
    "\n",
    "Router can also work as a dhcp server.\n",
    "\n",
    "![image.png](figures/fig292.PNG)\n",
    "\n",
    "![image.png](figures/fig293.PNG)"
   ]
  },
  {
   "cell_type": "markdown",
   "metadata": {},
   "source": [
    "![image.png](figures/fig294.PNG)\n",
    "\n",
    "![image.png](figures/fig295.PNG)\n",
    "\n",
    "![image.png](figures/fig296.PNG)"
   ]
  },
  {
   "cell_type": "markdown",
   "metadata": {},
   "source": [
    "# That's all for this lecture!"
   ]
  }
 ],
 "metadata": {
  "kernelspec": {
   "display_name": "Python 3",
   "language": "python",
   "name": "python3"
  },
  "language_info": {
   "codemirror_mode": {
    "name": "ipython",
    "version": 3
   },
   "file_extension": ".py",
   "mimetype": "text/x-python",
   "name": "python",
   "nbconvert_exporter": "python",
   "pygments_lexer": "ipython3",
   "version": "3.7.6"
  }
 },
 "nbformat": 4,
 "nbformat_minor": 4
}
