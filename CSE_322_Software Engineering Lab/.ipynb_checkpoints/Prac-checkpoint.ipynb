{
 "cells": [
  {
   "cell_type": "code",
   "execution_count": 1,
   "metadata": {},
   "outputs": [],
   "source": [
    "from selenium.common.exceptions import NoSuchElementException, ElementClickInterceptedException\n",
    "from selenium import webdriver\n",
    "import time"
   ]
  },
  {
   "cell_type": "code",
   "execution_count": 14,
   "metadata": {},
   "outputs": [
    {
     "data": {
      "text/plain": [
       "'data scientist Jobs | Glassdoor'"
      ]
     },
     "execution_count": 14,
     "metadata": {},
     "output_type": "execute_result"
    }
   ],
   "source": [
    "options = webdriver.ChromeOptions()\n",
    "driver = webdriver.Chrome(executable_path='chromedriver.exe', options=options)\n",
    "driver.set_window_size(1120, 1000)\n",
    "url = 'https://www.glassdoor.com/Job/data-scientist-jobs-SRCH_KE0,14_IP2.htm'\n",
    "driver.get(url)\n",
    "\n",
    "driver.title"
   ]
  },
  {
   "cell_type": "code",
   "execution_count": 16,
   "metadata": {},
   "outputs": [],
   "source": [
    "#Goto next page\n",
    "\n",
    "time.sleep(3)\n",
    "\n",
    "try:\n",
    "    driver.find_element_by_xpath('.//li[@class=\"next\"]//a').click()\n",
    "except NoSuchElementException:\n",
    "        print(\"Cant'\\t Find Element!!\")\n",
    "\n",
    "time.sleep(3)"
   ]
  },
  {
   "cell_type": "code",
   "execution_count": 18,
   "metadata": {},
   "outputs": [
    {
     "name": "stdout",
     "output_type": "stream",
     "text": [
      " x out worked\n"
     ]
    }
   ],
   "source": [
    "#Close the pop up window\n",
    "\n",
    "time.sleep(10)\n",
    "try:\n",
    "        driver.find_element_by_class_name(\"selected\").click()\n",
    "except ElementClickInterceptedException:\n",
    "    pass\n",
    "\n",
    "time.sleep(.1)\n",
    "\n",
    "try:\n",
    "    driver.find_element_by_css_selector('[alt=\"Close\"]').click() #clicking to the X.\n",
    "    print(' x out worked')\n",
    "except NoSuchElementException:\n",
    "    print(' x out failed')\n",
    "    pass"
   ]
  },
  {
   "cell_type": "code",
   "execution_count": 20,
   "metadata": {},
   "outputs": [],
   "source": [
    "try:\n",
    "    driver.find_element_by_xpath('.//*[@id=\"FooterPageNav\"]/div/ul/li[1]').click()\n",
    "except NoSuchElementException:\n",
    "        print(\"Cant'\\t Find Element!!\")"
   ]
  },
  {
   "cell_type": "code",
   "execution_count": 21,
   "metadata": {},
   "outputs": [],
   "source": [
    "# open webpage \n",
    "options = webdriver.ChromeOptions()\n",
    "driver = webdriver.Chrome(executable_path='chromedriver.exe', options=options)\n",
    "driver.set_window_size(1120, 1000)\n",
    "url = 'https://scholar.google.com/'\n",
    "driver.get(url)"
   ]
  },
  {
   "cell_type": "code",
   "execution_count": 22,
   "metadata": {},
   "outputs": [
    {
     "data": {
      "text/plain": [
       "True"
      ]
     },
     "execution_count": 22,
     "metadata": {},
     "output_type": "execute_result"
    }
   ],
   "source": [
    "search_box = driver.find_element_by_xpath('.//*[@id=\"gs_hdr_tsi\"]')\n",
    "search_box.is_displayed()"
   ]
  },
  {
   "cell_type": "code",
   "execution_count": 23,
   "metadata": {},
   "outputs": [
    {
     "data": {
      "text/plain": [
       "True"
      ]
     },
     "execution_count": 23,
     "metadata": {},
     "output_type": "execute_result"
    }
   ],
   "source": [
    "\n",
    "search_box.is_enabled()"
   ]
  },
  {
   "cell_type": "code",
   "execution_count": 24,
   "metadata": {},
   "outputs": [
    {
     "data": {
      "text/plain": [
       "False"
      ]
     },
     "execution_count": 24,
     "metadata": {},
     "output_type": "execute_result"
    }
   ],
   "source": [
    "\n",
    "case = driver.find_element_by_xpath('.//*[@id=\"gs_hp_sdt2\"]')\n",
    "case.is_selected()"
   ]
  },
  {
   "cell_type": "code",
   "execution_count": 25,
   "metadata": {},
   "outputs": [],
   "source": [
    "case.click()"
   ]
  },
  {
   "cell_type": "code",
   "execution_count": 26,
   "metadata": {},
   "outputs": [
    {
     "data": {
      "text/plain": [
       "True"
      ]
     },
     "execution_count": 26,
     "metadata": {},
     "output_type": "execute_result"
    }
   ],
   "source": [
    "case.is_selected()"
   ]
  },
  {
   "cell_type": "code",
   "execution_count": 33,
   "metadata": {},
   "outputs": [],
   "source": [
    "search_box.clear()"
   ]
  },
  {
   "cell_type": "code",
   "execution_count": 34,
   "metadata": {},
   "outputs": [],
   "source": [
    "search_box.send_keys('Muder')"
   ]
  },
  {
   "cell_type": "code",
   "execution_count": 35,
   "metadata": {},
   "outputs": [],
   "source": [
    "search = driver.find_element_by_xpath('.//*[@id=\"gs_hdr_tsb\"]')\n",
    "search.click()"
   ]
  },
  {
   "cell_type": "code",
   "execution_count": 46,
   "metadata": {},
   "outputs": [
    {
     "data": {
      "text/plain": [
       "['https://encrypted-tbn3.gstatic.com/images?q=tbn:ANd9GcQmIgLdae30Q6zrNRt_e2q6NGMTqq_oLq1NbEpLNAhn-Kpb4ZcJ',\n",
       " 'https://en.wikipedia.org/wiki/Neymar',\n",
       " 'https://en.wikipedia.org/wiki/Neymar#Club_career',\n",
       " 'https://en.wikipedia.org/wiki/Neymar#International_career',\n",
       " 'https://en.wikipedia.org/wiki/Neymar#Player_profile',\n",
       " 'https://en.wikipedia.org/wiki/Neymar#Outside_football',\n",
       " 'http://www.theindependentbd.com/post/255676',\n",
       " 'https://www.transfermarkt.com/neymar/profil/spieler/68290',\n",
       " 'https://www.neymarjr.com/',\n",
       " 'https://www.facebook.com/neymarjr/']"
      ]
     },
     "execution_count": 46,
     "metadata": {},
     "output_type": "execute_result"
    }
   ],
   "source": [
    "from googlesearch import search\n",
    "lst = list(search(\"naymer\", lang='en', num=10,start=0,stop=10))\n",
    "lst"
   ]
  },
  {
   "cell_type": "code",
   "execution_count": null,
   "metadata": {},
   "outputs": [],
   "source": [
    "a"
   ]
  },
  {
   "cell_type": "code",
   "execution_count": null,
   "metadata": {},
   "outputs": [],
   "source": []
  }
 ],
 "metadata": {
  "kernelspec": {
   "display_name": "Python 3",
   "language": "python",
   "name": "python3"
  },
  "language_info": {
   "codemirror_mode": {
    "name": "ipython",
    "version": 3
   },
   "file_extension": ".py",
   "mimetype": "text/x-python",
   "name": "python",
   "nbconvert_exporter": "python",
   "pygments_lexer": "ipython3",
   "version": "3.7.6"
  }
 },
 "nbformat": 4,
 "nbformat_minor": 4
}
