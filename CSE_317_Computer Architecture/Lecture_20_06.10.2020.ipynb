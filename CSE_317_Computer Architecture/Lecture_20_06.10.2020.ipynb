{
 "cells": [
  {
   "cell_type": "markdown",
   "metadata": {},
   "source": [
    "<div class=\"alert alert-success\">\n",
    "    <b>Author</b>:\n",
    "\n",
    "      Rashik Rahman\n",
    "      17201012@uap-bd.edu\n",
    "\n",
    "</div>\n",
    "\n",
    "\n",
    "# [Click here to see lecture discussion](https://drive.google.com/file/d/1D5Q1aIz9WZJmqg8vO40tcnZnP80IsBKG/view)\n",
    "\n"
   ]
  },
  {
   "cell_type": "markdown",
   "metadata": {},
   "source": [
    "![image.png](figures/fig183.PNG)\n",
    "\n",
    "![image.png](figures/fig184.PNG)\n",
    "\n",
    "**There are 3 types of hazard/problem of pipeline.**\n",
    "1. Structural Hazard \n",
    "2. Control Hazard\n",
    "3. Data Hazard\n",
    "\n",
    "![image.png](figures/fig185.PNG)\n",
    "\n",
    "**Structural hazard** is a limitation of pipeline. This hazard when in a single clock cycle cpu wants to access instruction and data that are in same memory like in SAP. In SAP instruction and data are stored in same memory, so in a single clock cycle cpu want to access both then it causes trouble. This is a resource related problem as this occurs due to lack of resource. But MIPS has separate memory for instruction and data thus MIPS doesn't suffer from this limitation of pipeline.\n",
    "\n",
    "![image.png](figures/fig186.PNG)\n",
    "\n",
    "**Control Hazard** \n",
    "\n",
    "Let for this bne or jump instruction. bne is called in 2nd instruction. Now when 2nd instruction is in execution 3rd instruction is almost done but 2nd instruction wants to jump to 4th instruction this causes a problem. Cause we needed to wait for 2nd instruction to end cause when 2nd instruction is in execution it tells us to execute 4th instruction first then the data can be written in W section of 2nd instruction, after that 3rd instruction can be done. But as it is pipeline while 2nd instruction is running 3rd instruction also starts to run. You can consider a if else statement. The program waits what should it do for if and else but in pipeline program doesn't wait whatever if-else says it continues with other works this is the problem here. In a single word the instruction that breaks the sequence of program counter are called control hazard.\n",
    "\n",
    "![image.png](figures/fig190.PNG)\n",
    "\n",
    "![image.png](figures/fig187.PNG)\n",
    "\n",
    "![image.png](figures/fig188.PNG)\n",
    "\n",
    "![image.png](figures/fig189.PNG)\n",
    "\n",
    "![image.png](figures/fig190.PNG)"
   ]
  },
  {
   "cell_type": "markdown",
   "metadata": {},
   "source": [
    "**Data Hazard** \n",
    "\n",
    "Initially R1 = 5, R2 = 10, R3 = 6, R4 = 2. R1=R2+R3; R5=R1+R4 for these 2 instruction calculation would be like R1=16 & R5=16+2=18 cause R1 will be updated after 1st instruction and then 2nd instruction will take place. But in pipeline before the execution of the 1st instruction, 2nd instruction fetches data so the output is R5= 5+2=7, 7 is written back to register instead of 18. This is data hazard. So in a word when a instruction is dependent on previous instruction's output then this hazard occurs cause the current instruction doesn't wait for previous instruction's result/data as it is in pipeline config.\n",
    "\n",
    "![image.png](figures/fig191.PNG)\n",
    "\n",
    "![image.png](figures/fig192.PNG)\n",
    "\n",
    "![image.png](figures/fig193.PNG)\n",
    "\n",
    "\n",
    "**Summary**\n",
    "\n",
    "- Structural hazard occurs due to resource conflict.\n",
    "- Control hazard occurs due to break of sequence of program counter.\n",
    "- Data hazard occurs due to current instruction's dependency on previous instruction's result.\n",
    "\n",
    "\n",
    "\n",
    "\n",
    "![image.png](figures/fig194.PNG)\n",
    "\n",
    "![image.png](figures/fig195.PNG)\n",
    "\n",
    "![image.png](figures/fig196.PNG)\n",
    "\n",
    "![image.png](figures/fig197.PNG)\n",
    "\n",
    "These yellow bars are intermediate registers. This registers are placed in between stages of pipeline that holds temporary values. Its acts like a queue, due to these register data/instruction is always ready for the next instruction or stage to fetch.\n",
    "\n",
    "![image.png](figures/fig198.PNG)\n"
   ]
  },
  {
   "cell_type": "markdown",
   "metadata": {},
   "source": [
    "# That's all for this lecture!"
   ]
  }
 ],
 "metadata": {
  "kernelspec": {
   "display_name": "Python 3",
   "language": "python",
   "name": "python3"
  },
  "language_info": {
   "codemirror_mode": {
    "name": "ipython",
    "version": 3
   },
   "file_extension": ".py",
   "mimetype": "text/x-python",
   "name": "python",
   "nbconvert_exporter": "python",
   "pygments_lexer": "ipython3",
   "version": "3.7.6"
  }
 },
 "nbformat": 4,
 "nbformat_minor": 4
}
