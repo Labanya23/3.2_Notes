{
 "cells": [
  {
   "cell_type": "markdown",
   "metadata": {},
   "source": [
    "<div class=\"alert alert-success\">\n",
    "    <b>Author</b>:\n",
    "\n",
    "      Rashik Rahman\n",
    "      17201012@uap-bd.edu\n",
    "\n",
    "</div>\n",
    "\n",
    "\n",
    "# [Click here to see lecture discussion](https://drive.google.com/file/d/1H_Lf1wceSyQA_mwVsnqYlJDTt1ZPUaKx/view)\n",
    "\n"
   ]
  },
  {
   "cell_type": "markdown",
   "metadata": {},
   "source": [
    "![image.png](figures/fig168.PNG)\n",
    "\n",
    "![image.png](figures/fig169.PNG)\n",
    "\n",
    "![image.png](figures/fig170.PNG)\n",
    "\n",
    "![image.png](figures/fig171.PNG)\n",
    "\n",
    "Here we can see 4 stages. Each stage takes 30+40+20 = 90mins of time so total time to complete all the steps is 90*4 = 360 min = 6 hours.\n",
    "\n",
    "![image.png](figures/fig172.PNG)\n",
    "\n",
    "But in pipeline we can see that when stage A is in dryer state stage B can use the washer. Washer takes 30 min and dryer takes 40. So ere we consider the maximum time that is 40 min as they overlap, withing this time dryer of stage A and washer of stage B will be done with their work. Same goes for all other instructions and stages.\n",
    "\n",
    "![image.png](figures/fig173.PNG)\n",
    "\n",
    "![image.png](figures/fig174.PNG)\n",
    "\n",
    "![image.png](figures/fig175.PNG)\n"
   ]
  },
  {
   "cell_type": "markdown",
   "metadata": {},
   "source": [
    "\n",
    "\n",
    "This is the page table. Here we consider each instruction is of one clock cycle. In Y axis we put stage and in X axis we put clock cycle. To complete I1 that is the 1st instruction it takes 5 clock cycles. So we can say that in pipeline 1st instruction needs K clock cycles where K is the number of stages.\n",
    "\n",
    "![image.png](figures/fig176.PNG)\n",
    "\n",
    "![image.png](figures/fig177.PNG)\n",
    "\n",
    "![image.png](figures/fig178.PNG)\n",
    "\n",
    "![image.png](figures/fig179.PNG)\n",
    "\n",
    "![image.png](figures/fig180.PNG)\n",
    "\n",
    "![image.png](figures/fig181.PNG)\n",
    "\n",
    "![image.png](figures/fig182.PNG)\n"
   ]
  },
  {
   "cell_type": "markdown",
   "metadata": {},
   "source": [
    "# That's all for this lecture!"
   ]
  }
 ],
 "metadata": {
  "kernelspec": {
   "display_name": "Python 3",
   "language": "python",
   "name": "python3"
  },
  "language_info": {
   "codemirror_mode": {
    "name": "ipython",
    "version": 3
   },
   "file_extension": ".py",
   "mimetype": "text/x-python",
   "name": "python",
   "nbconvert_exporter": "python",
   "pygments_lexer": "ipython3",
   "version": "3.7.6"
  }
 },
 "nbformat": 4,
 "nbformat_minor": 4
}
