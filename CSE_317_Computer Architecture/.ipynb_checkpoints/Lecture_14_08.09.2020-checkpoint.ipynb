{
 "cells": [
  {
   "cell_type": "markdown",
   "metadata": {},
   "source": [
    "<div class=\"alert alert-success\">\n",
    "    <b>Author</b>:\n",
    "\n",
    "      Rashik Rahman\n",
    "      17201012@uap-bd.edu\n",
    "\n",
    "</div>\n",
    "\n",
    "\n",
    "# [Click here to see lecture discussion](https://drive.google.com/file/d/1hZSljHzRiBBXiUaOX9OxCLGtTHB_47U_/view)\n",
    "\n"
   ]
  },
  {
   "cell_type": "markdown",
   "metadata": {},
   "source": [
    "# Datapath\n",
    "\n",
    "\n",
    "![image.png](figures/fig101.PNG)\n",
    "\n",
    "![image.png](figures/fig102.PNG)\n",
    "\n",
    "Program counter will send instruction address to **instruction memory** and instruction memory will supply that instruction. So every instruction has same fetch length/cycle but execution cycle depends on the instruction type (R,I or J).\n",
    "\n",
    "![image.png](figures/fig103.PNG)\n",
    "\n",
    "**PC** will place the instruction address that needs to be fetched. After that PC is generally incremented by one to indicated to next instruction address but as MIPS has 4byte instruction so PC will be incremented by 4 to get the next instruction address. Adder is used to do increment.\n",
    "\n",
    "![image.png](figures/fig104.PNG)\n",
    "\n",
    "**Adder** takes two inputs one is current instruction address another is 4 then adds them and return the instruction address of next instruction. We add 4 cause mips has 4 bytes (32bit) but if it were a 1byte(8bit) memory structure then we would have added 1. \n",
    "\n",
    "![image.png](figures/fig105.PNG)\n",
    "\n",
    "**Execution of program** \n",
    "\n",
    "![image.png](figures/fig106.PNG)\n",
    "\n",
    "![image.png](figures/fig107.PNG)"
   ]
  },
  {
   "cell_type": "markdown",
   "metadata": {},
   "source": [
    "rs & rt are two source operand and rd is the destination. So we have to read from two register do calculation and write it to a register.\n",
    "\n",
    "![image.png](figures/fig108.PNG)\n",
    "\n",
    "Here RegWrite is a controller if its 1 then it'll do write else if its 0 then it'll do read operation. Read / Write register are 5 bit wide this indicates to register number like S1 is 16 S2 is 17 etc 5bit represents this register number. And write data is 32 bit wide cause in MIPS a register can hold 32bit of data. So read / write data is 32 bit wide. Data is the value a register has.\n",
    "\n",
    "![image.png](figures/fig109.PNG)\n",
    "\n",
    "![image.png](figures/fig110.PNG)\n",
    "\n",
    "![image.png](figures/fig111.PNG)\n",
    "\n",
    "Steps for R type instruction. Draw this fig and explain all the steps.\n",
    "\n",
    "![image.png](figures/fig112.PNG)\n",
    "\n",
    "![image.png](figures/fig113.PNG)\n",
    "\n",
    "![image.png](figures/fig114.PNG)\n",
    "\n",
    "![image.png](figures/fig115.PNG)\n",
    "\n",
    "![image.png](figures/fig116.PNG)\n",
    "\n",
    "![image.png](figures/fig117.PNG)\n",
    "\n",
    "![image.png](figures/fig118.PNG)"
   ]
  },
  {
   "cell_type": "markdown",
   "metadata": {},
   "source": [
    "# That's all for this lecture!"
   ]
  }
 ],
 "metadata": {
  "kernelspec": {
   "display_name": "Python 3",
   "language": "python",
   "name": "python3"
  },
  "language_info": {
   "codemirror_mode": {
    "name": "ipython",
    "version": 3
   },
   "file_extension": ".py",
   "mimetype": "text/x-python",
   "name": "python",
   "nbconvert_exporter": "python",
   "pygments_lexer": "ipython3",
   "version": "3.7.6"
  }
 },
 "nbformat": 4,
 "nbformat_minor": 4
}
