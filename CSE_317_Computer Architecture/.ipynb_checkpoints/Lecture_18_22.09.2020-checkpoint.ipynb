{
 "cells": [
  {
   "cell_type": "markdown",
   "metadata": {},
   "source": [
    "<div class=\"alert alert-success\">\n",
    "    <b>Author</b>:\n",
    "\n",
    "      Rashik Rahman\n",
    "      17201012@uap-bd.edu\n",
    "\n",
    "</div>\n",
    "\n",
    "\n",
    "# [Click here to see lecture discussion](https://drive.google.com/file/d/1ANn_cBZ3nrzd_Yc50k6Y75aBla8ItFk2/view)\n",
    "\n"
   ]
  },
  {
   "cell_type": "markdown",
   "metadata": {},
   "source": [
    "There are three types of mapping. In direct mapping where the word goes is fixed. Like address 4 and 12 will goto cache block 4 when we mod memory block by cache line i.e. 4%8 or 12%8. One will rewrite the other. so place is fixed. In set associative block can place anywhere within the set. Like in a 2 way set we can choose where to put the incoming block there would be 2 options and in 4  way there would be 4 options. Full associative is 4way where all the cache line are used. \n",
    "\n",
    "![image.png](figures/fig158.PNG)\n",
    "\n",
    "This example is for moving a block. Cache has 8 blocks here. In fully associative 12 can go anywhere in direct method 12 can go only into block 4. And in set associative block 12 can go anywhere in set 0. So why set 0? To find in which set a block goes to block number is modulo by number of sets. You get number of sets by cache line/way of set. Here cache line is 8 and its a 2 wat set associative so we get 8/2=4. There would be 4 sets thus 12%4 =0 So block number 12 will goto anywhere in set 0.\n",
    "\n",
    "If it was 4 way so set would be 8/4 = 2. So the block will goto 12%2 = 0. So the block will goto any four location in set 0.\n",
    "\n",
    "![image.png](figures/fig159.PNG)\n",
    "\n",
    "In direct method there was no replacing method as the place was fixed. but now we have option where to place the new block or where to replace old block with new one. So the method is we replace the least used/recalled block with the new block. Here we can see that index 0 is 1st that means it was was used first then 2nd then 3rd then 4th. So index 0 is least use so we put the new block here and overwrite the current data.\n",
    "\n",
    "![image.png](figures/fig160.PNG)\n",
    "\n",
    "![image.png](figures/fig161.PNG)\n",
    "\n",
    "Here's given that four 1 word blocks that means cache line is 4."
   ]
  },
  {
   "cell_type": "markdown",
   "metadata": {},
   "source": [
    "**For direct method**\n",
    "\n",
    "1st in the sequence is 0 so 0%4 = 0. It will goto 0 block. Then we see its a miss as there's no data. So we place that block . 2nd one is 8. 8%4=0 so we check in 0 cant find it so its a miss and we replace mem[0] with mem[8]. Again 3rd is 0 can find it in 0 column so we replace mem[8] with mem[0]. After that 4th is 0. now in 0 column there is mem[0] so its a hit. so it will stay that way. 5th is 6, 6%4=2, its a miss so the new block will be in column 2. 6th is 8 its a miss so mem[0] will be replaced with mem[8]. Total number of miss is 5 and hit is 1.\n",
    "\n",
    "![image.png](figures/fig162.PNG)\n",
    "\n",
    "**For set associative method**\n",
    "\n",
    "![image.png](figures/fig163.PNG)\n",
    "\n",
    "Here in the 3rd row its a hit so the value doesn't change. In the 4th row its a miss, so what should we replace? We replace the least used value. In the 3rd row mem[0] was recalled (hit) so mem[8] is least used thats why we replace mem[8] with mem[6]. In the 5th row we see that 8 is miss. now in 4th row mem[6] was placed so least used is mem[0]. Thus we replace mem[0] with mem[8]. Here we see4 miss.\n",
    "\n",
    "![image.png](figures/fig164.PNG)\n",
    "\n",
    "\n",
    "**For full associative**\n",
    "\n",
    "![image.png](figures/fig165.PNG)\n",
    "\n",
    "Here we replace mem[0] with mem[5] cause mem[0] was least used.\n",
    "\n",
    "![image.png](figures/fig166.PNG)"
   ]
  },
  {
   "cell_type": "markdown",
   "metadata": {},
   "source": [
    "# That's all for this lecture!"
   ]
  }
 ],
 "metadata": {
  "kernelspec": {
   "display_name": "Python 3",
   "language": "python",
   "name": "python3"
  },
  "language_info": {
   "codemirror_mode": {
    "name": "ipython",
    "version": 3
   },
   "file_extension": ".py",
   "mimetype": "text/x-python",
   "name": "python",
   "nbconvert_exporter": "python",
   "pygments_lexer": "ipython3",
   "version": "3.7.6"
  }
 },
 "nbformat": 4,
 "nbformat_minor": 4
}
