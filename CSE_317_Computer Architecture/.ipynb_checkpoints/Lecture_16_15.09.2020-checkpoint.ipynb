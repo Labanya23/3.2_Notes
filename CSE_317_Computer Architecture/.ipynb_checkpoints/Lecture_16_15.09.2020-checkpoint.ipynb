{
 "cells": [
  {
   "cell_type": "markdown",
   "metadata": {},
   "source": [
    "<div class=\"alert alert-success\">\n",
    "    <b>Author</b>:\n",
    "\n",
    "      Rashik Rahman\n",
    "      17201012@uap-bd.edu\n",
    "\n",
    "</div>\n",
    "\n",
    "\n",
    "# [Click here to see lecture discussion](https://drive.google.com/file/d/1RA9bbBtCVa07OZOR_mnDwnKzRrqaGODF/view)\n",
    "\n"
   ]
  },
  {
   "cell_type": "markdown",
   "metadata": {},
   "source": [
    "Memory hierarchy is like CPU->Primary memory->Secondary memory\n",
    "\n",
    "CPU has register so this has top priority for fetching and storing data. Then to fetch data we can goto primary memory meaning RAM,ROM. If the data isnt there then we will fetch it from secondary memory meaning external drives. So this is the order.Ram is temporary and rom is permanent. We cant write to rom its the cache of cpu. data can only be read from here. Components of a computer are processor, datapath, memory, input-outputs.\n",
    "\n",
    "![image.png](figures/fig131.PNG)\n",
    "\n",
    "Ram is two type Dram and Sram. There also a type of ram namer Sdram, this means synchronized Dram.  Cpu's registers are directly accessible with near 0 lag. After cpu with the increase size of memory speed gets slower and cost of the memory reduces.\n",
    "\n",
    "![image.png](figures/fig132.PNG)\n",
    "\n",
    "Here we can see the levels of memory. Small memories are very fast and expensive due to hardware compression. Big memory is affordable but slow. With increase of level memory is getting bigger, slower and price is reduced. To fetch a data wel'll check level by level for the data. First the register than cache than main memory so on. Here we can also see a data transfer from processor to cache to ram. Operations of cache memory are hit, miss, hit rate, miss rate. Memory performance depends on hit rate.\n",
    "\n",
    "![image.png](figures/fig133.PNG)\n",
    "![image.png](figures/fig134.PNG)"
   ]
  },
  {
   "cell_type": "markdown",
   "metadata": {},
   "source": [
    "Temporal locality is for reusable/redoing work, like you are using a variable for now and will use it later this goes to temporal locality. It considers time. Special locality considers space. In this nearby items in space tends to be referenced soon.\n",
    "\n",
    "![image.png](figures/fig135.PNG)\n",
    "\n",
    "Here we are accessing consecutive memory. In this loop code tends to access the next data so nearby space tends to be referenced.\n",
    "\n",
    "![image.png](figures/fig136.PNG)\n",
    "![image.png](figures/fig137.PNG)\n",
    "\n",
    "Here after a certain period of time we goto the start phase or in the same memory slot where we started from. This is temporal locality. We are redoing the same work.\n",
    "\n",
    "![image.png](figures/fig138.PNG)"
   ]
  },
  {
   "cell_type": "markdown",
   "metadata": {},
   "source": [
    "Here we consider cpu cache(upper) and ram(lower) as two level. register is upper and cache is lower. In the ram/cache matrix a single unit is called block. Upper level is closer to cpu and lower level is farhter from cpu. each block is copied between two adjacent levels. If the requested data is in upper level then its called hit. if it isn't in upper level then its called miss. For the example if the requested data is in cache then its hit and if its in ram then its a miss. Ratio of memory access that are hit is hit rate. Let you have 100 data read request and 50 request can be found in the cache (for our example) then the hit rate is 50/100=0.5 . And miss rate is also 0.5 cause 50 request are miss (not found in cache). So we can say hit = 1-miss (vice-versa) and hit_rate = hit/total_request. miss_rate = miss/total_request or miss rate = 1 - hit_rate. hit time = time to determine its a hit + time to transfer data from cache to cpu register. Mis penalty time = data found in lower level + time to bring it to register. In case of lower level the data can be in ram/hdd first we check it on ram if not found then hdd. if its in hdd then we copy it to ram then to cache then to cpu register. this is miss penalty.\n",
    "\n",
    "![image.png](figures/fig139.PNG)\n",
    "![image.png](figures/fig140.PNG)\n",
    "\n",
    "\n",
    "![image.png](figures/fig141.PNG)\n",
    "\n",
    "### Memory Mapping\n",
    "\n",
    "We'll learn this in next lecture.\n",
    "\n",
    "![image.png](figures/fig142.PNG)\n",
    "\n",
    "\n"
   ]
  },
  {
   "cell_type": "markdown",
   "metadata": {},
   "source": [
    "# That's all for this lecture!"
   ]
  }
 ],
 "metadata": {
  "kernelspec": {
   "display_name": "Python 3",
   "language": "python",
   "name": "python3"
  },
  "language_info": {
   "codemirror_mode": {
    "name": "ipython",
    "version": 3
   },
   "file_extension": ".py",
   "mimetype": "text/x-python",
   "name": "python",
   "nbconvert_exporter": "python",
   "pygments_lexer": "ipython3",
   "version": "3.7.6"
  }
 },
 "nbformat": 4,
 "nbformat_minor": 4
}
