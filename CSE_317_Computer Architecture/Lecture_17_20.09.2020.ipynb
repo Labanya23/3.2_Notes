{
 "cells": [
  {
   "cell_type": "markdown",
   "metadata": {},
   "source": [
    "<div class=\"alert alert-success\">\n",
    "    <b>Author</b>:\n",
    "\n",
    "      Rashik Rahman\n",
    "      17201012@uap-bd.edu\n",
    "\n",
    "</div>\n",
    "\n",
    "\n",
    "# [Click here to see lecture discussion](https://drive.google.com/file/d/1OJrapHLaUHynkfNqkXrPP-EYB-ixqEEQ/view)\n",
    "\n"
   ]
  },
  {
   "cell_type": "markdown",
   "metadata": {},
   "source": [
    "Today we'll learn these\n",
    "\n",
    "## 3  types of mapping\n",
    "\n",
    "![image.png](figures/fig167.PNG)\n",
    "\n",
    "![image.png](figures/fig143.PNG)\n",
    "\n",
    "**Working on cache memory**\n",
    "\n",
    "Cpu initially checks cache for data. If the data is in cache, it will be retrieved from cache and cpu will process it. So this is a hit operation.\n",
    "\n",
    "![image.png](figures/fig146.PNG)\n",
    "\n",
    "As cpu only takes data from cache so if the data isn't on cache then its retrieved from system memory stored in cache. This is for miss operation.\n",
    "\n",
    "![image.png](figures/fig144.PNG)\n",
    "\n",
    "![image.png](figures/fig145.PNG)\n",
    "\n",
    "These are the four steps of working with cache memory. This steps will be also needed for data mapping.\n",
    "\n",
    "Block placement is how to map a block from lower level to upper level. i.e. main memory to cache. Then incase of hit how to identify block,  In case of miss how to replace the retrieved data block from main memory with existing block in cache, and what happens in write operation. We'll see all this in memory mapping. Memory mapping is essential for cache designing.\n",
    "\n",
    "![image.png](figures/fig147.PNG)\n",
    "\n",
    "![image.png](figures/fig148.PNG)"
   ]
  },
  {
   "cell_type": "markdown",
   "metadata": {},
   "source": [
    "**Mapping Function**\n",
    "\n",
    "## Direct method\n",
    "\n",
    "strategy of transferring data between two adjacent memory levels.\n",
    "\n",
    "![image.png](figures/fig149.PNG)\n",
    "\n",
    "**Block mapping/ memory organization/ Block placement**\n",
    "\n",
    "cache is 16 words memory and main memory is 64 words in MIPS. As each register/block can hold 32bit = 4words (block size) of data so cache will have 16/4 = 4 (0 to 3) line blocks and memory will have 64/4 = 16 (0 to 15) memory block. memory block and line block size is same. \n",
    "\n",
    "![image.png](figures/fig150.PNG)\n",
    "\n",
    "\n",
    "**Identify a block**\n",
    "\n",
    "As memory block is 64 words then to hold it physical address would be 6 bits, cause 2^6 = 64. For example if CPU requests for 000101 this means cpu wants the word number 5. Each word is of 8 bit. word number 5 is at index 1 of memory block. 000101 is divided in two sections, block offset and block number. Here block number is 1 (0001) and offset is 01. In the memory block table there are four column. 00,01,10,11. So as the block offset is 01 so we select 01 column and as the block number is 1 so we select it thus we get the word whose number is 5.\n",
    "\n",
    "![image.png](figures/fig151.PNG)\n",
    "\n",
    "Another example. Here cpu requests for 001010 (10). If we divide it in two section we get 0010 and 10 so 0010 means block number 2 and 10 means 3rd column. So in block number 2 and its 3rd column we get the word with number 10. This is direct mapping.\n",
    "\n",
    "![image.png](figures/fig152.PNG)\n",
    "\n",
    "**Accessing cache/ check for hit or miss**\n",
    "\n",
    "Block number is further divided in two section Tag and Index. If tag and index bit are valid only then its a hit means that data is in cache. Then if hit then the data is delivered.\n",
    "\n",
    "![image.png](figures/fig153.PNG)\n",
    "\n",
    "In direct mapping we have searched for data in main memory using block number and offset. But what about if we want check for data in cache. To do that we further divide block number into tag and index(line number of cache). So here in `cache line fig` 0,1,2,3 are index and 00,11,10,11 are tag. Tag can be arbitrary. Meaning four tags can be all 11,11,11,11 or 00,00,11,10 any thing. The main goal is to match tag with index. If it matches then its a hit other wise its a miss. So for considering the `cache line fig` cpu request for word 52 that is 110100 if we divide it in 3 section we get 11(tag)01(index)00(offset). So If we match tag we can see we get two index 1 and 3. The index is 1 (01) So we got a match. In the tag 11 there is 01. So it's a hit, data is in cache no need to search for it in main memory. Another example is 10 01 11. Here for tag 10 we get index 2 but the actual index is 1 (01) so the index doesn't match. Thus its a miss we have to retrieve the data from main memory.\n",
    "\n",
    "![image.png](figures/fig154.PNG)"
   ]
  },
  {
   "cell_type": "markdown",
   "metadata": {},
   "source": [
    "## Block replacement\n",
    "\n",
    "Another type of question from direct map can be cpu asks for address 12 of main memory. For this cache is of 8 blocks as main memory/cache line = 64/8. So we mod 12 by 8 12%8=4. So 12 will goto index 4 of cache.\n",
    "\n",
    "![image.png](figures/fig155.PNG)\n",
    "\n",
    "There no replacing algorithm in direct mapping cause we don't have any option. We have to overwrite the data. Like 4%8 = 4 so 4 will goto index 4 of cache. 12%8=4 So now 12 will goto index 4 of cache and previous data will be overwritten.\n",
    "\n",
    "![image.png](figures/fig156.PNG)"
   ]
  },
  {
   "cell_type": "markdown",
   "metadata": {},
   "source": [
    "## Set associative\n",
    "\n",
    "In set associative we divide 8 by the way. so for 2way we divide 8/2 = 4. So the 8blocks will be merged to get 4blocks/set. In each set there is 01 .\n",
    "\n",
    "![image.png](figures/fig157.PNG)"
   ]
  },
  {
   "cell_type": "markdown",
   "metadata": {},
   "source": [
    "# That's all for this lecture!"
   ]
  }
 ],
 "metadata": {
  "kernelspec": {
   "display_name": "Python 3",
   "language": "python",
   "name": "python3"
  },
  "language_info": {
   "codemirror_mode": {
    "name": "ipython",
    "version": 3
   },
   "file_extension": ".py",
   "mimetype": "text/x-python",
   "name": "python",
   "nbconvert_exporter": "python",
   "pygments_lexer": "ipython3",
   "version": "3.7.6"
  }
 },
 "nbformat": 4,
 "nbformat_minor": 4
}
