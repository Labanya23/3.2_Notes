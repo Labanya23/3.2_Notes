{
 "cells": [
  {
   "cell_type": "markdown",
   "metadata": {},
   "source": [
    "<div class=\"alert alert-success\">\n",
    "    <b>Author</b>:\n",
    "\n",
    "      Rashik Rahman\n",
    "      17201012@uap-bd.edu\n",
    "\n",
    "</div>\n",
    "\n",
    "\n",
    "# [Click here to see lecture video](https://drive.google.com/file/d/18U-sEmA8kCfILyn8kBTk7phyDp8N9Hem/view)\n",
    "\n",
    "\n",
    "# [Click here to see lecture discussion](https://drive.google.com/file/d/1lFnxi4DJeDfCX7IwJcTAPa3rWxM1h81m/view)"
   ]
  },
  {
   "cell_type": "markdown",
   "metadata": {},
   "source": [
    "##### In I-type instruction we have seen two types of instruction. load from and save to (read & write) from memory. Previously we saw 5 elements but for this instruction we'll need a 6th element, that is data memory. Data memory and instruction memory are different things MIPS architecture. We read and write data from data memory. And instruction memory holds instruction against instruction address. Memread is for reading from memory and MemWrite is for writing to memory. immed is the offset value. To get the physical offset is added to the base address.\n",
    "\n",
    "![image.png](figures/fig119.PNG)\n",
    "\n",
    "To do I-type instruction we need a 7th element called sign extending. It will double the input offset. Cause offset is 16bit and mips is for 32 bit register so using this we double the offset. \n",
    "\n",
    "![image.png](figures/fig120.PNG)\n"
   ]
  },
  {
   "cell_type": "markdown",
   "metadata": {},
   "source": [
    "Here first input is address. Depending on MemWrite or MemRead which is set, it'll be decided that whether to write to this address or read from this address. If we do read from memory then we need to store the data that was read from memory in a register. So the output is SW. And if we do write operation then the data to write to the address will come to the write data input point. So its SW.\n",
    "\n",
    "![image.png](figures/fig122.PNG)\n",
    "\n",
    "![image.png](figures/fig123.PNG)\n",
    "\n",
    "So here we see a read operation. Instruction is fetched from instruction memory and we know how that happened so moving on we see its a read instruction. In read register 1 we pass the number of register, so s1 value is passed through read data 1 to ALU and immed turns the 16bit offset to 32 bit offset and also passes this to ALU. Both 32bit data are added to get the physical address. Then the physical address is passed to data memory to fetch data from that address. Data comes to write data point and it is saved in register t0 for this example. So write register gets the number of t0 register. In data memory MemRead is set to indicate read operation.\n",
    "\n",
    "![image.png](figures/fig124.PNG)\n",
    "\n",
    "\n"
   ]
  },
  {
   "cell_type": "markdown",
   "metadata": {},
   "source": [
    "\n",
    "Here we store data from t0 to data memory. Instruction is fetched from instruction memory, s1 number is placed in read register 1 and value of s1(base address) is placed on read data 1 and t0 number is placed on read register 2 and the value of t0 that is the data is placed at read data 2 output. Now base address is passed from read data 1 to ALU and immedis also passed to ALU to get the physical address.  Then address and read data 2 ( the value to be stored) is passed to the data memory. MemWrite is set so it will write the data to that physical address.\n",
    "\n",
    "![image.png](figures/fig125.PNG)\n",
    "\n",
    "Mux is multiplexer so so when it is 0 then R type will happen and when is set to 1 then I type will happen.\n",
    "\n",
    "![image.png](figures/fig126.PNG)\n",
    "\n",
    "3 type instruction's active path indicated with blue color.\n",
    "\n",
    "![image.png](figures/fig127.PNG)\n",
    "\n",
    "![image.png](figures/fig128.PNG)\n",
    "\n",
    "![image.png](figures/fig129.PNG)\n",
    "\n",
    "`we'll skip branch instruction`"
   ]
  },
  {
   "cell_type": "markdown",
   "metadata": {},
   "source": [
    "From datapath lecture we'll see the following.\n",
    "\n",
    "1. Elements of data path\n",
    "    - Program Counter\n",
    "    - Adder\n",
    "    - Instruction Memory\n",
    "    - Register File : has 1 control signal register write\n",
    "    - Alu : has control signal to control types of operation\n",
    "    - Data Memory : has 2 control signal both read and write\n",
    "    - Sign Extend\n",
    "    - we'll use 2:1 multiplexer to do r/w & arithmetic operation. This element is out of 7 core element. It is an extra element.\n",
    "    \n",
    "2. Instruction \n",
    "    - Add, Sub\n",
    "    - load, save\n",
    "    - or all together. \n",
    "    \n",
    "  "
   ]
  },
  {
   "cell_type": "markdown",
   "metadata": {},
   "source": [
    "If question comes like to do discuss Rtype then just draw data path given below and sat add in alu and no use of data memory. Else describe Itype and write use in data memory. And if an instruction is given like a[i] = b + c[i] then you'll have to describe with datapath for rtype and memory access diagram. Study till 29 no. slide of datapath lecture.\n",
    "\n",
    "## Question : a[i] = b + c[i] draw datapath diagram and explain each instruction for this.\n",
    "\n",
    "Now let's discuss the full a[i] = b + c[i] example here. Here there are 3 instructions\n",
    "\n",
    "- lw rt,immed(rs) {Here immed is the offset and rs contains the base address and rt is destination} : i.e. lw t0, 32(s1) this refers to c[i];\n",
    "- add rd,rs,rt { Here rs,rt are are source operand and rd is destination} : i.e. add t0, s1,t0 this refers to b + c[i] and storing it to t0;\n",
    "- sw rt, immed(rs) { Here immed is offset and rs contains base address and rt is source} : i.e. sw t0,35(s2);\n",
    "\n",
    "#### So 1st instruction is I-Type. Lets discuss memory accessing.\n",
    "\n",
    "As the 1st instruction is I-type so the value of s1 is passed through read data 1 and the number of s1 is passed through read register 1. Now the 16 bit offset is passed through the sign extend module and the module outputs a 32bit number by doubling the input. The ALUSrc mux is SET so it indicates Itype. Thus the 32bit offset and read data 1 is is passed to the ALU. The ALU adds them and thus outputs a physical address. Now the physical address is passed to data memory.MemtoReg CLEAR & MemRead is SET so data memory fetches the data in that physical address and the data is passed to register file's write data. And t0's number will be passed  to write register. This is how data is loaded to memory.\n",
    "\n",
    "\n",
    "#### So 2nd instruction is R-Type. Lets discuss memory accessing.\n",
    "\n",
    "Now the ALUSrc is CLEAR so it indicates Rtype instruction. So s1,t0 number will be passed to read register 1 and read register 2 respectively. And the value of those will be passed through read data 1 and read data 2 respectively. These two data will be passed to ALU. The MemtoRag mux is CLEAR so the output of alu will directly be passed through mux to write data and t0's number will be passed to write register. As we are writing to t0. This is how Rtype will work.\n",
    "\n",
    "#### So 3rd instruction is I -Type. Lets discuss memory accessing.\n",
    "\n",
    "Here ALUSrc is SET indicating Itype instruction. So we pass s2 number to read register 1 thus we can get s2's value through read data 1. And we pass t0's number to read register 2 and we can get t0's data from read data 2. Now the offset is passed through sign extend to transform it from 16 to 32 bit number. s2 contains base address so we pass the read data 1 and 32bit offset to ALU to get physical address. Now the MemtoReg & MemWrite is SET. So we pass the physical address to data memory and pass the value of t0 that we get from read data 2 to data memory. Now data memory writes that data to the given physical address. This is how saving a data works like.\n",
    "\n",
    "\n",
    "![image.png](figures/fig130.PNG)"
   ]
  },
  {
   "cell_type": "markdown",
   "metadata": {},
   "source": [
    "# That's all for this lecture!"
   ]
  }
 ],
 "metadata": {
  "kernelspec": {
   "display_name": "Python 3",
   "language": "python",
   "name": "python3"
  },
  "language_info": {
   "codemirror_mode": {
    "name": "ipython",
    "version": 3
   },
   "file_extension": ".py",
   "mimetype": "text/x-python",
   "name": "python",
   "nbconvert_exporter": "python",
   "pygments_lexer": "ipython3",
   "version": "3.7.6"
  }
 },
 "nbformat": 4,
 "nbformat_minor": 4
}
