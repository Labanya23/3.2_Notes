{
 "cells": [
  {
   "cell_type": "markdown",
   "metadata": {},
   "source": [
    "<div class=\"alert alert-success\">\n",
    "    <b>Author</b>:\n",
    "\n",
    "      Rashik Rahman\n",
    "      17201012@uap-bd.edu\n",
    "\n",
    "</div>\n",
    "\n",
    "\n",
    "# [Click here to see lecture discussion](https://drive.google.com/file/d/18U-sEmA8kCfILyn8kBTk7phyDp8N9Hem/view)\n",
    "\n"
   ]
  },
  {
   "cell_type": "markdown",
   "metadata": {},
   "source": [
    "In I-type instruction we have seen two types of instruction. load from and save to (read & write) from memory. Previously we saw 5 elements but for this instruction we'll need a 6th element, that is data memory. Data memory and instruction memory are different things MIPS architecture. We read and write data from data memory. And instruction memory holds instruction against instruction address. Memread is for reading from memory and MemWrite is for writing to memory. immed is the offset value. To get the physical offset is added to the base address.\n",
    "\n",
    "![image.png](figures/fig119.PNG)\n",
    "\n",
    "To do I-type instruction we need a 7th element called sign extending. It will double the \n",
    "\n",
    "![image.png](figures/fig120.PNG)\n"
   ]
  },
  {
   "cell_type": "markdown",
   "metadata": {},
   "source": [
    "Here first input is address. Depending on MemWrite or MemRead it'll be decided that whether to write to this address or read from this address. If we do read from memory then we need to store the data that was read from memory in a register. So the output is SW. And if we do write operation then the data to write to the address will come to the write data input point. So its SW.\n",
    "\n",
    "![image.png](figures/fig122.PNG)\n"
   ]
  },
  {
   "cell_type": "markdown",
   "metadata": {},
   "source": []
  },
  {
   "cell_type": "markdown",
   "metadata": {},
   "source": []
  },
  {
   "cell_type": "markdown",
   "metadata": {},
   "source": []
  }
 ],
 "metadata": {
  "kernelspec": {
   "display_name": "Python 3",
   "language": "python",
   "name": "python3"
  },
  "language_info": {
   "codemirror_mode": {
    "name": "ipython",
    "version": 3
   },
   "file_extension": ".py",
   "mimetype": "text/x-python",
   "name": "python",
   "nbconvert_exporter": "python",
   "pygments_lexer": "ipython3",
   "version": "3.7.6"
  }
 },
 "nbformat": 4,
 "nbformat_minor": 4
}
