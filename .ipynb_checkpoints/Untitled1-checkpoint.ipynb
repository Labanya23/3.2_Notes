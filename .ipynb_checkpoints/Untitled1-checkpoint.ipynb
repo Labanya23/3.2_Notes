{
 "cells": [
  {
   "cell_type": "code",
   "execution_count": 2,
   "metadata": {},
   "outputs": [
    {
     "data": {
      "text/plain": [
       "['http://t0.gstatic.com/images?q=tbn:ANd9GcSOSCGW8i0PeNa8YJp8jETw_NpfXMk69UPoxf9MERke0Mx1viAE',\n",
       " 'https://en.wikipedia.org/wiki/Dani_Daniels',\n",
       " 'https://www.xnxx.com/search/dani%20danials',\n",
       " 'https://xhamster.com/pornstars/dani-daniels',\n",
       " 'https://xxnx.mobi/xxx/dani-danials.html',\n",
       " 'https://www.xvideos2.com/video45289717/dani_danials',\n",
       " 'https://www.xnxx.es/search/Dani+danials',\n",
       " 'https://www.xnxx.es/search/Dani+danials+xxx+deni',\n",
       " 'https://bigfuck.tv/stars/dani-daniels/',\n",
       " 'https://sxyprn.com/Dani-danials.html?page=90']"
      ]
     },
     "execution_count": 2,
     "metadata": {},
     "output_type": "execute_result"
    }
   ],
   "source": [
    "from googlesearch import search\n",
    "\n",
    "query = 'dani danials'\n",
    "\n",
    "\n",
    "list(search(query, tld = 'co.in', num=10, stop=10,pause=2))"
   ]
  }
 ],
 "metadata": {
  "kernelspec": {
   "display_name": "Python 3",
   "language": "python",
   "name": "python3"
  },
  "language_info": {
   "codemirror_mode": {
    "name": "ipython",
    "version": 3
   },
   "file_extension": ".py",
   "mimetype": "text/x-python",
   "name": "python",
   "nbconvert_exporter": "python",
   "pygments_lexer": "ipython3",
   "version": "3.7.6"
  }
 },
 "nbformat": 4,
 "nbformat_minor": 4
}
